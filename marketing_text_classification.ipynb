{
  "nbformat": 4,
  "nbformat_minor": 0,
  "metadata": {
    "colab": {
      "provenance": [],
      "gpuType": "T4",
      "authorship_tag": "ABX9TyNy7NmkjcGoAN5z6uOfD8Fy",
      "include_colab_link": true
    },
    "kernelspec": {
      "name": "python3",
      "display_name": "Python 3"
    },
    "language_info": {
      "name": "python"
    },
    "accelerator": "GPU"
  },
  "cells": [
    {
      "cell_type": "markdown",
      "metadata": {
        "id": "view-in-github",
        "colab_type": "text"
      },
      "source": [
        "<a href=\"https://colab.research.google.com/github/TOM-BOHN/Customer-Success-Scorecards/blob/main/marketing_text_classification.ipynb\" target=\"_parent\"><img src=\"https://colab.research.google.com/assets/colab-badge.svg\" alt=\"Open In Colab\"/></a>"
      ]
    },
    {
      "cell_type": "markdown",
      "source": [
        "# Marketing Text Classification\n",
        "**Thomas Bohn**   --   **2023-09-12**\n",
        "\n",
        "A report focused on modeling news article categorization for marketing analytics. This notebook focuses on the application of natural language processing, supervised learning with [k-train](https://github.com/amaiya/ktrain) (a wrapper for [Tensorflow](https://www.tensorflow.org/api_docs/python/tf/all_symbols), [Keras](https://keras.io/getting_started/), and [Huggingface Transformers](https://github.com/huggingface/transformers)), and a evaluation of performance.\n",
        "\n",
        "--  [Main Report](https://github.com/TOM-BOHN/Customer-Success-Scorecards/blob/main/marketing_text_classification.ipynb)  --  [Github Repo](https://github.com/TOM-BOHN/MsDS-marketing-text-classification)  --  [Presentation Slides](TBD)  --  [Presentation Video](TBD) --"
      ],
      "metadata": {
        "id": "QUTbSbQOo8Sl"
      }
    },
    {
      "cell_type": "markdown",
      "source": [
        "# 1.&nbsp;Introduction"
      ],
      "metadata": {
        "id": "ycuyeFzqqS2a"
      }
    },
    {
      "cell_type": "markdown",
      "source": [
        "**Context**\n",
        "A media buying company has acquired a new customer [Theragun](https://www.therabody.com/us/en-us/4th-generation-devices/), a company developing wellness products backed by science and developed by medical experts. Theragun knows that consumers who value health and wellness are more likely to consider, and ultimately buy their product. They have requested their media buying company partner identify as many news articles around the web that mention health and wellness. Their goal is to feature advertisements on these pages to reach as many customers as possible.\n",
        "\n",
        "**Background**\n",
        "Text and text documents are one of the richest sources of data for businesses. They are websites, pdfs, news articles, etc. A strategy utilized by marketing firms is contextual advertising. It focused on using marketing analytics to find URLs that match the context required to target an advertisement to potential customers. The main challenge is to build an algorithm that successfully predicts the probability that a website is related to the desired context. The final trained model can be used to identify tags for untracked websites or to identify the type of language used in different websites.\n",
        "\n",
        "**Data Source**\n",
        "The dataset contains around 200k news headlines from the year 2012 to 2018 obtained from [HuffPost](https://www.huffpost.com/). It can be sourced [here](https://drive.google.com/file/d/1jnucfZWLPmxG4UzPtgd-dRe_Z9tPo60V/view?usp=sharing).\n",
        "\n",
        "**Categories**\n",
        "Each news headline has a corresponding category. The articles are labeled under one of ??? categories. A sample of the categories is as follows:\n",
        "- WELLNESS: 17827\n",
        "- HEALTHY LIVING: 6694\n",
        "- ...\n",
        "- POLITICS: 32739\n",
        "- TECH: 2082\n",
        "\n",
        "**Overview of Observations**\n",
        "The dataset is broken into 1490 records for training and 735 for testing. Each observation is the full text of the article with an associated article id [1]. The text files need to be broaken out into features. The training dataset indicates the category. No category is provided for the test dataset.\n",
        "\n",
        "**Objective**\n",
        "The objective is to build a deep learning algorithm that predicts the probability that a news story is about health and wellness. Final evaluation will use Sensativity (also known as \"Recall\") to maximize the number of targeted news articles. Sensativity is the percent of cases where the model prediction is correct, when the actual value is positive.\n",
        "\n",
        "**Report Overview**\n",
        "The project will cover 5 key phases:\n",
        "1. Exploratory Data Analysis (EDA)\n",
        "2. Data Cleaning\n",
        "3. Extracting Word Features with Natural Language Processing (NLP) Tools\n",
        "4. Building and Training an Unsupervised Non-Negative Matrix Factorization (NMF) Model\n",
        "5. Build and Compare a Random Forest Supervised Learning Model"
      ],
      "metadata": {
        "id": "QGt8-m95qWVg"
      }
    },
    {
      "cell_type": "markdown",
      "source": [
        "## Python Libraries\n",
        "\n",
        "The following python libraries are used in this notebook."
      ],
      "metadata": {
        "id": "jVJqIDUNqZJS"
      }
    },
    {
      "cell_type": "code",
      "source": [
        "# File Connection and File Manipulation\n",
        "import os\n",
        "import time\n",
        "import pickle\n",
        "import json\n",
        "import glob\n",
        "# Basic Data Science Toolkits\n",
        "import pandas as pd\n",
        "import numpy as np\n",
        "import math\n",
        "import time\n",
        "# Basic Data Vizualization\n",
        "import seaborn as sns\n",
        "import matplotlib.pyplot as plt\n",
        "# Import Data Model Evaluations\n",
        "from sklearn.model_selection import train_test_split\n",
        "from sklearn import metrics\n",
        "# NLP Tokenizer\n",
        "from keras.preprocessing.text import Tokenizer\n",
        "# Google's Tensorflow package\n",
        "# https://www.tensorflow.org/tutorials\n",
        "import tensorflow as tf\n",
        "print(tf.__version__)\n",
        "# API wrapper for Tensorflow called ktrain\n",
        "# https://github.com/amaiya/ktrain\n",
        "try:\n",
        "  import ktrain\n",
        "except:\n",
        "  !pip install ktrain\n",
        "  os.kill(os.getpid(), 9)\n",
        "from ktrain import text\n",
        "from ktrain.text import texts_from_df\n",
        "#NLP Text Cleanup\n",
        "import re\n",
        "import nltk\n",
        "import nltk.corpus\n",
        "from nltk.corpus import stopwords\n",
        "\n",
        "# NLP Tokenizer and Lemmatizer\n",
        "import nltk\n",
        "import nltk.corpus\n",
        "from nltk.corpus import wordnet\n",
        "from nltk.tokenize import word_tokenize\n",
        "from nltk.stem import WordNetLemmatizer\n",
        "from string import digits"
      ],
      "metadata": {
        "colab": {
          "base_uri": "https://localhost:8080/"
        },
        "id": "tpX5-IsiqW9c",
        "outputId": "4ceb1f0f-d0ce-47de-d963-ebdc036411f0"
      },
      "execution_count": 1,
      "outputs": [
        {
          "output_type": "stream",
          "name": "stdout",
          "text": [
            "2.13.0\n"
          ]
        }
      ]
    },
    {
      "cell_type": "markdown",
      "source": [
        "## Installing NLTK Data"
      ],
      "metadata": {
        "id": "oQyCixM8Vpqu"
      }
    },
    {
      "cell_type": "code",
      "source": [
        "#Install the necessary datasets/models for specific functions to work\n",
        "nltk.download('stopwords')\n",
        "nltk.download('wordnet')\n",
        "nltk.download('brown')"
      ],
      "metadata": {
        "colab": {
          "base_uri": "https://localhost:8080/"
        },
        "id": "uZGfXxZZVp57",
        "outputId": "d44cb3c3-448d-4f27-ae95-cebecc5e58c5"
      },
      "execution_count": 2,
      "outputs": [
        {
          "output_type": "stream",
          "name": "stderr",
          "text": [
            "[nltk_data] Downloading package stopwords to /root/nltk_data...\n",
            "[nltk_data]   Package stopwords is already up-to-date!\n",
            "[nltk_data] Downloading package wordnet to /root/nltk_data...\n",
            "[nltk_data]   Package wordnet is already up-to-date!\n",
            "[nltk_data] Downloading package brown to /root/nltk_data...\n",
            "[nltk_data]   Package brown is already up-to-date!\n"
          ]
        },
        {
          "output_type": "execute_result",
          "data": {
            "text/plain": [
              "True"
            ]
          },
          "metadata": {},
          "execution_count": 2
        }
      ]
    },
    {
      "cell_type": "code",
      "source": [
        "# Test to confirm the download worked\n",
        "from nltk.corpus import brown\n",
        "brown.words()\n",
        "#dir(nltk)"
      ],
      "metadata": {
        "colab": {
          "base_uri": "https://localhost:8080/"
        },
        "id": "32ppP0N8V-eX",
        "outputId": "d216f91f-4726-4f6e-8ed8-a129d69d8892"
      },
      "execution_count": 3,
      "outputs": [
        {
          "output_type": "execute_result",
          "data": {
            "text/plain": [
              "['The', 'Fulton', 'County', 'Grand', 'Jury', 'said', ...]"
            ]
          },
          "metadata": {},
          "execution_count": 3
        }
      ]
    },
    {
      "cell_type": "markdown",
      "source": [
        "## Verify GPU Runtime"
      ],
      "metadata": {
        "id": "DTETrC4hyPRP"
      }
    },
    {
      "cell_type": "code",
      "source": [
        "gpu_info = !nvidia-smi\n",
        "gpu_info = '\\n'.join(gpu_info)\n",
        "if gpu_info.find('failed') >= 0:\n",
        "  print('Not connected to a GPU')\n",
        "else:\n",
        "  print(gpu_info)"
      ],
      "metadata": {
        "colab": {
          "base_uri": "https://localhost:8080/"
        },
        "id": "8U2wuc7UyQV6",
        "outputId": "3baf5efc-40e2-42c3-82a2-ffd0625ab7c3"
      },
      "execution_count": 4,
      "outputs": [
        {
          "output_type": "stream",
          "name": "stdout",
          "text": [
            "Tue Sep 12 17:43:29 2023       \n",
            "+-----------------------------------------------------------------------------+\n",
            "| NVIDIA-SMI 525.105.17   Driver Version: 525.105.17   CUDA Version: 12.0     |\n",
            "|-------------------------------+----------------------+----------------------+\n",
            "| GPU  Name        Persistence-M| Bus-Id        Disp.A | Volatile Uncorr. ECC |\n",
            "| Fan  Temp  Perf  Pwr:Usage/Cap|         Memory-Usage | GPU-Util  Compute M. |\n",
            "|                               |                      |               MIG M. |\n",
            "|===============================+======================+======================|\n",
            "|   0  Tesla T4            Off  | 00000000:00:04.0 Off |                    0 |\n",
            "| N/A   54C    P8    10W /  70W |      0MiB / 15360MiB |      0%      Default |\n",
            "|                               |                      |                  N/A |\n",
            "+-------------------------------+----------------------+----------------------+\n",
            "                                                                               \n",
            "+-----------------------------------------------------------------------------+\n",
            "| Processes:                                                                  |\n",
            "|  GPU   GI   CI        PID   Type   Process name                  GPU Memory |\n",
            "|        ID   ID                                                   Usage      |\n",
            "|=============================================================================|\n",
            "|  No running processes found                                                 |\n",
            "+-----------------------------------------------------------------------------+\n"
          ]
        }
      ]
    },
    {
      "cell_type": "markdown",
      "source": [
        "## Mount Google Drive"
      ],
      "metadata": {
        "id": "wVelwR_Hqu2q"
      }
    },
    {
      "cell_type": "code",
      "source": [
        "from google.colab import drive\n",
        "drive.mount('/content/drive')"
      ],
      "metadata": {
        "colab": {
          "base_uri": "https://localhost:8080/"
        },
        "id": "ulrlaLy_q1lQ",
        "outputId": "e930f864-7c33-4374-f176-da39a3f0905c"
      },
      "execution_count": 5,
      "outputs": [
        {
          "output_type": "stream",
          "name": "stdout",
          "text": [
            "Drive already mounted at /content/drive; to attempt to forcibly remount, call drive.mount(\"/content/drive\", force_remount=True).\n"
          ]
        }
      ]
    },
    {
      "cell_type": "markdown",
      "source": [
        "## Setup Directories"
      ],
      "metadata": {
        "id": "AD_c3aj3yvBS"
      }
    },
    {
      "cell_type": "code",
      "source": [
        "ROOT_DIR = \"/content/drive/MyDrive/MSDS_marketing_text_analytics/master_files/1_text_classification\"\n",
        "DATA_DIR = \"%s/data\" % ROOT_DIR\n",
        "EVAL_DIR = \"%s/evaluation\" % ROOT_DIR\n",
        "MODEL_DIR = \"%s/models\" % ROOT_DIR\n",
        "\n",
        "#Create missing directories, if they don't exist\n",
        "if not os.path.exists(DATA_DIR):\n",
        "  # Create a new directory because it does not exist\n",
        "  os.makedirs(DATA_DIR)\n",
        "  print(\"The data directory is created!\")\n",
        "if not os.path.exists(EVAL_DIR):\n",
        "  # Create a new directory because it does not exist\n",
        "  os.makedirs(EVAL_DIR)\n",
        "  print(\"The evaluation directory is created!\")\n",
        "if not os.path.exists(MODEL_DIR):\n",
        "  # Create a new directory because it does not exist\n",
        "  os.makedirs(MODEL_DIR)\n",
        "  print(\"The model directory is created!\")"
      ],
      "metadata": {
        "id": "YuhOnwioyvYZ"
      },
      "execution_count": 6,
      "outputs": []
    },
    {
      "cell_type": "markdown",
      "source": [
        "# 2.&nbsp;Data Source"
      ],
      "metadata": {
        "id": "huqyc2AFq_bf"
      }
    },
    {
      "cell_type": "markdown",
      "source": [
        "## Copy Data From Source"
      ],
      "metadata": {
        "id": "SD50mhL43-Zo"
      }
    },
    {
      "cell_type": "code",
      "source": [
        "#!wget <URL> -P <COLAB PATH>\n",
        "source_url = 'https://docs.google.com/uc?export=download&id=1jnucfZWLPmxG4UzPtgd-dRe_Z9tPo60V'\n",
        "dest_url = \"%s/news_category_trainingdata.json\" % DATA_DIR\n",
        "!wget -O \"$file_name\" \"$source_url\" -O \"$dest_url\""
      ],
      "metadata": {
        "colab": {
          "base_uri": "https://localhost:8080/"
        },
        "id": "TR17BCZPzo8D",
        "outputId": "933c076a-65ef-4dcd-8705-2218cd4af3be"
      },
      "execution_count": 7,
      "outputs": [
        {
          "output_type": "stream",
          "name": "stdout",
          "text": [
            "No such file or directory\n"
          ]
        }
      ]
    },
    {
      "cell_type": "markdown",
      "source": [
        "## Load the Data"
      ],
      "metadata": {
        "id": "U1OtqK7b4J4K"
      }
    },
    {
      "cell_type": "code",
      "source": [
        "# Read the data into a datframe\n",
        "df_news = pd.read_json(dest_url)"
      ],
      "metadata": {
        "id": "hgF8f3vn4G9P"
      },
      "execution_count": 8,
      "outputs": []
    },
    {
      "cell_type": "code",
      "source": [
        "# Merge two text column for the model\n",
        "df_news['combined_text'] = df_news['headline'] + ' ' + df_news['short_description']\n",
        "# Create a flag of welness related articles\n",
        "cat_list_wellness = ['HEALTHY LIVING', 'WELLNESS']\n",
        "df_news['wellness'] = np.where((df_news['category'].isin(cat_list_wellness)), 1, 0)"
      ],
      "metadata": {
        "id": "dHYFE7a658n3"
      },
      "execution_count": 9,
      "outputs": []
    },
    {
      "cell_type": "code",
      "source": [
        "# Preview the new dataframe\n",
        "df_news.head()"
      ],
      "metadata": {
        "colab": {
          "base_uri": "https://localhost:8080/",
          "height": 466
        },
        "id": "aWuexr23UetE",
        "outputId": "4128ba55-843e-4e25-bf02-86f1e4b43c54"
      },
      "execution_count": 10,
      "outputs": [
        {
          "output_type": "execute_result",
          "data": {
            "text/plain": [
              "        category                                           headline  \\\n",
              "0          CRIME  There Were 2 Mass Shootings In Texas Last Week...   \n",
              "1  ENTERTAINMENT  Will Smith Joins Diplo And Nicky Jam For The 2...   \n",
              "2  ENTERTAINMENT    Hugh Grant Marries For The First Time At Age 57   \n",
              "3  ENTERTAINMENT  Jim Carrey Blasts 'Castrato' Adam Schiff And D...   \n",
              "4  ENTERTAINMENT  Julianna Margulies Uses Donald Trump Poop Bags...   \n",
              "\n",
              "           authors                                               link  \\\n",
              "0  Melissa Jeltsen  https://www.huffingtonpost.com/entry/texas-ama...   \n",
              "1    Andy McDonald  https://www.huffingtonpost.com/entry/will-smit...   \n",
              "2       Ron Dicker  https://www.huffingtonpost.com/entry/hugh-gran...   \n",
              "3       Ron Dicker  https://www.huffingtonpost.com/entry/jim-carre...   \n",
              "4       Ron Dicker  https://www.huffingtonpost.com/entry/julianna-...   \n",
              "\n",
              "                                   short_description       date  \\\n",
              "0  She left her husband. He killed their children... 2018-05-26   \n",
              "1                           Of course it has a song. 2018-05-26   \n",
              "2  The actor and his longtime girlfriend Anna Ebe... 2018-05-26   \n",
              "3  The actor gives Dems an ass-kicking for not fi... 2018-05-26   \n",
              "4  The \"Dietland\" actress said using the bags is ... 2018-05-26   \n",
              "\n",
              "                                       combined_text  wellness  \n",
              "0  There Were 2 Mass Shootings In Texas Last Week...         0  \n",
              "1  Will Smith Joins Diplo And Nicky Jam For The 2...         0  \n",
              "2  Hugh Grant Marries For The First Time At Age 5...         0  \n",
              "3  Jim Carrey Blasts 'Castrato' Adam Schiff And D...         0  \n",
              "4  Julianna Margulies Uses Donald Trump Poop Bags...         0  "
            ],
            "text/html": [
              "\n",
              "  <div id=\"df-7eb522df-78fc-4135-b009-5aeb66c10ddf\" class=\"colab-df-container\">\n",
              "    <div>\n",
              "<style scoped>\n",
              "    .dataframe tbody tr th:only-of-type {\n",
              "        vertical-align: middle;\n",
              "    }\n",
              "\n",
              "    .dataframe tbody tr th {\n",
              "        vertical-align: top;\n",
              "    }\n",
              "\n",
              "    .dataframe thead th {\n",
              "        text-align: right;\n",
              "    }\n",
              "</style>\n",
              "<table border=\"1\" class=\"dataframe\">\n",
              "  <thead>\n",
              "    <tr style=\"text-align: right;\">\n",
              "      <th></th>\n",
              "      <th>category</th>\n",
              "      <th>headline</th>\n",
              "      <th>authors</th>\n",
              "      <th>link</th>\n",
              "      <th>short_description</th>\n",
              "      <th>date</th>\n",
              "      <th>combined_text</th>\n",
              "      <th>wellness</th>\n",
              "    </tr>\n",
              "  </thead>\n",
              "  <tbody>\n",
              "    <tr>\n",
              "      <th>0</th>\n",
              "      <td>CRIME</td>\n",
              "      <td>There Were 2 Mass Shootings In Texas Last Week...</td>\n",
              "      <td>Melissa Jeltsen</td>\n",
              "      <td>https://www.huffingtonpost.com/entry/texas-ama...</td>\n",
              "      <td>She left her husband. He killed their children...</td>\n",
              "      <td>2018-05-26</td>\n",
              "      <td>There Were 2 Mass Shootings In Texas Last Week...</td>\n",
              "      <td>0</td>\n",
              "    </tr>\n",
              "    <tr>\n",
              "      <th>1</th>\n",
              "      <td>ENTERTAINMENT</td>\n",
              "      <td>Will Smith Joins Diplo And Nicky Jam For The 2...</td>\n",
              "      <td>Andy McDonald</td>\n",
              "      <td>https://www.huffingtonpost.com/entry/will-smit...</td>\n",
              "      <td>Of course it has a song.</td>\n",
              "      <td>2018-05-26</td>\n",
              "      <td>Will Smith Joins Diplo And Nicky Jam For The 2...</td>\n",
              "      <td>0</td>\n",
              "    </tr>\n",
              "    <tr>\n",
              "      <th>2</th>\n",
              "      <td>ENTERTAINMENT</td>\n",
              "      <td>Hugh Grant Marries For The First Time At Age 57</td>\n",
              "      <td>Ron Dicker</td>\n",
              "      <td>https://www.huffingtonpost.com/entry/hugh-gran...</td>\n",
              "      <td>The actor and his longtime girlfriend Anna Ebe...</td>\n",
              "      <td>2018-05-26</td>\n",
              "      <td>Hugh Grant Marries For The First Time At Age 5...</td>\n",
              "      <td>0</td>\n",
              "    </tr>\n",
              "    <tr>\n",
              "      <th>3</th>\n",
              "      <td>ENTERTAINMENT</td>\n",
              "      <td>Jim Carrey Blasts 'Castrato' Adam Schiff And D...</td>\n",
              "      <td>Ron Dicker</td>\n",
              "      <td>https://www.huffingtonpost.com/entry/jim-carre...</td>\n",
              "      <td>The actor gives Dems an ass-kicking for not fi...</td>\n",
              "      <td>2018-05-26</td>\n",
              "      <td>Jim Carrey Blasts 'Castrato' Adam Schiff And D...</td>\n",
              "      <td>0</td>\n",
              "    </tr>\n",
              "    <tr>\n",
              "      <th>4</th>\n",
              "      <td>ENTERTAINMENT</td>\n",
              "      <td>Julianna Margulies Uses Donald Trump Poop Bags...</td>\n",
              "      <td>Ron Dicker</td>\n",
              "      <td>https://www.huffingtonpost.com/entry/julianna-...</td>\n",
              "      <td>The \"Dietland\" actress said using the bags is ...</td>\n",
              "      <td>2018-05-26</td>\n",
              "      <td>Julianna Margulies Uses Donald Trump Poop Bags...</td>\n",
              "      <td>0</td>\n",
              "    </tr>\n",
              "  </tbody>\n",
              "</table>\n",
              "</div>\n",
              "    <div class=\"colab-df-buttons\">\n",
              "\n",
              "  <div class=\"colab-df-container\">\n",
              "    <button class=\"colab-df-convert\" onclick=\"convertToInteractive('df-7eb522df-78fc-4135-b009-5aeb66c10ddf')\"\n",
              "            title=\"Convert this dataframe to an interactive table.\"\n",
              "            style=\"display:none;\">\n",
              "\n",
              "  <svg xmlns=\"http://www.w3.org/2000/svg\" height=\"24px\" viewBox=\"0 -960 960 960\">\n",
              "    <path d=\"M120-120v-720h720v720H120Zm60-500h600v-160H180v160Zm220 220h160v-160H400v160Zm0 220h160v-160H400v160ZM180-400h160v-160H180v160Zm440 0h160v-160H620v160ZM180-180h160v-160H180v160Zm440 0h160v-160H620v160Z\"/>\n",
              "  </svg>\n",
              "    </button>\n",
              "\n",
              "  <style>\n",
              "    .colab-df-container {\n",
              "      display:flex;\n",
              "      gap: 12px;\n",
              "    }\n",
              "\n",
              "    .colab-df-convert {\n",
              "      background-color: #E8F0FE;\n",
              "      border: none;\n",
              "      border-radius: 50%;\n",
              "      cursor: pointer;\n",
              "      display: none;\n",
              "      fill: #1967D2;\n",
              "      height: 32px;\n",
              "      padding: 0 0 0 0;\n",
              "      width: 32px;\n",
              "    }\n",
              "\n",
              "    .colab-df-convert:hover {\n",
              "      background-color: #E2EBFA;\n",
              "      box-shadow: 0px 1px 2px rgba(60, 64, 67, 0.3), 0px 1px 3px 1px rgba(60, 64, 67, 0.15);\n",
              "      fill: #174EA6;\n",
              "    }\n",
              "\n",
              "    .colab-df-buttons div {\n",
              "      margin-bottom: 4px;\n",
              "    }\n",
              "\n",
              "    [theme=dark] .colab-df-convert {\n",
              "      background-color: #3B4455;\n",
              "      fill: #D2E3FC;\n",
              "    }\n",
              "\n",
              "    [theme=dark] .colab-df-convert:hover {\n",
              "      background-color: #434B5C;\n",
              "      box-shadow: 0px 1px 3px 1px rgba(0, 0, 0, 0.15);\n",
              "      filter: drop-shadow(0px 1px 2px rgba(0, 0, 0, 0.3));\n",
              "      fill: #FFFFFF;\n",
              "    }\n",
              "  </style>\n",
              "\n",
              "    <script>\n",
              "      const buttonEl =\n",
              "        document.querySelector('#df-7eb522df-78fc-4135-b009-5aeb66c10ddf button.colab-df-convert');\n",
              "      buttonEl.style.display =\n",
              "        google.colab.kernel.accessAllowed ? 'block' : 'none';\n",
              "\n",
              "      async function convertToInteractive(key) {\n",
              "        const element = document.querySelector('#df-7eb522df-78fc-4135-b009-5aeb66c10ddf');\n",
              "        const dataTable =\n",
              "          await google.colab.kernel.invokeFunction('convertToInteractive',\n",
              "                                                    [key], {});\n",
              "        if (!dataTable) return;\n",
              "\n",
              "        const docLinkHtml = 'Like what you see? Visit the ' +\n",
              "          '<a target=\"_blank\" href=https://colab.research.google.com/notebooks/data_table.ipynb>data table notebook</a>'\n",
              "          + ' to learn more about interactive tables.';\n",
              "        element.innerHTML = '';\n",
              "        dataTable['output_type'] = 'display_data';\n",
              "        await google.colab.output.renderOutput(dataTable, element);\n",
              "        const docLink = document.createElement('div');\n",
              "        docLink.innerHTML = docLinkHtml;\n",
              "        element.appendChild(docLink);\n",
              "      }\n",
              "    </script>\n",
              "  </div>\n",
              "\n",
              "\n",
              "<div id=\"df-d9713f52-2152-4a80-b40a-6d5fb782c99f\">\n",
              "  <button class=\"colab-df-quickchart\" onclick=\"quickchart('df-d9713f52-2152-4a80-b40a-6d5fb782c99f')\"\n",
              "            title=\"Suggest charts.\"\n",
              "            style=\"display:none;\">\n",
              "\n",
              "<svg xmlns=\"http://www.w3.org/2000/svg\" height=\"24px\"viewBox=\"0 0 24 24\"\n",
              "     width=\"24px\">\n",
              "    <g>\n",
              "        <path d=\"M19 3H5c-1.1 0-2 .9-2 2v14c0 1.1.9 2 2 2h14c1.1 0 2-.9 2-2V5c0-1.1-.9-2-2-2zM9 17H7v-7h2v7zm4 0h-2V7h2v10zm4 0h-2v-4h2v4z\"/>\n",
              "    </g>\n",
              "</svg>\n",
              "  </button>\n",
              "\n",
              "<style>\n",
              "  .colab-df-quickchart {\n",
              "      --bg-color: #E8F0FE;\n",
              "      --fill-color: #1967D2;\n",
              "      --hover-bg-color: #E2EBFA;\n",
              "      --hover-fill-color: #174EA6;\n",
              "      --disabled-fill-color: #AAA;\n",
              "      --disabled-bg-color: #DDD;\n",
              "  }\n",
              "\n",
              "  [theme=dark] .colab-df-quickchart {\n",
              "      --bg-color: #3B4455;\n",
              "      --fill-color: #D2E3FC;\n",
              "      --hover-bg-color: #434B5C;\n",
              "      --hover-fill-color: #FFFFFF;\n",
              "      --disabled-bg-color: #3B4455;\n",
              "      --disabled-fill-color: #666;\n",
              "  }\n",
              "\n",
              "  .colab-df-quickchart {\n",
              "    background-color: var(--bg-color);\n",
              "    border: none;\n",
              "    border-radius: 50%;\n",
              "    cursor: pointer;\n",
              "    display: none;\n",
              "    fill: var(--fill-color);\n",
              "    height: 32px;\n",
              "    padding: 0;\n",
              "    width: 32px;\n",
              "  }\n",
              "\n",
              "  .colab-df-quickchart:hover {\n",
              "    background-color: var(--hover-bg-color);\n",
              "    box-shadow: 0 1px 2px rgba(60, 64, 67, 0.3), 0 1px 3px 1px rgba(60, 64, 67, 0.15);\n",
              "    fill: var(--button-hover-fill-color);\n",
              "  }\n",
              "\n",
              "  .colab-df-quickchart-complete:disabled,\n",
              "  .colab-df-quickchart-complete:disabled:hover {\n",
              "    background-color: var(--disabled-bg-color);\n",
              "    fill: var(--disabled-fill-color);\n",
              "    box-shadow: none;\n",
              "  }\n",
              "\n",
              "  .colab-df-spinner {\n",
              "    border: 2px solid var(--fill-color);\n",
              "    border-color: transparent;\n",
              "    border-bottom-color: var(--fill-color);\n",
              "    animation:\n",
              "      spin 1s steps(1) infinite;\n",
              "  }\n",
              "\n",
              "  @keyframes spin {\n",
              "    0% {\n",
              "      border-color: transparent;\n",
              "      border-bottom-color: var(--fill-color);\n",
              "      border-left-color: var(--fill-color);\n",
              "    }\n",
              "    20% {\n",
              "      border-color: transparent;\n",
              "      border-left-color: var(--fill-color);\n",
              "      border-top-color: var(--fill-color);\n",
              "    }\n",
              "    30% {\n",
              "      border-color: transparent;\n",
              "      border-left-color: var(--fill-color);\n",
              "      border-top-color: var(--fill-color);\n",
              "      border-right-color: var(--fill-color);\n",
              "    }\n",
              "    40% {\n",
              "      border-color: transparent;\n",
              "      border-right-color: var(--fill-color);\n",
              "      border-top-color: var(--fill-color);\n",
              "    }\n",
              "    60% {\n",
              "      border-color: transparent;\n",
              "      border-right-color: var(--fill-color);\n",
              "    }\n",
              "    80% {\n",
              "      border-color: transparent;\n",
              "      border-right-color: var(--fill-color);\n",
              "      border-bottom-color: var(--fill-color);\n",
              "    }\n",
              "    90% {\n",
              "      border-color: transparent;\n",
              "      border-bottom-color: var(--fill-color);\n",
              "    }\n",
              "  }\n",
              "</style>\n",
              "\n",
              "  <script>\n",
              "    async function quickchart(key) {\n",
              "      const quickchartButtonEl =\n",
              "        document.querySelector('#' + key + ' button');\n",
              "      quickchartButtonEl.disabled = true;  // To prevent multiple clicks.\n",
              "      quickchartButtonEl.classList.add('colab-df-spinner');\n",
              "      try {\n",
              "        const charts = await google.colab.kernel.invokeFunction(\n",
              "            'suggestCharts', [key], {});\n",
              "      } catch (error) {\n",
              "        console.error('Error during call to suggestCharts:', error);\n",
              "      }\n",
              "      quickchartButtonEl.classList.remove('colab-df-spinner');\n",
              "      quickchartButtonEl.classList.add('colab-df-quickchart-complete');\n",
              "    }\n",
              "    (() => {\n",
              "      let quickchartButtonEl =\n",
              "        document.querySelector('#df-d9713f52-2152-4a80-b40a-6d5fb782c99f button');\n",
              "      quickchartButtonEl.style.display =\n",
              "        google.colab.kernel.accessAllowed ? 'block' : 'none';\n",
              "    })();\n",
              "  </script>\n",
              "</div>\n",
              "    </div>\n",
              "  </div>\n"
            ]
          },
          "metadata": {},
          "execution_count": 10
        }
      ]
    },
    {
      "cell_type": "markdown",
      "source": [
        "# 3.&nbsp;Exploratory Data Analysis (EDA)"
      ],
      "metadata": {
        "id": "mD-AI9LcrCXi"
      }
    },
    {
      "cell_type": "markdown",
      "source": [
        "## Review the Content of One Observation"
      ],
      "metadata": {
        "id": "Hlemp8SxXqCV"
      }
    },
    {
      "cell_type": "code",
      "source": [
        "# show the content of one Article in the data source\n",
        "idx = 0\n",
        "print('category:', df_news['category'][idx], '\\t wellness:', df_news['wellness'][idx],'\\n')\n",
        "print('headline:', df_news['headline'][idx], '\\n')\n",
        "print('short_description:', df_news['short_description'][idx], '\\n')\n",
        "print('combined_text:', df_news['combined_text'][idx], '\\n')"
      ],
      "metadata": {
        "colab": {
          "base_uri": "https://localhost:8080/"
        },
        "id": "ktQc_GyMXqLs",
        "outputId": "8a10ad84-ab85-48d8-8678-049ec5898ab9"
      },
      "execution_count": 11,
      "outputs": [
        {
          "output_type": "stream",
          "name": "stdout",
          "text": [
            "category: CRIME \t wellness: 0 \n",
            "\n",
            "headline: There Were 2 Mass Shootings In Texas Last Week, But Only 1 On TV \n",
            "\n",
            "short_description: She left her husband. He killed their children. Just another day in America. \n",
            "\n",
            "combined_text: There Were 2 Mass Shootings In Texas Last Week, But Only 1 On TV She left her husband. He killed their children. Just another day in America. \n",
            "\n"
          ]
        }
      ]
    },
    {
      "cell_type": "markdown",
      "source": [
        "## Review the Distribution of Categories"
      ],
      "metadata": {
        "id": "UyDXvG08rJR2"
      }
    },
    {
      "cell_type": "code",
      "source": [
        "# Create a summary of the categories\n",
        "df_cat_count = pd.DataFrame(df_news['category'].value_counts()).reset_index()\n",
        "df_cat_count.reset_index()\n",
        "df_cat_count.columns = ['category', 'count']\n",
        "# Derive Stats vand Lists\n",
        "cat_list = list(df_cat_count['category'].unique())\n",
        "cat_list_wellness = ['HEALTHY LIVING', 'WELLNESS']\n",
        "cat_list_not_wellness = list(set(cat_list) - set(cat_list_wellness))\n",
        "total_categories = len(cat_list)\n",
        "total_wellness_cats = len(cat_list_wellness)\n",
        "total_not_wellness_cats = len(cat_list_not_wellness)\n",
        "# Print a Summary\n",
        "print('Total Categories:', total_categories)\n",
        "print('Wellness Categories:', total_wellness_cats, '\\n\\tList:', cat_list_wellness)\n",
        "print('Non-Wellness Categories:', total_not_wellness_cats, '\\n\\tList:', cat_list_not_wellness)"
      ],
      "metadata": {
        "colab": {
          "base_uri": "https://localhost:8080/"
        },
        "id": "CDQMNvSq7rFV",
        "outputId": "ac16d77b-bde5-4ec4-e4b5-dd357a2563ad"
      },
      "execution_count": 12,
      "outputs": [
        {
          "output_type": "stream",
          "name": "stdout",
          "text": [
            "Total Categories: 41\n",
            "Wellness Categories: 2 \n",
            "\tList: ['HEALTHY LIVING', 'WELLNESS']\n",
            "Non-Wellness Categories: 39 \n",
            "\tList: ['WORLDPOST', 'PARENTS', 'TECH', 'WORLD NEWS', 'BLACK VOICES', 'CULTURE & ARTS', 'SPORTS', 'BUSINESS', 'GREEN', 'IMPACT', 'WOMEN', 'MEDIA', 'FOOD & DRINK', 'STYLE & BEAUTY', 'LATINO VOICES', 'PARENTING', 'WEIRD NEWS', 'COLLEGE', 'QUEER VOICES', 'ENTERTAINMENT', 'EDUCATION', 'COMEDY', 'STYLE', 'FIFTY', 'DIVORCE', 'MONEY', 'POLITICS', 'GOOD NEWS', 'CRIME', 'HOME & LIVING', 'WEDDINGS', 'SCIENCE', 'ARTS & CULTURE', 'THE WORLDPOST', 'ENVIRONMENT', 'TRAVEL', 'TASTE', 'RELIGION', 'ARTS']\n"
          ]
        }
      ]
    },
    {
      "cell_type": "code",
      "source": [
        "# Create a summary bar chart of categories\n",
        "f = plt.figure(figsize=(6,4))\n",
        "cols = ['orange' if (y in ['WELLNESS', 'HEALTHY LIVING']) else 'grey' for y in df_cat_count['category']]\n",
        "sns.barplot(x = 'count',\n",
        "            y = 'category',\n",
        "            data = df_cat_count.head(20),\n",
        "            palette=cols\n",
        "            ).set(title='Top 20 Categories',)\n",
        "plt.show()"
      ],
      "metadata": {
        "colab": {
          "base_uri": "https://localhost:8080/",
          "height": 410
        },
        "id": "5BL2RM3DOk6h",
        "outputId": "914a3c60-312c-49af-9dbe-a5aeb5b5f244"
      },
      "execution_count": 13,
      "outputs": [
        {
          "output_type": "display_data",
          "data": {
            "text/plain": [
              "<Figure size 600x400 with 1 Axes>"
            ],
            "image/png": "[encoded data removed]"
          },
          "metadata": {}
        }
      ]
    },
    {
      "cell_type": "code",
      "source": [
        "# Preview the Split of Data\n",
        "df_news['wellness'].value_counts()"
      ],
      "metadata": {
        "colab": {
          "base_uri": "https://localhost:8080/"
        },
        "id": "P_dtg_ot7nAi",
        "outputId": "965db021-0776-45a4-f7e5-2d56112d2ee2"
      },
      "execution_count": 14,
      "outputs": [
        {
          "output_type": "execute_result",
          "data": {
            "text/plain": [
              "0    176332\n",
              "1     24521\n",
              "Name: wellness, dtype: int64"
            ]
          },
          "metadata": {},
          "execution_count": 14
        }
      ]
    },
    {
      "cell_type": "code",
      "source": [
        "# Create a summary of the categories\n",
        "df_wellness_count = pd.DataFrame(df_news['wellness'].value_counts()).reset_index()\n",
        "df_wellness_count.columns = ['category', 'count']\n",
        "dict_target_names = {0: 'NOT WELLNESS', 1: 'WELLNESS'}\n",
        "df_wellness_count['category'].replace(dict_target_names, inplace=True)\n",
        "# Create a summary bar chart of categories\n",
        "f = plt.figure(figsize=(6,1))\n",
        "sns.barplot(x = 'count',\n",
        "            y = 'category',\n",
        "            data = df_wellness_count,\n",
        "            color = 'steelblue'\n",
        "            ).set(title='Data Category Distribution',)\n",
        "plt.show()"
      ],
      "metadata": {
        "colab": {
          "base_uri": "https://localhost:8080/",
          "height": 179
        },
        "id": "pQZszWpWRaoH",
        "outputId": "94bcd609-9c09-48da-fdba-12f33a0605ee"
      },
      "execution_count": 15,
      "outputs": [
        {
          "output_type": "display_data",
          "data": {
            "text/plain": [
              "<Figure size 600x100 with 1 Axes>"
            ],
            "image/png": "[encoded data removed]"
          },
          "metadata": {}
        }
      ]
    },
    {
      "cell_type": "markdown",
      "source": [
        "The categories are unevenly distributed across the categories. To ensure a proper mix of articles from each category, a stratified sample should be conducted to maintain the distribution, but scale down the volume of records. An equal number of wellness and non-wellness articles should be included in the sampled data."
      ],
      "metadata": {
        "id": "BxwSUjbxTjzb"
      }
    },
    {
      "cell_type": "markdown",
      "source": [
        "## Review of the Text"
      ],
      "metadata": {
        "id": "IOC_ylsLrPHc"
      }
    },
    {
      "cell_type": "code",
      "source": [
        "# add a length column to the dataframe\n",
        "df_news['text_length'] = df_news['combined_text'].apply(len)\n",
        "#create a figure\n",
        "fig, ax = plt.subplots(figsize = (6,3))\n",
        "# create a histogram of the length of text\n",
        "#chart = plt.hist(x = df_s['Text Length'])\n",
        "chart = sns.histplot(x = df_news['text_length'], kde=True)\n",
        "# Customising legend\n",
        "ax.set_title('Histogram of Text Length', fontsize=10)\n",
        "ax.set_xlabel('Text Length', fontsize=8)\n",
        "ax.set_ylabel('Record Count', fontsize=8)"
      ],
      "metadata": {
        "colab": {
          "base_uri": "https://localhost:8080/",
          "height": 343
        },
        "id": "Dw1OHbpyUC92",
        "outputId": "905b1f23-1a13-4c28-996d-976968773677"
      },
      "execution_count": 16,
      "outputs": [
        {
          "output_type": "execute_result",
          "data": {
            "text/plain": [
              "Text(0, 0.5, 'Record Count')"
            ]
          },
          "metadata": {},
          "execution_count": 16
        },
        {
          "output_type": "display_data",
          "data": {
            "text/plain": [
              "<Figure size 600x300 with 1 Axes>"
            ],
            "image/png": "[encoded data removed]"
          },
          "metadata": {}
        }
      ]
    },
    {
      "cell_type": "code",
      "source": [
        "#create a figure\n",
        "fig, ax = plt.subplots(figsize = (6,3))\n",
        "# create a boxplot of the length of text\n",
        "chart = sns.boxplot(x = df_news['text_length'])\n",
        "ax.set_title('Boxplot of Text Length', fontsize=10)"
      ],
      "metadata": {
        "colab": {
          "base_uri": "https://localhost:8080/",
          "height": 347
        },
        "id": "0ESbFWeVU1Nj",
        "outputId": "3d6a9121-8d54-4aca-8cec-19c8e69c8079"
      },
      "execution_count": 17,
      "outputs": [
        {
          "output_type": "execute_result",
          "data": {
            "text/plain": [
              "Text(0.5, 1.0, 'Boxplot of Text Length')"
            ]
          },
          "metadata": {},
          "execution_count": 17
        },
        {
          "output_type": "display_data",
          "data": {
            "text/plain": [
              "<Figure size 600x300 with 1 Axes>"
            ],
            "image/png": "[encoded data removed]"
          },
          "metadata": {}
        }
      ]
    },
    {
      "cell_type": "code",
      "source": [
        "# define a function to add the word count to a dataframe\n",
        "def add_word_count(df):\n",
        "    df['text_token'] = df.apply(lambda row: nltk.word_tokenize(row['combined_text']), axis=1)\n",
        "    df['word_count'] = df['text_token'].apply(len)\n",
        "    df.drop(columns = ['text_token'], inplace=True)\n",
        "    return df\n",
        "# add a length column to the dataframe for wordcount\n",
        "df_news = add_word_count(df = df_news)\n",
        "#create a figure\n",
        "fig, ax = plt.subplots(figsize = (6,3))\n",
        "# create a boxplot of the length of text\n",
        "chart = sns.boxplot(x = df_news['word_count'])\n",
        "ax.set_title('Boxplot of Word Count', fontsize=10)"
      ],
      "metadata": {
        "colab": {
          "base_uri": "https://localhost:8080/",
          "height": 347
        },
        "id": "PsjSXDGXVB8b",
        "outputId": "db962a91-e04a-4da3-ce00-3e758b856245"
      },
      "execution_count": 18,
      "outputs": [
        {
          "output_type": "execute_result",
          "data": {
            "text/plain": [
              "Text(0.5, 1.0, 'Boxplot of Word Count')"
            ]
          },
          "metadata": {},
          "execution_count": 18
        },
        {
          "output_type": "display_data",
          "data": {
            "text/plain": [
              "<Figure size 600x300 with 1 Axes>"
            ],
            "image/png": "[encoded data removed]"
          },
          "metadata": {}
        }
      ]
    },
    {
      "cell_type": "markdown",
      "source": [
        "# 4.&nbsp;Data Cleansing"
      ],
      "metadata": {
        "id": "KfNumbjVrVAF"
      }
    },
    {
      "cell_type": "markdown",
      "source": [
        "## Check for Nulls and Remove"
      ],
      "metadata": {
        "id": "LIphJmxMkQdJ"
      }
    },
    {
      "cell_type": "code",
      "source": [
        "# Inspect observations (rows) with null values\n",
        "def count_all_rows_with_null(df):\n",
        "  df_null = df.isnull()\n",
        "  df_null['null_count'] = df_null.sum(axis=1)\n",
        "  df_null['null_flag'] = df_null['null_count'].apply(lambda x: 1 if x > 0 else 0)\n",
        "\n",
        "  df_null = df_null[df_null['null_count'] > 0]\n",
        "  print('count of observations with nulls:',df_null['null_flag'].sum())"
      ],
      "metadata": {
        "id": "Qi4KDbHckQnL"
      },
      "execution_count": null,
      "outputs": []
    },
    {
      "cell_type": "code",
      "source": [],
      "metadata": {
        "id": "MmUHwCsSkUb6"
      },
      "execution_count": null,
      "outputs": []
    },
    {
      "cell_type": "markdown",
      "source": [
        "## Clean Text for Modeling"
      ],
      "metadata": {
        "id": "TLXBgjaU58b2"
      }
    },
    {
      "cell_type": "code",
      "source": [
        "# Create a funtion to clean a dataframe with text\n",
        "def clean_text(df, text_col):\n",
        "    # removes punctuation\n",
        "    df['no_punct'] = df[text_col].apply(\n",
        "        lambda row: re.sub(r'[^\\w\\s]+', '', row))\n",
        "    # removes numbers\n",
        "    df['no_punct_num'] = df['no_punct'].apply(\n",
        "        lambda row: re.sub(r'[0-9]+', '', row))\n",
        "    # removes stop words, e.g. a, an, and, but, in, on, the...\n",
        "    stop_words = stopwords.words('english')\n",
        "    df['no_stopwords'] = df['no_punct_num'].apply(\n",
        "        lambda x: ' '.join([word for word in x.split() if word not in (stop_words)]))\n",
        "    # removes extra spaces\n",
        "    df['clean_text'] = df['no_stopwords'].apply(\n",
        "        lambda x: re.sub(' +', ' ', x))\n",
        "    # tidy the table\n",
        "    df.drop(columns = ['no_punct','no_punct_num','no_stopwords'], inplace=True)\n",
        "    return"
      ],
      "metadata": {
        "id": "-hWDHTtLY4_F"
      },
      "execution_count": 19,
      "outputs": []
    },
    {
      "cell_type": "code",
      "source": [
        "# Tokenize text functions\n",
        "wordnet_lemmatizer = WordNetLemmatizer()\n",
        "# Function to bulkify lemmatize large block of text one word at a time\n",
        "def lemmatizer(text):\n",
        "    lem = [wordnet_lemmatizer.lemmatize(word.lower()) for word in text]\n",
        "    return lem\n",
        "# Function to tokenize the entire article then apply the lemmatize to each article\n",
        "def tokenize_lemmatize(df, text_col):\n",
        "    df['tokenized_text'] = df.apply(lambda row: nltk.word_tokenize(row[text_col]), axis=1)\n",
        "    df['lemmatized_text'] = df['tokenized_text'].apply(lambda string: lemmatizer(string))\n",
        "    return"
      ],
      "metadata": {
        "id": "FIRb3T6gZ7pm"
      },
      "execution_count": 20,
      "outputs": []
    },
    {
      "cell_type": "code",
      "source": [
        "idx = 0\n",
        "# Change the text to lowercase\n",
        "df_news['combined_text'] = df_news['combined_text'].str.lower()\n",
        "# Using 'clean_text' function to clean 'Text' column\n",
        "clean_text(df = df_news, text_col = 'combined_text')\n",
        "# Preview the changes for the before and after text\n",
        "print(df_news['combined_text'][idx])\n",
        "print('\\n## change to ##\\n')\n",
        "print(df_news['clean_text'][idx])\n",
        "print('\\n--------------------\\n')\n",
        "# Tidy the table\n",
        "df_news['combined_text'] = df_news['clean_text']\n",
        "df_news.drop(columns = ['clean_text'], inplace=True)\n",
        "# Using text cleaning function to clean the text column\n",
        "tokenize_lemmatize(df = df_news, text_col = 'combined_text')\n",
        "# Print a before an after of the tokenization and lematization\n",
        "print(df_news['combined_text'][idx])\n",
        "print('\\n## change to ##\\n')\n",
        "print(df_news['lemmatized_text'][idx])\n",
        "print('\\n--------------------\\n')\n",
        "# Tidy the table\n",
        "df_news['combined_text'] = df_news.apply(lambda row: ' '.join(row['lemmatized_text']), axis=1)\n",
        "df_news.drop(columns = ['tokenized_text', 'lemmatized_text'], inplace=True)\n",
        "# Print a final preview of the text\n",
        "print('## final text ##\\n')\n",
        "print(df_news['combined_text'][idx])"
      ],
      "metadata": {
        "colab": {
          "base_uri": "https://localhost:8080/"
        },
        "id": "O9wnuXLTY5CZ",
        "outputId": "d9006557-1f50-4a17-9e9b-6a285055f93e"
      },
      "execution_count": 21,
      "outputs": [
        {
          "output_type": "stream",
          "name": "stdout",
          "text": [
            "there were 2 mass shootings in texas last week, but only 1 on tv she left her husband. he killed their children. just another day in america.\n",
            "\n",
            "## change to ##\n",
            "\n",
            "mass shootings texas last week tv left husband killed children another day america\n",
            "\n",
            "--------------------\n",
            "\n",
            "mass shootings texas last week tv left husband killed children another day america\n",
            "\n",
            "## change to ##\n",
            "\n",
            "['mass', 'shooting', 'texas', 'last', 'week', 'tv', 'left', 'husband', 'killed', 'child', 'another', 'day', 'america']\n",
            "\n",
            "--------------------\n",
            "\n",
            "## final text ##\n",
            "\n",
            "mass shooting texas last week tv left husband killed child another day america\n"
          ]
        }
      ]
    },
    {
      "cell_type": "markdown",
      "source": [
        "## Sample and Balance the Data"
      ],
      "metadata": {
        "id": "vpr20C006RSl"
      }
    },
    {
      "cell_type": "code",
      "source": [
        "# Set a sample amount\n",
        "sample_amount = 2000\n",
        "# Sample healthy living\n",
        "healthy = df_news[df_news['wellness'] == 1].sample(n = sample_amount)\n",
        "# Sample non-healthy living\n",
        "not_healthy = df_news[df_news['wellness'] == 0]\n",
        "not_healthy_rows = len(not_healthy)\n",
        "not_healthy_sample_frac = sample_amount / not_healthy_rows\n",
        "not_healthy = not_healthy.groupby('category').apply(\n",
        "    lambda x: x.sample(frac = not_healthy_sample_frac))\n",
        "not_healthy = not_healthy.droplevel(0)\n",
        "# Create a Sampled Dataset\n",
        "df_news_sample = pd.concat([healthy, not_healthy])\n",
        "# Preview the Split of Data\n",
        "print(df_news_sample['wellness'].value_counts(), '\\n')\n",
        "# Confirm all categories are represented\n",
        "sample_cat_list = list(df_news_sample['category'].unique())\n",
        "total_sample_cats = len(sample_cat_list)\n",
        "print('Sample Categories:', total_sample_cats, '\\n\\tList:', sample_cat_list)"
      ],
      "metadata": {
        "colab": {
          "base_uri": "https://localhost:8080/"
        },
        "id": "CnTf-Xt46Ray",
        "outputId": "335c0da7-0054-43de-d751-081c4e7f10b2"
      },
      "execution_count": 22,
      "outputs": [
        {
          "output_type": "stream",
          "name": "stdout",
          "text": [
            "0    2001\n",
            "1    2000\n",
            "Name: wellness, dtype: int64 \n",
            "\n",
            "Sample Categories: 41 \n",
            "\tList: ['HEALTHY LIVING', 'WELLNESS', 'ARTS', 'ARTS & CULTURE', 'BLACK VOICES', 'BUSINESS', 'COLLEGE', 'COMEDY', 'CRIME', 'CULTURE & ARTS', 'DIVORCE', 'EDUCATION', 'ENTERTAINMENT', 'ENVIRONMENT', 'FIFTY', 'FOOD & DRINK', 'GOOD NEWS', 'GREEN', 'HOME & LIVING', 'IMPACT', 'LATINO VOICES', 'MEDIA', 'MONEY', 'PARENTING', 'PARENTS', 'POLITICS', 'QUEER VOICES', 'RELIGION', 'SCIENCE', 'SPORTS', 'STYLE', 'STYLE & BEAUTY', 'TASTE', 'TECH', 'THE WORLDPOST', 'TRAVEL', 'WEDDINGS', 'WEIRD NEWS', 'WOMEN', 'WORLD NEWS', 'WORLDPOST']\n"
          ]
        }
      ]
    },
    {
      "cell_type": "code",
      "source": [
        "# Create a summary of the categories\n",
        "df_sample_cat_count = pd.DataFrame(df_news_sample['category'].value_counts()).reset_index()\n",
        "df_sample_cat_count.reset_index()\n",
        "df_sample_cat_count.columns = ['category', 'count']"
      ],
      "metadata": {
        "id": "9d5j3_6QDLFN"
      },
      "execution_count": 23,
      "outputs": []
    },
    {
      "cell_type": "code",
      "source": [
        "# Create a summary bar chart of categories\n",
        "cols = ['orange' if (y in ['WELLNESS', 'HEALTHY LIVING']) else 'grey' for y in df_sample_cat_count['category']]\n",
        "f = plt.figure(figsize=(6,4))\n",
        "sns.barplot(x = 'count',\n",
        "            y = 'category',\n",
        "            data = df_sample_cat_count.head(20),\n",
        "            palette=cols\n",
        "            ).set(title='Top 20 Categories')\n",
        "plt.show()"
      ],
      "metadata": {
        "colab": {
          "base_uri": "https://localhost:8080/",
          "height": 410
        },
        "id": "DgLhMDJudQHO",
        "outputId": "3d1828fa-5e21-43a5-d426-0815c1cd0692"
      },
      "execution_count": 24,
      "outputs": [
        {
          "output_type": "display_data",
          "data": {
            "text/plain": [
              "<Figure size 600x400 with 1 Axes>"
            ],
            "image/png": "[encoded data removed]"
          },
          "metadata": {}
        }
      ]
    },
    {
      "cell_type": "code",
      "source": [
        "# Preview the Split of Data\n",
        "df_news_sample['wellness'].value_counts()"
      ],
      "metadata": {
        "colab": {
          "base_uri": "https://localhost:8080/"
        },
        "id": "3QP10W3RdfK7",
        "outputId": "450ed641-80fa-43fd-b6f5-dc31c8e640e9"
      },
      "execution_count": 25,
      "outputs": [
        {
          "output_type": "execute_result",
          "data": {
            "text/plain": [
              "0    2001\n",
              "1    2000\n",
              "Name: wellness, dtype: int64"
            ]
          },
          "metadata": {},
          "execution_count": 25
        }
      ]
    },
    {
      "cell_type": "code",
      "source": [
        "# Create a summary of the categories\n",
        "df_samp_wellness_count = pd.DataFrame(df_news_sample['wellness'].value_counts()).reset_index()\n",
        "df_samp_wellness_count.columns = ['category', 'count']\n",
        "dict_target_names = {0: 'NOT WELLNESS', 1: 'WELLNESS'}\n",
        "df_samp_wellness_count['category'].replace(dict_target_names, inplace=True)\n",
        "# Create a summary bar chart of categories\n",
        "f = plt.figure(figsize=(6,1))\n",
        "sns.barplot(x = 'count',\n",
        "            y = 'category',\n",
        "            data = df_samp_wellness_count,\n",
        "            color = 'steelblue'\n",
        "            ).set(title='Data Category Distribution',)\n",
        "plt.show()"
      ],
      "metadata": {
        "colab": {
          "base_uri": "https://localhost:8080/",
          "height": 179
        },
        "id": "qFdCgBegdfwo",
        "outputId": "e7b2bb94-68e3-4a09-d13d-ee99563ab44e"
      },
      "execution_count": 26,
      "outputs": [
        {
          "output_type": "display_data",
          "data": {
            "text/plain": [
              "<Figure size 600x100 with 1 Axes>"
            ],
            "image/png": "[encoded data removed]"
          },
          "metadata": {}
        }
      ]
    },
    {
      "cell_type": "code",
      "source": [
        "df_news_sample.head(3)"
      ],
      "metadata": {
        "colab": {
          "base_uri": "https://localhost:8080/",
          "height": 302
        },
        "id": "YGXDHDqZgTyu",
        "outputId": "6e42d0a5-481c-4df7-f8a5-e895ca56ddb2"
      },
      "execution_count": 29,
      "outputs": [
        {
          "output_type": "execute_result",
          "data": {
            "text/plain": [
              "              category                                           headline  \\\n",
              "22301   HEALTHY LIVING  Deconstructing Stigma: Make Your Mental Health...   \n",
              "39800   HEALTHY LIVING             10 Ways To Help Beat The Holiday Blues   \n",
              "129834        WELLNESS              From Conception to an Olympic Athlete   \n",
              "\n",
              "                                                  authors  \\\n",
              "22301   McLean Hospital, ContributorThe #1 freestandin...   \n",
              "39800   Allison Chawla , ContributorPsychotherapist, L...   \n",
              "129834  Birgitta Lauren, Contributor\\nHolistic Materni...   \n",
              "\n",
              "                                                     link  \\\n",
              "22301   https://www.huffingtonpost.com/entry/deconstru...   \n",
              "39800   https://www.huffingtonpost.com/entry/ten-ways-...   \n",
              "129834  https://www.huffingtonpost.com/entry/from-conc...   \n",
              "\n",
              "                                        short_description       date  \\\n",
              "22301   Editor’s note: Deconstructing Stigma: A Change... 2017-07-05   \n",
              "39800                            Do what is best for you. 2016-12-16   \n",
              "129834  Starting athletics well before pregnancy helps... 2014-02-24   \n",
              "\n",
              "                                            combined_text  wellness  \\\n",
              "22301   deconstructing stigma make mental health prior...         1   \n",
              "39800                     way help beat holiday blue best         1   \n",
              "129834  conception olympic athlete starting athletics ...         1   \n",
              "\n",
              "        text_length  word_count  \n",
              "22301           184          33  \n",
              "39800            63          15  \n",
              "129834          163          28  "
            ],
            "text/html": [
              "\n",
              "  <div id=\"df-efd499c2-9899-4e72-be82-2bda633f71cf\" class=\"colab-df-container\">\n",
              "    <div>\n",
              "<style scoped>\n",
              "    .dataframe tbody tr th:only-of-type {\n",
              "        vertical-align: middle;\n",
              "    }\n",
              "\n",
              "    .dataframe tbody tr th {\n",
              "        vertical-align: top;\n",
              "    }\n",
              "\n",
              "    .dataframe thead th {\n",
              "        text-align: right;\n",
              "    }\n",
              "</style>\n",
              "<table border=\"1\" class=\"dataframe\">\n",
              "  <thead>\n",
              "    <tr style=\"text-align: right;\">\n",
              "      <th></th>\n",
              "      <th>category</th>\n",
              "      <th>headline</th>\n",
              "      <th>authors</th>\n",
              "      <th>link</th>\n",
              "      <th>short_description</th>\n",
              "      <th>date</th>\n",
              "      <th>combined_text</th>\n",
              "      <th>wellness</th>\n",
              "      <th>text_length</th>\n",
              "      <th>word_count</th>\n",
              "    </tr>\n",
              "  </thead>\n",
              "  <tbody>\n",
              "    <tr>\n",
              "      <th>22301</th>\n",
              "      <td>HEALTHY LIVING</td>\n",
              "      <td>Deconstructing Stigma: Make Your Mental Health...</td>\n",
              "      <td>McLean Hospital, ContributorThe #1 freestandin...</td>\n",
              "      <td>https://www.huffingtonpost.com/entry/deconstru...</td>\n",
              "      <td>Editor’s note: Deconstructing Stigma: A Change...</td>\n",
              "      <td>2017-07-05</td>\n",
              "      <td>deconstructing stigma make mental health prior...</td>\n",
              "      <td>1</td>\n",
              "      <td>184</td>\n",
              "      <td>33</td>\n",
              "    </tr>\n",
              "    <tr>\n",
              "      <th>39800</th>\n",
              "      <td>HEALTHY LIVING</td>\n",
              "      <td>10 Ways To Help Beat The Holiday Blues</td>\n",
              "      <td>Allison Chawla , ContributorPsychotherapist, L...</td>\n",
              "      <td>https://www.huffingtonpost.com/entry/ten-ways-...</td>\n",
              "      <td>Do what is best for you.</td>\n",
              "      <td>2016-12-16</td>\n",
              "      <td>way help beat holiday blue best</td>\n",
              "      <td>1</td>\n",
              "      <td>63</td>\n",
              "      <td>15</td>\n",
              "    </tr>\n",
              "    <tr>\n",
              "      <th>129834</th>\n",
              "      <td>WELLNESS</td>\n",
              "      <td>From Conception to an Olympic Athlete</td>\n",
              "      <td>Birgitta Lauren, Contributor\\nHolistic Materni...</td>\n",
              "      <td>https://www.huffingtonpost.com/entry/from-conc...</td>\n",
              "      <td>Starting athletics well before pregnancy helps...</td>\n",
              "      <td>2014-02-24</td>\n",
              "      <td>conception olympic athlete starting athletics ...</td>\n",
              "      <td>1</td>\n",
              "      <td>163</td>\n",
              "      <td>28</td>\n",
              "    </tr>\n",
              "  </tbody>\n",
              "</table>\n",
              "</div>\n",
              "    <div class=\"colab-df-buttons\">\n",
              "\n",
              "  <div class=\"colab-df-container\">\n",
              "    <button class=\"colab-df-convert\" onclick=\"convertToInteractive('df-efd499c2-9899-4e72-be82-2bda633f71cf')\"\n",
              "            title=\"Convert this dataframe to an interactive table.\"\n",
              "            style=\"display:none;\">\n",
              "\n",
              "  <svg xmlns=\"http://www.w3.org/2000/svg\" height=\"24px\" viewBox=\"0 -960 960 960\">\n",
              "    <path d=\"M120-120v-720h720v720H120Zm60-500h600v-160H180v160Zm220 220h160v-160H400v160Zm0 220h160v-160H400v160ZM180-400h160v-160H180v160Zm440 0h160v-160H620v160ZM180-180h160v-160H180v160Zm440 0h160v-160H620v160Z\"/>\n",
              "  </svg>\n",
              "    </button>\n",
              "\n",
              "  <style>\n",
              "    .colab-df-container {\n",
              "      display:flex;\n",
              "      gap: 12px;\n",
              "    }\n",
              "\n",
              "    .colab-df-convert {\n",
              "      background-color: #E8F0FE;\n",
              "      border: none;\n",
              "      border-radius: 50%;\n",
              "      cursor: pointer;\n",
              "      display: none;\n",
              "      fill: #1967D2;\n",
              "      height: 32px;\n",
              "      padding: 0 0 0 0;\n",
              "      width: 32px;\n",
              "    }\n",
              "\n",
              "    .colab-df-convert:hover {\n",
              "      background-color: #E2EBFA;\n",
              "      box-shadow: 0px 1px 2px rgba(60, 64, 67, 0.3), 0px 1px 3px 1px rgba(60, 64, 67, 0.15);\n",
              "      fill: #174EA6;\n",
              "    }\n",
              "\n",
              "    .colab-df-buttons div {\n",
              "      margin-bottom: 4px;\n",
              "    }\n",
              "\n",
              "    [theme=dark] .colab-df-convert {\n",
              "      background-color: #3B4455;\n",
              "      fill: #D2E3FC;\n",
              "    }\n",
              "\n",
              "    [theme=dark] .colab-df-convert:hover {\n",
              "      background-color: #434B5C;\n",
              "      box-shadow: 0px 1px 3px 1px rgba(0, 0, 0, 0.15);\n",
              "      filter: drop-shadow(0px 1px 2px rgba(0, 0, 0, 0.3));\n",
              "      fill: #FFFFFF;\n",
              "    }\n",
              "  </style>\n",
              "\n",
              "    <script>\n",
              "      const buttonEl =\n",
              "        document.querySelector('#df-efd499c2-9899-4e72-be82-2bda633f71cf button.colab-df-convert');\n",
              "      buttonEl.style.display =\n",
              "        google.colab.kernel.accessAllowed ? 'block' : 'none';\n",
              "\n",
              "      async function convertToInteractive(key) {\n",
              "        const element = document.querySelector('#df-efd499c2-9899-4e72-be82-2bda633f71cf');\n",
              "        const dataTable =\n",
              "          await google.colab.kernel.invokeFunction('convertToInteractive',\n",
              "                                                    [key], {});\n",
              "        if (!dataTable) return;\n",
              "\n",
              "        const docLinkHtml = 'Like what you see? Visit the ' +\n",
              "          '<a target=\"_blank\" href=https://colab.research.google.com/notebooks/data_table.ipynb>data table notebook</a>'\n",
              "          + ' to learn more about interactive tables.';\n",
              "        element.innerHTML = '';\n",
              "        dataTable['output_type'] = 'display_data';\n",
              "        await google.colab.output.renderOutput(dataTable, element);\n",
              "        const docLink = document.createElement('div');\n",
              "        docLink.innerHTML = docLinkHtml;\n",
              "        element.appendChild(docLink);\n",
              "      }\n",
              "    </script>\n",
              "  </div>\n",
              "\n",
              "\n",
              "<div id=\"df-3458cf75-8f3b-45e1-acde-c94a2a0d5e84\">\n",
              "  <button class=\"colab-df-quickchart\" onclick=\"quickchart('df-3458cf75-8f3b-45e1-acde-c94a2a0d5e84')\"\n",
              "            title=\"Suggest charts.\"\n",
              "            style=\"display:none;\">\n",
              "\n",
              "<svg xmlns=\"http://www.w3.org/2000/svg\" height=\"24px\"viewBox=\"0 0 24 24\"\n",
              "     width=\"24px\">\n",
              "    <g>\n",
              "        <path d=\"M19 3H5c-1.1 0-2 .9-2 2v14c0 1.1.9 2 2 2h14c1.1 0 2-.9 2-2V5c0-1.1-.9-2-2-2zM9 17H7v-7h2v7zm4 0h-2V7h2v10zm4 0h-2v-4h2v4z\"/>\n",
              "    </g>\n",
              "</svg>\n",
              "  </button>\n",
              "\n",
              "<style>\n",
              "  .colab-df-quickchart {\n",
              "      --bg-color: #E8F0FE;\n",
              "      --fill-color: #1967D2;\n",
              "      --hover-bg-color: #E2EBFA;\n",
              "      --hover-fill-color: #174EA6;\n",
              "      --disabled-fill-color: #AAA;\n",
              "      --disabled-bg-color: #DDD;\n",
              "  }\n",
              "\n",
              "  [theme=dark] .colab-df-quickchart {\n",
              "      --bg-color: #3B4455;\n",
              "      --fill-color: #D2E3FC;\n",
              "      --hover-bg-color: #434B5C;\n",
              "      --hover-fill-color: #FFFFFF;\n",
              "      --disabled-bg-color: #3B4455;\n",
              "      --disabled-fill-color: #666;\n",
              "  }\n",
              "\n",
              "  .colab-df-quickchart {\n",
              "    background-color: var(--bg-color);\n",
              "    border: none;\n",
              "    border-radius: 50%;\n",
              "    cursor: pointer;\n",
              "    display: none;\n",
              "    fill: var(--fill-color);\n",
              "    height: 32px;\n",
              "    padding: 0;\n",
              "    width: 32px;\n",
              "  }\n",
              "\n",
              "  .colab-df-quickchart:hover {\n",
              "    background-color: var(--hover-bg-color);\n",
              "    box-shadow: 0 1px 2px rgba(60, 64, 67, 0.3), 0 1px 3px 1px rgba(60, 64, 67, 0.15);\n",
              "    fill: var(--button-hover-fill-color);\n",
              "  }\n",
              "\n",
              "  .colab-df-quickchart-complete:disabled,\n",
              "  .colab-df-quickchart-complete:disabled:hover {\n",
              "    background-color: var(--disabled-bg-color);\n",
              "    fill: var(--disabled-fill-color);\n",
              "    box-shadow: none;\n",
              "  }\n",
              "\n",
              "  .colab-df-spinner {\n",
              "    border: 2px solid var(--fill-color);\n",
              "    border-color: transparent;\n",
              "    border-bottom-color: var(--fill-color);\n",
              "    animation:\n",
              "      spin 1s steps(1) infinite;\n",
              "  }\n",
              "\n",
              "  @keyframes spin {\n",
              "    0% {\n",
              "      border-color: transparent;\n",
              "      border-bottom-color: var(--fill-color);\n",
              "      border-left-color: var(--fill-color);\n",
              "    }\n",
              "    20% {\n",
              "      border-color: transparent;\n",
              "      border-left-color: var(--fill-color);\n",
              "      border-top-color: var(--fill-color);\n",
              "    }\n",
              "    30% {\n",
              "      border-color: transparent;\n",
              "      border-left-color: var(--fill-color);\n",
              "      border-top-color: var(--fill-color);\n",
              "      border-right-color: var(--fill-color);\n",
              "    }\n",
              "    40% {\n",
              "      border-color: transparent;\n",
              "      border-right-color: var(--fill-color);\n",
              "      border-top-color: var(--fill-color);\n",
              "    }\n",
              "    60% {\n",
              "      border-color: transparent;\n",
              "      border-right-color: var(--fill-color);\n",
              "    }\n",
              "    80% {\n",
              "      border-color: transparent;\n",
              "      border-right-color: var(--fill-color);\n",
              "      border-bottom-color: var(--fill-color);\n",
              "    }\n",
              "    90% {\n",
              "      border-color: transparent;\n",
              "      border-bottom-color: var(--fill-color);\n",
              "    }\n",
              "  }\n",
              "</style>\n",
              "\n",
              "  <script>\n",
              "    async function quickchart(key) {\n",
              "      const quickchartButtonEl =\n",
              "        document.querySelector('#' + key + ' button');\n",
              "      quickchartButtonEl.disabled = true;  // To prevent multiple clicks.\n",
              "      quickchartButtonEl.classList.add('colab-df-spinner');\n",
              "      try {\n",
              "        const charts = await google.colab.kernel.invokeFunction(\n",
              "            'suggestCharts', [key], {});\n",
              "      } catch (error) {\n",
              "        console.error('Error during call to suggestCharts:', error);\n",
              "      }\n",
              "      quickchartButtonEl.classList.remove('colab-df-spinner');\n",
              "      quickchartButtonEl.classList.add('colab-df-quickchart-complete');\n",
              "    }\n",
              "    (() => {\n",
              "      let quickchartButtonEl =\n",
              "        document.querySelector('#df-3458cf75-8f3b-45e1-acde-c94a2a0d5e84 button');\n",
              "      quickchartButtonEl.style.display =\n",
              "        google.colab.kernel.accessAllowed ? 'block' : 'none';\n",
              "    })();\n",
              "  </script>\n",
              "</div>\n",
              "    </div>\n",
              "  </div>\n"
            ]
          },
          "metadata": {},
          "execution_count": 29
        }
      ]
    },
    {
      "cell_type": "markdown",
      "source": [
        "# 5.&nbsp;Model: Parameter Tuning"
      ],
      "metadata": {
        "id": "alfM5TzJr2H4"
      }
    },
    {
      "cell_type": "code",
      "source": [
        "target_names = ['NOT WELLNESS','WELLNESS']"
      ],
      "metadata": {
        "id": "ewMU4Wj5G9HY"
      },
      "execution_count": 30,
      "outputs": []
    },
    {
      "cell_type": "code",
      "source": [
        "# create a transformer to use in the model\n",
        "tf.keras.backend.clear_session()\n",
        "t = text.Transformer('distilbert-base-uncased',\n",
        "                     maxlen = 512,\n",
        "                     class_names = target_names)\n",
        "# other models you might try 'roberta-base', 'bert-base-uncased', 'distilroberta-base'\n",
        "# we're going to use 'distilbert-base-uncased' for our model here\n",
        "# ktrain lets us try some of the pretrained models available on huggingface\n",
        "# you can browse all the models here: https://huggingface.co/transformers/pretrained_models.html\n",
        "# some work, some dont, try at your own risk."
      ],
      "metadata": {
        "id": "sbpxa8EhHD3f"
      },
      "execution_count": 31,
      "outputs": []
    },
    {
      "cell_type": "code",
      "source": [
        "# use the distilbert-base-uncased transformer model\n",
        "# See all the models here: https://huggingface.co/transformers/pretrained_models.html\n",
        "train, val, preprocess = texts_from_df(df_news_sample, 'combined_text',\n",
        "                                       label_columns = ['wellness'],\n",
        "                                       val_df = None,\n",
        "                                       max_features = 20000,\n",
        "                                       maxlen = 512,\n",
        "                                       val_pct = 0.1,\n",
        "                                       ngram_range = 1,\n",
        "                                       preprocess_mode = 'distilbert',\n",
        "                                       verbose = 1)"
      ],
      "metadata": {
        "colab": {
          "base_uri": "https://localhost:8080/",
          "height": 486
        },
        "id": "8FBHre-5HD8l",
        "outputId": "8272e518-a716-48ba-ccc0-de4f7709bfa0"
      },
      "execution_count": 32,
      "outputs": [
        {
          "output_type": "stream",
          "name": "stdout",
          "text": [
            "['not_wellness', 'wellness']\n",
            "        not_wellness  wellness\n",
            "75037            1.0       0.0\n",
            "71254            1.0       0.0\n",
            "34387            1.0       0.0\n",
            "93464            0.0       1.0\n",
            "129452           0.0       1.0\n",
            "['not_wellness', 'wellness']\n",
            "        not_wellness  wellness\n",
            "154084           0.0       1.0\n",
            "7043             1.0       0.0\n",
            "186217           0.0       1.0\n",
            "155277           0.0       1.0\n",
            "38350            1.0       0.0\n",
            "preprocessing train...\n",
            "language: en\n",
            "train sequence lengths:\n",
            "\tmean : 18\n",
            "\t95percentile : 31\n",
            "\t99percentile : 37\n"
          ]
        },
        {
          "output_type": "display_data",
          "data": {
            "text/plain": [
              "<IPython.core.display.HTML object>"
            ],
            "text/html": [
              "\n",
              "<style>\n",
              "    /* Turns off some styling */\n",
              "    progress {\n",
              "        /* gets rid of default border in Firefox and Opera. */\n",
              "        border: none;\n",
              "        /* Needs to be in here for Safari polyfill so background images work as expected. */\n",
              "        background-size: auto;\n",
              "    }\n",
              "    progress:not([value]), progress:not([value])::-webkit-progress-bar {\n",
              "        background: repeating-linear-gradient(45deg, #7e7e7e, #7e7e7e 10px, #5c5c5c 10px, #5c5c5c 20px);\n",
              "    }\n",
              "    .progress-bar-interrupted, .progress-bar-interrupted::-webkit-progress-bar {\n",
              "        background: #F44336;\n",
              "    }\n",
              "</style>\n"
            ]
          },
          "metadata": {}
        },
        {
          "output_type": "display_data",
          "data": {
            "text/plain": [
              "<IPython.core.display.HTML object>"
            ],
            "text/html": []
          },
          "metadata": {}
        },
        {
          "output_type": "stream",
          "name": "stdout",
          "text": [
            "Is Multi-Label? False\n",
            "preprocessing test...\n",
            "language: en\n",
            "test sequence lengths:\n",
            "\tmean : 18\n",
            "\t95percentile : 30\n",
            "\t99percentile : 36\n"
          ]
        },
        {
          "output_type": "display_data",
          "data": {
            "text/plain": [
              "<IPython.core.display.HTML object>"
            ],
            "text/html": [
              "\n",
              "<style>\n",
              "    /* Turns off some styling */\n",
              "    progress {\n",
              "        /* gets rid of default border in Firefox and Opera. */\n",
              "        border: none;\n",
              "        /* Needs to be in here for Safari polyfill so background images work as expected. */\n",
              "        background-size: auto;\n",
              "    }\n",
              "    progress:not([value]), progress:not([value])::-webkit-progress-bar {\n",
              "        background: repeating-linear-gradient(45deg, #7e7e7e, #7e7e7e 10px, #5c5c5c 10px, #5c5c5c 20px);\n",
              "    }\n",
              "    .progress-bar-interrupted, .progress-bar-interrupted::-webkit-progress-bar {\n",
              "        background: #F44336;\n",
              "    }\n",
              "</style>\n"
            ]
          },
          "metadata": {}
        },
        {
          "output_type": "display_data",
          "data": {
            "text/plain": [
              "<IPython.core.display.HTML object>"
            ],
            "text/html": []
          },
          "metadata": {}
        }
      ]
    },
    {
      "cell_type": "code",
      "source": [
        "# create a classifier model\n",
        "model = preprocess.get_classifier()\n",
        "# Returns a Learner instance that can be used to tune and train Keras models.\n",
        "learner = ktrain.get_learner(model,\n",
        "                             train_data = train,\n",
        "                             val_data = val,\n",
        "                             batch_size = 16)"
      ],
      "metadata": {
        "id": "pbp7HTkXHEER"
      },
      "execution_count": 33,
      "outputs": []
    },
    {
      "cell_type": "code",
      "source": [
        "# Simulate training for different learning rates\n",
        "# Plots loss as learning rate is increased\n",
        "learner.lr_find(max_epochs = 8)"
      ],
      "metadata": {
        "colab": {
          "base_uri": "https://localhost:8080/"
        },
        "id": "oFVxCqmWIGv6",
        "outputId": "0a9e19af-ab26-4ec4-d3d8-20542fd2ab6d"
      },
      "execution_count": 34,
      "outputs": [
        {
          "output_type": "stream",
          "name": "stdout",
          "text": [
            "simulating training for different learning rates... this may take a few moments...\n",
            "Epoch 1/6\n",
            "225/225 [==============================] - 213s 873ms/step - loss: 0.6872 - accuracy: 0.5608\n",
            "Epoch 2/6\n",
            "225/225 [==============================] - 203s 899ms/step - loss: 0.4488 - accuracy: 0.8133\n",
            "Epoch 3/6\n",
            "225/225 [==============================] - 201s 892ms/step - loss: 0.4574 - accuracy: 0.7794\n",
            "Epoch 4/6\n",
            "225/225 [==============================] - 199s 885ms/step - loss: 0.7072 - accuracy: 0.4939\n",
            "Epoch 5/6\n",
            "225/225 [==============================] - 196s 871ms/step - loss: 0.6990 - accuracy: 0.4867\n",
            "Epoch 6/6\n",
            "225/225 [==============================] - 136s 603ms/step - loss: 1849.2416 - accuracy: 0.5024\n",
            "\n",
            "\n",
            "done.\n",
            "Please invoke the Learner.lr_plot() method to visually inspect the loss plot to help identify the maximal learning rate associated with falling loss.\n"
          ]
        }
      ]
    },
    {
      "cell_type": "code",
      "source": [
        "# Plots the loss vs. learning rate to help identify\n",
        "# The maximal learning rate associated with a falling loss.\n",
        "learner.lr_plot(suggest = True)"
      ],
      "metadata": {
        "colab": {
          "base_uri": "https://localhost:8080/",
          "height": 523
        },
        "id": "5mC_dMQhILN0",
        "outputId": "f9c1b22f-1e14-4876-aeb9-0aad52cd73f3"
      },
      "execution_count": 37,
      "outputs": [
        {
          "output_type": "stream",
          "name": "stdout",
          "text": [
            "Three possible suggestions for LR from plot:\n",
            "\tLongest valley (red): 8.90E-06\n",
            "\tMin numerical gradient (purple): 3.00E-05\n",
            "\tMin loss divided by 10 (omitted from plot): 1.67E-05\n"
          ]
        },
        {
          "output_type": "display_data",
          "data": {
            "text/plain": [
              "<Figure size 640x480 with 1 Axes>"
            ],
            "image/png": "[encoded data removed]"
          },
          "metadata": {}
        }
      ]
    },
    {
      "cell_type": "code",
      "source": [
        "# Return numerical estimates of lr using two different methods:\n",
        "lr_est = learner.lr_estimate()\n",
        "print('learning rate (estimate):', lr_est)"
      ],
      "metadata": {
        "colab": {
          "base_uri": "https://localhost:8080/"
        },
        "id": "VT5eAKFbiTGu",
        "outputId": "55a7b83a-1d31-47d1-954e-436606efb466"
      },
      "execution_count": 36,
      "outputs": [
        {
          "output_type": "stream",
          "name": "stdout",
          "text": [
            "learning rate (estimate): (2.9994164e-05, 1.6737992700655015e-05, 8.904907e-06)\n"
          ]
        }
      ]
    },
    {
      "cell_type": "markdown",
      "source": [
        "based on the learning rate plot, a learning rate of 10^-4 should be used for the final model."
      ],
      "metadata": {
        "id": "aIblRaC8hGDt"
      }
    },
    {
      "cell_type": "markdown",
      "source": [
        "# 6.&nbsp;Final Model with Ktrain"
      ],
      "metadata": {
        "id": "iw2hDBbErcsZ"
      }
    },
    {
      "cell_type": "code",
      "source": [
        "# Automatically train model with the selected learning rate\n",
        "history = learner.autofit(\n",
        "    lr = 3e-5,   #1e-4,\n",
        "    checkpoint_folder = 'checkpoint',\n",
        "    epochs = 12,\n",
        "    early_stopping = True)"
      ],
      "metadata": {
        "colab": {
          "base_uri": "https://localhost:8080/"
        },
        "id": "CHEqQFXJrtBW",
        "outputId": "08f7ed4e-e408-4e50-d078-1b186f28cf55"
      },
      "execution_count": 44,
      "outputs": [
        {
          "output_type": "stream",
          "name": "stdout",
          "text": [
            "\n",
            "\n",
            "begin training using triangular learning rate policy with max lr of 3e-05...\n",
            "Epoch 1/12\n",
            "225/225 [==============================] - 206s 912ms/step - loss: 0.6932 - accuracy: 0.5039 - val_loss: 0.6931 - val_accuracy: 0.5012\n",
            "Epoch 2/12\n",
            "225/225 [==============================] - ETA: 0s - loss: 0.6933 - accuracy: 0.4933Restoring model weights from the end of the best epoch: 1.\n",
            "225/225 [==============================] - 202s 898ms/step - loss: 0.6933 - accuracy: 0.4933 - val_loss: 0.6931 - val_accuracy: 0.5012\n",
            "Epoch 2: early stopping\n",
            "Weights from best epoch have been loaded into model.\n"
          ]
        }
      ]
    },
    {
      "cell_type": "code",
      "source": [
        "# Save the learner\n",
        "#learner.save_model(\"%s/distilbertmodel_learner\" % DATA_DIR)"
      ],
      "metadata": {
        "id": "UCanlMTpIQ3A"
      },
      "execution_count": null,
      "outputs": []
    },
    {
      "cell_type": "code",
      "source": [
        "# Returns a Predictor instance that can be used to make predictions on unlabeled examples\n",
        "predictor = ktrain.get_predictor(learner.model, preproc = preprocess)\n",
        "# Save the predictor model\n",
        "#predictor.save(\"%s/distilbertmodel_predictor\")"
      ],
      "metadata": {
        "id": "6NnAPempIRTA"
      },
      "execution_count": 57,
      "outputs": []
    },
    {
      "cell_type": "code",
      "source": [
        "# Returns confusion matrix and optionally prints a classification report.\n",
        "validation = learner.validate(val_data = val,\n",
        "                              print_report = True,\n",
        "                              class_names = target_names)"
      ],
      "metadata": {
        "colab": {
          "base_uri": "https://localhost:8080/"
        },
        "id": "SKaC1HwWISpZ",
        "outputId": "adbdffde-3ba4-4694-ed8c-b40716c3d704"
      },
      "execution_count": 45,
      "outputs": [
        {
          "output_type": "stream",
          "name": "stdout",
          "text": [
            "13/13 [==============================] - 3s 85ms/step\n",
            "              precision    recall  f1-score   support\n",
            "\n",
            "NOT WELLNESS       0.50      1.00      0.67       201\n",
            "    WELLNESS       0.00      0.00      0.00       200\n",
            "\n",
            "    accuracy                           0.50       401\n",
            "   macro avg       0.25      0.50      0.33       401\n",
            "weighted avg       0.25      0.50      0.33       401\n",
            "\n"
          ]
        },
        {
          "output_type": "stream",
          "name": "stderr",
          "text": [
            "/usr/local/lib/python3.10/dist-packages/sklearn/metrics/_classification.py:1344: UndefinedMetricWarning: Precision and F-score are ill-defined and being set to 0.0 in labels with no predicted samples. Use `zero_division` parameter to control this behavior.\n",
            "  _warn_prf(average, modifier, msg_start, len(result))\n",
            "/usr/local/lib/python3.10/dist-packages/sklearn/metrics/_classification.py:1344: UndefinedMetricWarning: Precision and F-score are ill-defined and being set to 0.0 in labels with no predicted samples. Use `zero_division` parameter to control this behavior.\n",
            "  _warn_prf(average, modifier, msg_start, len(result))\n",
            "/usr/local/lib/python3.10/dist-packages/sklearn/metrics/_classification.py:1344: UndefinedMetricWarning: Precision and F-score are ill-defined and being set to 0.0 in labels with no predicted samples. Use `zero_division` parameter to control this behavior.\n",
            "  _warn_prf(average, modifier, msg_start, len(result))\n"
          ]
        }
      ]
    },
    {
      "cell_type": "markdown",
      "source": [
        "# 7.&nbsp; Model Evaluation"
      ],
      "metadata": {
        "id": "upsAF0vzrrPG"
      }
    },
    {
      "cell_type": "markdown",
      "source": [
        "## Model Metrics"
      ],
      "metadata": {
        "id": "HL4imzPUejCi"
      }
    },
    {
      "cell_type": "code",
      "source": [
        "validation"
      ],
      "metadata": {
        "colab": {
          "base_uri": "https://localhost:8080/"
        },
        "id": "JICuLw01ejLX",
        "outputId": "35f6f93a-ccda-4676-c8c6-391abc2b7c1d"
      },
      "execution_count": 46,
      "outputs": [
        {
          "output_type": "execute_result",
          "data": {
            "text/plain": [
              "array([[201,   0],\n",
              "       [200,   0]])"
            ]
          },
          "metadata": {},
          "execution_count": 46
        }
      ]
    },
    {
      "cell_type": "code",
      "source": [
        "# save confusion matrix and slice into four pieces\n",
        "TP = validation[1, 1]\n",
        "TN = validation[0, 0]\n",
        "FP = validation[0, 1]\n",
        "FN = validation[1, 0]"
      ],
      "metadata": {
        "id": "T8YUfdYivhjC"
      },
      "execution_count": 48,
      "outputs": []
    },
    {
      "cell_type": "code",
      "source": [
        "c_accuracy            = (TP + TN) / (TP + TN + FP + FN)\n",
        "c_error               = (FP + FN) / (TP + TN + FP + FN)\n",
        "c_sensitivity         = TP / (TP + FN)\n",
        "c_specificity         = TN / (TN + FP)\n",
        "c_false_positive_rate = FP / (TN + FP)\n",
        "c_precision           = TP / (TP + FP)"
      ],
      "metadata": {
        "colab": {
          "base_uri": "https://localhost:8080/"
        },
        "id": "7NrpLmT7vhmI",
        "outputId": "8eb7b222-faae-4f1b-b7dd-4561efa2bd9d"
      },
      "execution_count": 50,
      "outputs": [
        {
          "output_type": "stream",
          "name": "stderr",
          "text": [
            "<ipython-input-50-90bab7582182>:6: RuntimeWarning: invalid value encountered in long_scalars\n",
            "  c_precision           = TP / (TP + FP)\n"
          ]
        }
      ]
    },
    {
      "cell_type": "code",
      "source": [
        "print('Accuracy:\\t\\t', round(c_accuracy,4)*100, '%')\n",
        "print('Classification Error:\\t', round(c_error,4)*100, '%')\n",
        "print('Sensitivity / Recall:\\t', round(c_sensitivity,4)*100, '%')\n",
        "print('Specificity:\\t\\t', round(c_specificity,4)*100, '%')\n",
        "print('False Positive Rate:\\t', round(c_false_positive_rate,4)*100, '%')\n",
        "print('Precision:\\t\\t', round(c_precision,4)*100, '%')"
      ],
      "metadata": {
        "colab": {
          "base_uri": "https://localhost:8080/"
        },
        "id": "9jf2LzluvhpF",
        "outputId": "240e7946-479f-46f5-baca-b3285f5bb5bd"
      },
      "execution_count": 53,
      "outputs": [
        {
          "output_type": "stream",
          "name": "stdout",
          "text": [
            "Accuracy:\t\t 50.12 %\n",
            "Classification Error:\t 49.88 %\n",
            "Sensitivity / Recall:\t 0.0 %\n",
            "Specificity:\t\t 100.0 %\n",
            "False Positive Rate:\t 0.0 %\n",
            "Precision:\t\t nan %\n"
          ]
        }
      ]
    },
    {
      "cell_type": "markdown",
      "source": [
        "## Inspecting the drivers of prediction"
      ],
      "metadata": {
        "id": "HolDMbMxIrJD"
      }
    },
    {
      "cell_type": "code",
      "source": [
        "!pip3 install -q git+https://github.com/amaiya/eli5@tfkeras_0_10_1"
      ],
      "metadata": {
        "colab": {
          "base_uri": "https://localhost:8080/"
        },
        "id": "h964TkAgIq3p",
        "outputId": "fe1afb7b-6c21-459e-8c45-73304e02cea9"
      },
      "execution_count": 54,
      "outputs": [
        {
          "output_type": "stream",
          "name": "stdout",
          "text": [
            "  Preparing metadata (setup.py) ... \u001b[?25l\u001b[?25hdone\n",
            "  Building wheel for eli5 (setup.py) ... \u001b[?25l\u001b[?25hdone\n"
          ]
        }
      ]
    },
    {
      "cell_type": "code",
      "source": [
        "test_docs = [\n",
        "'Stress May Be Your Heart’s Worst Enemy Psychological stress activates the fear center in the brain, setting into motion a cascade of reactions that can lead to heart attacks and strokes.',\n",
        "'Exercising to Slim Down? Try Getting Bigger. It’s high time for women to reclaim the real strength behind exercise.',\n",
        "'What Are Your Food Resolutions for the New Year? Join us for the Eat Well Challenge starting in January.',\n",
        "'Why We All Need to Have More Fun. Prioritizing fun may feel impossible right now. But this four-step plan will help you rediscover how to feel more alive.',\n",
        "'Cuomo Will Not Be Prosecuted in Groping Case, Albany D.A. Says. The district attorney described the woman who said former Gov. Andrew Cuomo had groped her as “credible,” but added that proving her allegation would be difficult.',\n",
        "'A Film Captures Jewish Life in a Polish Town Before the Nazis Arrived. A documentary based on a home movie shot by an American in 1938 provides a look at the vibrancy of a Jewish community in Europe just before the Holocaust.'\n",
        "             ]"
      ],
      "metadata": {
        "id": "rb7HiHzuIwH_"
      },
      "execution_count": 55,
      "outputs": []
    },
    {
      "cell_type": "code",
      "source": [
        "for i, text in enumerate(test_docs):\n",
        "  probs = predictor.predict(text, return_proba=True)\n",
        "  print(\"---------------------------\")\n",
        "  print('The probability this is healthy is %s' % probs[1])\n",
        "  print(text)"
      ],
      "metadata": {
        "colab": {
          "base_uri": "https://localhost:8080/"
        },
        "id": "KF2wm3FzIyyK",
        "outputId": "b4a6b2e3-c30d-430c-9c66-16409ba98d00"
      },
      "execution_count": 58,
      "outputs": [
        {
          "output_type": "stream",
          "name": "stdout",
          "text": [
            "---------------------------\n",
            "The probability this is healthy is 0.49925113\n",
            "Stress May Be Your Heart’s Worst Enemy Psychological stress activates the fear center in the brain, setting into motion a cascade of reactions that can lead to heart attacks and strokes.\n",
            "---------------------------\n",
            "The probability this is healthy is 0.49925113\n",
            "Exercising to Slim Down? Try Getting Bigger. It’s high time for women to reclaim the real strength behind exercise.\n",
            "---------------------------\n",
            "The probability this is healthy is 0.49925113\n",
            "What Are Your Food Resolutions for the New Year? Join us for the Eat Well Challenge starting in January.\n",
            "---------------------------\n",
            "The probability this is healthy is 0.49925113\n",
            "Why We All Need to Have More Fun. Prioritizing fun may feel impossible right now. But this four-step plan will help you rediscover how to feel more alive.\n",
            "---------------------------\n",
            "The probability this is healthy is 0.49925113\n",
            "Cuomo Will Not Be Prosecuted in Groping Case, Albany D.A. Says. The district attorney described the woman who said former Gov. Andrew Cuomo had groped her as “credible,” but added that proving her allegation would be difficult.\n",
            "---------------------------\n",
            "The probability this is healthy is 0.49925113\n",
            "A Film Captures Jewish Life in a Polish Town Before the Nazis Arrived. A documentary based on a home movie shot by an American in 1938 provides a look at the vibrancy of a Jewish community in Europe just before the Holocaust.\n"
          ]
        }
      ]
    },
    {
      "cell_type": "code",
      "source": [
        "predictor.explain('Diversity is the key to a healthy society. Here is what we need to do to make america a more equitable place to live for all.')"
      ],
      "metadata": {
        "colab": {
          "base_uri": "https://localhost:8080/"
        },
        "id": "u8ZvYqmNI1qE",
        "outputId": "14b06794-3cc1-4db2-8b4e-81c5cdc956bc"
      },
      "execution_count": 59,
      "outputs": [
        {
          "output_type": "stream",
          "name": "stderr",
          "text": [
            "/usr/local/lib/python3.10/dist-packages/ktrain/text/predictor.py:139: UserWarning: ktrain requires a forked version of eli5 to support tf.keras. Install with: pip install https://github.com/amaiya/eli5-tf/archive/refs/heads/master.zip\n",
            "  warnings.warn(msg)\n"
          ]
        }
      ]
    },
    {
      "cell_type": "markdown",
      "source": [
        "# 8.&nbsp; Results"
      ],
      "metadata": {
        "id": "trZ9K5h2r9Ya"
      }
    },
    {
      "cell_type": "markdown",
      "source": [],
      "metadata": {
        "id": "RnZ-SUDzxkIv"
      }
    },
    {
      "cell_type": "markdown",
      "source": [
        "# 9.&nbsp; References"
      ],
      "metadata": {
        "id": "Uj2PuKwtr_XS"
      }
    },
    {
      "cell_type": "markdown",
      "source": [],
      "metadata": {
        "id": "hygYI9rdxlTw"
      }
    }
  ]
}