{
  "nbformat": 4,
  "nbformat_minor": 0,
  "metadata": {
    "colab": {
      "provenance": [],
      "gpuType": "V100",
      "machine_shape": "hm",
      "authorship_tag": "ABX9TyNq1PDQoRZmwjzrHajRD9A/",
      "include_colab_link": true
    },
    "kernelspec": {
      "name": "python3",
      "display_name": "Python 3"
    },
    "language_info": {
      "name": "python"
    },
    "accelerator": "GPU",
    "widgets": {
      "application/vnd.jupyter.widget-state+json": {
        "5bd104b40f5c4e16911a77219c99ccf6": {
          "model_module": "@jupyter-widgets/controls",
          "model_name": "HBoxModel",
          "model_module_version": "1.5.0",
          "state": {
            "_dom_classes": [],
            "_model_module": "@jupyter-widgets/controls",
            "_model_module_version": "1.5.0",
            "_model_name": "HBoxModel",
            "_view_count": null,
            "_view_module": "@jupyter-widgets/controls",
            "_view_module_version": "1.5.0",
            "_view_name": "HBoxView",
            "box_style": "",
            "children": [
              "IPY_MODEL_412e7e874624459fb3289976a0042e46",
              "IPY_MODEL_80acb4aa0ddc4ec69581c2b4ddaf6d54",
              "IPY_MODEL_943aba475f5241bc8df1a18212294e10"
            ],
            "layout": "IPY_MODEL_1926b7786b164e8e936821954ebacb71"
          }
        },
        "412e7e874624459fb3289976a0042e46": {
          "model_module": "@jupyter-widgets/controls",
          "model_name": "HTMLModel",
          "model_module_version": "1.5.0",
          "state": {
            "_dom_classes": [],
            "_model_module": "@jupyter-widgets/controls",
            "_model_module_version": "1.5.0",
            "_model_name": "HTMLModel",
            "_view_count": null,
            "_view_module": "@jupyter-widgets/controls",
            "_view_module_version": "1.5.0",
            "_view_name": "HTMLView",
            "description": "",
            "description_tooltip": null,
            "layout": "IPY_MODEL_3909702d46bc423b8904624615c4aa4d",
            "placeholder": "​",
            "style": "IPY_MODEL_eb0b53bfaa234cefaef31d7a6affed75",
            "value": "Downloading (…)lve/main/config.json: 100%"
          }
        },
        "80acb4aa0ddc4ec69581c2b4ddaf6d54": {
          "model_module": "@jupyter-widgets/controls",
          "model_name": "FloatProgressModel",
          "model_module_version": "1.5.0",
          "state": {
            "_dom_classes": [],
            "_model_module": "@jupyter-widgets/controls",
            "_model_module_version": "1.5.0",
            "_model_name": "FloatProgressModel",
            "_view_count": null,
            "_view_module": "@jupyter-widgets/controls",
            "_view_module_version": "1.5.0",
            "_view_name": "ProgressView",
            "bar_style": "success",
            "description": "",
            "description_tooltip": null,
            "layout": "IPY_MODEL_8351eee2df0b4b6083855b65ed8cfb79",
            "max": 483,
            "min": 0,
            "orientation": "horizontal",
            "style": "IPY_MODEL_a9ca89050b4a46bba71b9081a50f1c3d",
            "value": 483
          }
        },
        "943aba475f5241bc8df1a18212294e10": {
          "model_module": "@jupyter-widgets/controls",
          "model_name": "HTMLModel",
          "model_module_version": "1.5.0",
          "state": {
            "_dom_classes": [],
            "_model_module": "@jupyter-widgets/controls",
            "_model_module_version": "1.5.0",
            "_model_name": "HTMLModel",
            "_view_count": null,
            "_view_module": "@jupyter-widgets/controls",
            "_view_module_version": "1.5.0",
            "_view_name": "HTMLView",
            "description": "",
            "description_tooltip": null,
            "layout": "IPY_MODEL_32a99c4d53b4494580490db9a3d25b05",
            "placeholder": "​",
            "style": "IPY_MODEL_61367f073cc24fb5b7d6e53d31eafa69",
            "value": " 483/483 [00:00&lt;00:00, 37.8kB/s]"
          }
        },
        "1926b7786b164e8e936821954ebacb71": {
          "model_module": "@jupyter-widgets/base",
          "model_name": "LayoutModel",
          "model_module_version": "1.2.0",
          "state": {
            "_model_module": "@jupyter-widgets/base",
            "_model_module_version": "1.2.0",
            "_model_name": "LayoutModel",
            "_view_count": null,
            "_view_module": "@jupyter-widgets/base",
            "_view_module_version": "1.2.0",
            "_view_name": "LayoutView",
            "align_content": null,
            "align_items": null,
            "align_self": null,
            "border": null,
            "bottom": null,
            "display": null,
            "flex": null,
            "flex_flow": null,
            "grid_area": null,
            "grid_auto_columns": null,
            "grid_auto_flow": null,
            "grid_auto_rows": null,
            "grid_column": null,
            "grid_gap": null,
            "grid_row": null,
            "grid_template_areas": null,
            "grid_template_columns": null,
            "grid_template_rows": null,
            "height": null,
            "justify_content": null,
            "justify_items": null,
            "left": null,
            "margin": null,
            "max_height": null,
            "max_width": null,
            "min_height": null,
            "min_width": null,
            "object_fit": null,
            "object_position": null,
            "order": null,
            "overflow": null,
            "overflow_x": null,
            "overflow_y": null,
            "padding": null,
            "right": null,
            "top": null,
            "visibility": null,
            "width": null
          }
        },
        "3909702d46bc423b8904624615c4aa4d": {
          "model_module": "@jupyter-widgets/base",
          "model_name": "LayoutModel",
          "model_module_version": "1.2.0",
          "state": {
            "_model_module": "@jupyter-widgets/base",
            "_model_module_version": "1.2.0",
            "_model_name": "LayoutModel",
            "_view_count": null,
            "_view_module": "@jupyter-widgets/base",
            "_view_module_version": "1.2.0",
            "_view_name": "LayoutView",
            "align_content": null,
            "align_items": null,
            "align_self": null,
            "border": null,
            "bottom": null,
            "display": null,
            "flex": null,
            "flex_flow": null,
            "grid_area": null,
            "grid_auto_columns": null,
            "grid_auto_flow": null,
            "grid_auto_rows": null,
            "grid_column": null,
            "grid_gap": null,
            "grid_row": null,
            "grid_template_areas": null,
            "grid_template_columns": null,
            "grid_template_rows": null,
            "height": null,
            "justify_content": null,
            "justify_items": null,
            "left": null,
            "margin": null,
            "max_height": null,
            "max_width": null,
            "min_height": null,
            "min_width": null,
            "object_fit": null,
            "object_position": null,
            "order": null,
            "overflow": null,
            "overflow_x": null,
            "overflow_y": null,
            "padding": null,
            "right": null,
            "top": null,
            "visibility": null,
            "width": null
          }
        },
        "eb0b53bfaa234cefaef31d7a6affed75": {
          "model_module": "@jupyter-widgets/controls",
          "model_name": "DescriptionStyleModel",
          "model_module_version": "1.5.0",
          "state": {
            "_model_module": "@jupyter-widgets/controls",
            "_model_module_version": "1.5.0",
            "_model_name": "DescriptionStyleModel",
            "_view_count": null,
            "_view_module": "@jupyter-widgets/base",
            "_view_module_version": "1.2.0",
            "_view_name": "StyleView",
            "description_width": ""
          }
        },
        "8351eee2df0b4b6083855b65ed8cfb79": {
          "model_module": "@jupyter-widgets/base",
          "model_name": "LayoutModel",
          "model_module_version": "1.2.0",
          "state": {
            "_model_module": "@jupyter-widgets/base",
            "_model_module_version": "1.2.0",
            "_model_name": "LayoutModel",
            "_view_count": null,
            "_view_module": "@jupyter-widgets/base",
            "_view_module_version": "1.2.0",
            "_view_name": "LayoutView",
            "align_content": null,
            "align_items": null,
            "align_self": null,
            "border": null,
            "bottom": null,
            "display": null,
            "flex": null,
            "flex_flow": null,
            "grid_area": null,
            "grid_auto_columns": null,
            "grid_auto_flow": null,
            "grid_auto_rows": null,
            "grid_column": null,
            "grid_gap": null,
            "grid_row": null,
            "grid_template_areas": null,
            "grid_template_columns": null,
            "grid_template_rows": null,
            "height": null,
            "justify_content": null,
            "justify_items": null,
            "left": null,
            "margin": null,
            "max_height": null,
            "max_width": null,
            "min_height": null,
            "min_width": null,
            "object_fit": null,
            "object_position": null,
            "order": null,
            "overflow": null,
            "overflow_x": null,
            "overflow_y": null,
            "padding": null,
            "right": null,
            "top": null,
            "visibility": null,
            "width": null
          }
        },
        "a9ca89050b4a46bba71b9081a50f1c3d": {
          "model_module": "@jupyter-widgets/controls",
          "model_name": "ProgressStyleModel",
          "model_module_version": "1.5.0",
          "state": {
            "_model_module": "@jupyter-widgets/controls",
            "_model_module_version": "1.5.0",
            "_model_name": "ProgressStyleModel",
            "_view_count": null,
            "_view_module": "@jupyter-widgets/base",
            "_view_module_version": "1.2.0",
            "_view_name": "StyleView",
            "bar_color": null,
            "description_width": ""
          }
        },
        "32a99c4d53b4494580490db9a3d25b05": {
          "model_module": "@jupyter-widgets/base",
          "model_name": "LayoutModel",
          "model_module_version": "1.2.0",
          "state": {
            "_model_module": "@jupyter-widgets/base",
            "_model_module_version": "1.2.0",
            "_model_name": "LayoutModel",
            "_view_count": null,
            "_view_module": "@jupyter-widgets/base",
            "_view_module_version": "1.2.0",
            "_view_name": "LayoutView",
            "align_content": null,
            "align_items": null,
            "align_self": null,
            "border": null,
            "bottom": null,
            "display": null,
            "flex": null,
            "flex_flow": null,
            "grid_area": null,
            "grid_auto_columns": null,
            "grid_auto_flow": null,
            "grid_auto_rows": null,
            "grid_column": null,
            "grid_gap": null,
            "grid_row": null,
            "grid_template_areas": null,
            "grid_template_columns": null,
            "grid_template_rows": null,
            "height": null,
            "justify_content": null,
            "justify_items": null,
            "left": null,
            "margin": null,
            "max_height": null,
            "max_width": null,
            "min_height": null,
            "min_width": null,
            "object_fit": null,
            "object_position": null,
            "order": null,
            "overflow": null,
            "overflow_x": null,
            "overflow_y": null,
            "padding": null,
            "right": null,
            "top": null,
            "visibility": null,
            "width": null
          }
        },
        "61367f073cc24fb5b7d6e53d31eafa69": {
          "model_module": "@jupyter-widgets/controls",
          "model_name": "DescriptionStyleModel",
          "model_module_version": "1.5.0",
          "state": {
            "_model_module": "@jupyter-widgets/controls",
            "_model_module_version": "1.5.0",
            "_model_name": "DescriptionStyleModel",
            "_view_count": null,
            "_view_module": "@jupyter-widgets/base",
            "_view_module_version": "1.2.0",
            "_view_name": "StyleView",
            "description_width": ""
          }
        },
        "6114a8b94c27442391702887f56a95c8": {
          "model_module": "@jupyter-widgets/controls",
          "model_name": "HBoxModel",
          "model_module_version": "1.5.0",
          "state": {
            "_dom_classes": [],
            "_model_module": "@jupyter-widgets/controls",
            "_model_module_version": "1.5.0",
            "_model_name": "HBoxModel",
            "_view_count": null,
            "_view_module": "@jupyter-widgets/controls",
            "_view_module_version": "1.5.0",
            "_view_name": "HBoxView",
            "box_style": "",
            "children": [
              "IPY_MODEL_ccfed9ae96fe4621a055a38c5f7a0e9f",
              "IPY_MODEL_73fa25ff1392403597ee744742e34621",
              "IPY_MODEL_4a3a7376451849c8a6e47cce8f887f86"
            ],
            "layout": "IPY_MODEL_caa8ecb36dd347ec8f06f18b51776c50"
          }
        },
        "ccfed9ae96fe4621a055a38c5f7a0e9f": {
          "model_module": "@jupyter-widgets/controls",
          "model_name": "HTMLModel",
          "model_module_version": "1.5.0",
          "state": {
            "_dom_classes": [],
            "_model_module": "@jupyter-widgets/controls",
            "_model_module_version": "1.5.0",
            "_model_name": "HTMLModel",
            "_view_count": null,
            "_view_module": "@jupyter-widgets/controls",
            "_view_module_version": "1.5.0",
            "_view_name": "HTMLView",
            "description": "",
            "description_tooltip": null,
            "layout": "IPY_MODEL_f5d0dfba11aa4bfa9ec93cac75a2f478",
            "placeholder": "​",
            "style": "IPY_MODEL_c5ef40b2238d4be78abc6e41626c0799",
            "value": "Downloading model.safetensors: 100%"
          }
        },
        "73fa25ff1392403597ee744742e34621": {
          "model_module": "@jupyter-widgets/controls",
          "model_name": "FloatProgressModel",
          "model_module_version": "1.5.0",
          "state": {
            "_dom_classes": [],
            "_model_module": "@jupyter-widgets/controls",
            "_model_module_version": "1.5.0",
            "_model_name": "FloatProgressModel",
            "_view_count": null,
            "_view_module": "@jupyter-widgets/controls",
            "_view_module_version": "1.5.0",
            "_view_name": "ProgressView",
            "bar_style": "success",
            "description": "",
            "description_tooltip": null,
            "layout": "IPY_MODEL_4111e7d024ac48228d4ff36d0659e708",
            "max": 267954768,
            "min": 0,
            "orientation": "horizontal",
            "style": "IPY_MODEL_6ff9e766d23640b3b0848055de16443e",
            "value": 267954768
          }
        },
        "4a3a7376451849c8a6e47cce8f887f86": {
          "model_module": "@jupyter-widgets/controls",
          "model_name": "HTMLModel",
          "model_module_version": "1.5.0",
          "state": {
            "_dom_classes": [],
            "_model_module": "@jupyter-widgets/controls",
            "_model_module_version": "1.5.0",
            "_model_name": "HTMLModel",
            "_view_count": null,
            "_view_module": "@jupyter-widgets/controls",
            "_view_module_version": "1.5.0",
            "_view_name": "HTMLView",
            "description": "",
            "description_tooltip": null,
            "layout": "IPY_MODEL_017d514efd4749fe80f0c8ff500bbddd",
            "placeholder": "​",
            "style": "IPY_MODEL_399d2e9c0be74584b0c60504dfdf9e4a",
            "value": " 268M/268M [00:00&lt;00:00, 353MB/s]"
          }
        },
        "caa8ecb36dd347ec8f06f18b51776c50": {
          "model_module": "@jupyter-widgets/base",
          "model_name": "LayoutModel",
          "model_module_version": "1.2.0",
          "state": {
            "_model_module": "@jupyter-widgets/base",
            "_model_module_version": "1.2.0",
            "_model_name": "LayoutModel",
            "_view_count": null,
            "_view_module": "@jupyter-widgets/base",
            "_view_module_version": "1.2.0",
            "_view_name": "LayoutView",
            "align_content": null,
            "align_items": null,
            "align_self": null,
            "border": null,
            "bottom": null,
            "display": null,
            "flex": null,
            "flex_flow": null,
            "grid_area": null,
            "grid_auto_columns": null,
            "grid_auto_flow": null,
            "grid_auto_rows": null,
            "grid_column": null,
            "grid_gap": null,
            "grid_row": null,
            "grid_template_areas": null,
            "grid_template_columns": null,
            "grid_template_rows": null,
            "height": null,
            "justify_content": null,
            "justify_items": null,
            "left": null,
            "margin": null,
            "max_height": null,
            "max_width": null,
            "min_height": null,
            "min_width": null,
            "object_fit": null,
            "object_position": null,
            "order": null,
            "overflow": null,
            "overflow_x": null,
            "overflow_y": null,
            "padding": null,
            "right": null,
            "top": null,
            "visibility": null,
            "width": null
          }
        },
        "f5d0dfba11aa4bfa9ec93cac75a2f478": {
          "model_module": "@jupyter-widgets/base",
          "model_name": "LayoutModel",
          "model_module_version": "1.2.0",
          "state": {
            "_model_module": "@jupyter-widgets/base",
            "_model_module_version": "1.2.0",
            "_model_name": "LayoutModel",
            "_view_count": null,
            "_view_module": "@jupyter-widgets/base",
            "_view_module_version": "1.2.0",
            "_view_name": "LayoutView",
            "align_content": null,
            "align_items": null,
            "align_self": null,
            "border": null,
            "bottom": null,
            "display": null,
            "flex": null,
            "flex_flow": null,
            "grid_area": null,
            "grid_auto_columns": null,
            "grid_auto_flow": null,
            "grid_auto_rows": null,
            "grid_column": null,
            "grid_gap": null,
            "grid_row": null,
            "grid_template_areas": null,
            "grid_template_columns": null,
            "grid_template_rows": null,
            "height": null,
            "justify_content": null,
            "justify_items": null,
            "left": null,
            "margin": null,
            "max_height": null,
            "max_width": null,
            "min_height": null,
            "min_width": null,
            "object_fit": null,
            "object_position": null,
            "order": null,
            "overflow": null,
            "overflow_x": null,
            "overflow_y": null,
            "padding": null,
            "right": null,
            "top": null,
            "visibility": null,
            "width": null
          }
        },
        "c5ef40b2238d4be78abc6e41626c0799": {
          "model_module": "@jupyter-widgets/controls",
          "model_name": "DescriptionStyleModel",
          "model_module_version": "1.5.0",
          "state": {
            "_model_module": "@jupyter-widgets/controls",
            "_model_module_version": "1.5.0",
            "_model_name": "DescriptionStyleModel",
            "_view_count": null,
            "_view_module": "@jupyter-widgets/base",
            "_view_module_version": "1.2.0",
            "_view_name": "StyleView",
            "description_width": ""
          }
        },
        "4111e7d024ac48228d4ff36d0659e708": {
          "model_module": "@jupyter-widgets/base",
          "model_name": "LayoutModel",
          "model_module_version": "1.2.0",
          "state": {
            "_model_module": "@jupyter-widgets/base",
            "_model_module_version": "1.2.0",
            "_model_name": "LayoutModel",
            "_view_count": null,
            "_view_module": "@jupyter-widgets/base",
            "_view_module_version": "1.2.0",
            "_view_name": "LayoutView",
            "align_content": null,
            "align_items": null,
            "align_self": null,
            "border": null,
            "bottom": null,
            "display": null,
            "flex": null,
            "flex_flow": null,
            "grid_area": null,
            "grid_auto_columns": null,
            "grid_auto_flow": null,
            "grid_auto_rows": null,
            "grid_column": null,
            "grid_gap": null,
            "grid_row": null,
            "grid_template_areas": null,
            "grid_template_columns": null,
            "grid_template_rows": null,
            "height": null,
            "justify_content": null,
            "justify_items": null,
            "left": null,
            "margin": null,
            "max_height": null,
            "max_width": null,
            "min_height": null,
            "min_width": null,
            "object_fit": null,
            "object_position": null,
            "order": null,
            "overflow": null,
            "overflow_x": null,
            "overflow_y": null,
            "padding": null,
            "right": null,
            "top": null,
            "visibility": null,
            "width": null
          }
        },
        "6ff9e766d23640b3b0848055de16443e": {
          "model_module": "@jupyter-widgets/controls",
          "model_name": "ProgressStyleModel",
          "model_module_version": "1.5.0",
          "state": {
            "_model_module": "@jupyter-widgets/controls",
            "_model_module_version": "1.5.0",
            "_model_name": "ProgressStyleModel",
            "_view_count": null,
            "_view_module": "@jupyter-widgets/base",
            "_view_module_version": "1.2.0",
            "_view_name": "StyleView",
            "bar_color": null,
            "description_width": ""
          }
        },
        "017d514efd4749fe80f0c8ff500bbddd": {
          "model_module": "@jupyter-widgets/base",
          "model_name": "LayoutModel",
          "model_module_version": "1.2.0",
          "state": {
            "_model_module": "@jupyter-widgets/base",
            "_model_module_version": "1.2.0",
            "_model_name": "LayoutModel",
            "_view_count": null,
            "_view_module": "@jupyter-widgets/base",
            "_view_module_version": "1.2.0",
            "_view_name": "LayoutView",
            "align_content": null,
            "align_items": null,
            "align_self": null,
            "border": null,
            "bottom": null,
            "display": null,
            "flex": null,
            "flex_flow": null,
            "grid_area": null,
            "grid_auto_columns": null,
            "grid_auto_flow": null,
            "grid_auto_rows": null,
            "grid_column": null,
            "grid_gap": null,
            "grid_row": null,
            "grid_template_areas": null,
            "grid_template_columns": null,
            "grid_template_rows": null,
            "height": null,
            "justify_content": null,
            "justify_items": null,
            "left": null,
            "margin": null,
            "max_height": null,
            "max_width": null,
            "min_height": null,
            "min_width": null,
            "object_fit": null,
            "object_position": null,
            "order": null,
            "overflow": null,
            "overflow_x": null,
            "overflow_y": null,
            "padding": null,
            "right": null,
            "top": null,
            "visibility": null,
            "width": null
          }
        },
        "399d2e9c0be74584b0c60504dfdf9e4a": {
          "model_module": "@jupyter-widgets/controls",
          "model_name": "DescriptionStyleModel",
          "model_module_version": "1.5.0",
          "state": {
            "_model_module": "@jupyter-widgets/controls",
            "_model_module_version": "1.5.0",
            "_model_name": "DescriptionStyleModel",
            "_view_count": null,
            "_view_module": "@jupyter-widgets/base",
            "_view_module_version": "1.2.0",
            "_view_name": "StyleView",
            "description_width": ""
          }
        },
        "0376a570153c4db299810e8514820981": {
          "model_module": "@jupyter-widgets/controls",
          "model_name": "HBoxModel",
          "model_module_version": "1.5.0",
          "state": {
            "_dom_classes": [],
            "_model_module": "@jupyter-widgets/controls",
            "_model_module_version": "1.5.0",
            "_model_name": "HBoxModel",
            "_view_count": null,
            "_view_module": "@jupyter-widgets/controls",
            "_view_module_version": "1.5.0",
            "_view_name": "HBoxView",
            "box_style": "",
            "children": [
              "IPY_MODEL_fae1ed916a1e476f977f798e3cb09410",
              "IPY_MODEL_c1a42d1d084f4513bd4af0fc911e5d8a",
              "IPY_MODEL_0970bd21211a426b8a99fc9021636bcd"
            ],
            "layout": "IPY_MODEL_53f9d72c0b61486493f0d9dcad1fd9fb"
          }
        },
        "fae1ed916a1e476f977f798e3cb09410": {
          "model_module": "@jupyter-widgets/controls",
          "model_name": "HTMLModel",
          "model_module_version": "1.5.0",
          "state": {
            "_dom_classes": [],
            "_model_module": "@jupyter-widgets/controls",
            "_model_module_version": "1.5.0",
            "_model_name": "HTMLModel",
            "_view_count": null,
            "_view_module": "@jupyter-widgets/controls",
            "_view_module_version": "1.5.0",
            "_view_name": "HTMLView",
            "description": "",
            "description_tooltip": null,
            "layout": "IPY_MODEL_ff298e4daa674d5eb67c2f8a7803bf81",
            "placeholder": "​",
            "style": "IPY_MODEL_621b00e2412a48ac97e301eead8ebef7",
            "value": "Downloading (…)okenizer_config.json: 100%"
          }
        },
        "c1a42d1d084f4513bd4af0fc911e5d8a": {
          "model_module": "@jupyter-widgets/controls",
          "model_name": "FloatProgressModel",
          "model_module_version": "1.5.0",
          "state": {
            "_dom_classes": [],
            "_model_module": "@jupyter-widgets/controls",
            "_model_module_version": "1.5.0",
            "_model_name": "FloatProgressModel",
            "_view_count": null,
            "_view_module": "@jupyter-widgets/controls",
            "_view_module_version": "1.5.0",
            "_view_name": "ProgressView",
            "bar_style": "success",
            "description": "",
            "description_tooltip": null,
            "layout": "IPY_MODEL_9dcc88a20c57405bb50b426cce298bac",
            "max": 28,
            "min": 0,
            "orientation": "horizontal",
            "style": "IPY_MODEL_627b37f6406d4e6ba4de1e539220ffa5",
            "value": 28
          }
        },
        "0970bd21211a426b8a99fc9021636bcd": {
          "model_module": "@jupyter-widgets/controls",
          "model_name": "HTMLModel",
          "model_module_version": "1.5.0",
          "state": {
            "_dom_classes": [],
            "_model_module": "@jupyter-widgets/controls",
            "_model_module_version": "1.5.0",
            "_model_name": "HTMLModel",
            "_view_count": null,
            "_view_module": "@jupyter-widgets/controls",
            "_view_module_version": "1.5.0",
            "_view_name": "HTMLView",
            "description": "",
            "description_tooltip": null,
            "layout": "IPY_MODEL_b25682160b2c4045b57de5c8f06758a4",
            "placeholder": "​",
            "style": "IPY_MODEL_5857e2aabfcb4b738dde413af6d5d541",
            "value": " 28.0/28.0 [00:00&lt;00:00, 2.51kB/s]"
          }
        },
        "53f9d72c0b61486493f0d9dcad1fd9fb": {
          "model_module": "@jupyter-widgets/base",
          "model_name": "LayoutModel",
          "model_module_version": "1.2.0",
          "state": {
            "_model_module": "@jupyter-widgets/base",
            "_model_module_version": "1.2.0",
            "_model_name": "LayoutModel",
            "_view_count": null,
            "_view_module": "@jupyter-widgets/base",
            "_view_module_version": "1.2.0",
            "_view_name": "LayoutView",
            "align_content": null,
            "align_items": null,
            "align_self": null,
            "border": null,
            "bottom": null,
            "display": null,
            "flex": null,
            "flex_flow": null,
            "grid_area": null,
            "grid_auto_columns": null,
            "grid_auto_flow": null,
            "grid_auto_rows": null,
            "grid_column": null,
            "grid_gap": null,
            "grid_row": null,
            "grid_template_areas": null,
            "grid_template_columns": null,
            "grid_template_rows": null,
            "height": null,
            "justify_content": null,
            "justify_items": null,
            "left": null,
            "margin": null,
            "max_height": null,
            "max_width": null,
            "min_height": null,
            "min_width": null,
            "object_fit": null,
            "object_position": null,
            "order": null,
            "overflow": null,
            "overflow_x": null,
            "overflow_y": null,
            "padding": null,
            "right": null,
            "top": null,
            "visibility": null,
            "width": null
          }
        },
        "ff298e4daa674d5eb67c2f8a7803bf81": {
          "model_module": "@jupyter-widgets/base",
          "model_name": "LayoutModel",
          "model_module_version": "1.2.0",
          "state": {
            "_model_module": "@jupyter-widgets/base",
            "_model_module_version": "1.2.0",
            "_model_name": "LayoutModel",
            "_view_count": null,
            "_view_module": "@jupyter-widgets/base",
            "_view_module_version": "1.2.0",
            "_view_name": "LayoutView",
            "align_content": null,
            "align_items": null,
            "align_self": null,
            "border": null,
            "bottom": null,
            "display": null,
            "flex": null,
            "flex_flow": null,
            "grid_area": null,
            "grid_auto_columns": null,
            "grid_auto_flow": null,
            "grid_auto_rows": null,
            "grid_column": null,
            "grid_gap": null,
            "grid_row": null,
            "grid_template_areas": null,
            "grid_template_columns": null,
            "grid_template_rows": null,
            "height": null,
            "justify_content": null,
            "justify_items": null,
            "left": null,
            "margin": null,
            "max_height": null,
            "max_width": null,
            "min_height": null,
            "min_width": null,
            "object_fit": null,
            "object_position": null,
            "order": null,
            "overflow": null,
            "overflow_x": null,
            "overflow_y": null,
            "padding": null,
            "right": null,
            "top": null,
            "visibility": null,
            "width": null
          }
        },
        "621b00e2412a48ac97e301eead8ebef7": {
          "model_module": "@jupyter-widgets/controls",
          "model_name": "DescriptionStyleModel",
          "model_module_version": "1.5.0",
          "state": {
            "_model_module": "@jupyter-widgets/controls",
            "_model_module_version": "1.5.0",
            "_model_name": "DescriptionStyleModel",
            "_view_count": null,
            "_view_module": "@jupyter-widgets/base",
            "_view_module_version": "1.2.0",
            "_view_name": "StyleView",
            "description_width": ""
          }
        },
        "9dcc88a20c57405bb50b426cce298bac": {
          "model_module": "@jupyter-widgets/base",
          "model_name": "LayoutModel",
          "model_module_version": "1.2.0",
          "state": {
            "_model_module": "@jupyter-widgets/base",
            "_model_module_version": "1.2.0",
            "_model_name": "LayoutModel",
            "_view_count": null,
            "_view_module": "@jupyter-widgets/base",
            "_view_module_version": "1.2.0",
            "_view_name": "LayoutView",
            "align_content": null,
            "align_items": null,
            "align_self": null,
            "border": null,
            "bottom": null,
            "display": null,
            "flex": null,
            "flex_flow": null,
            "grid_area": null,
            "grid_auto_columns": null,
            "grid_auto_flow": null,
            "grid_auto_rows": null,
            "grid_column": null,
            "grid_gap": null,
            "grid_row": null,
            "grid_template_areas": null,
            "grid_template_columns": null,
            "grid_template_rows": null,
            "height": null,
            "justify_content": null,
            "justify_items": null,
            "left": null,
            "margin": null,
            "max_height": null,
            "max_width": null,
            "min_height": null,
            "min_width": null,
            "object_fit": null,
            "object_position": null,
            "order": null,
            "overflow": null,
            "overflow_x": null,
            "overflow_y": null,
            "padding": null,
            "right": null,
            "top": null,
            "visibility": null,
            "width": null
          }
        },
        "627b37f6406d4e6ba4de1e539220ffa5": {
          "model_module": "@jupyter-widgets/controls",
          "model_name": "ProgressStyleModel",
          "model_module_version": "1.5.0",
          "state": {
            "_model_module": "@jupyter-widgets/controls",
            "_model_module_version": "1.5.0",
            "_model_name": "ProgressStyleModel",
            "_view_count": null,
            "_view_module": "@jupyter-widgets/base",
            "_view_module_version": "1.2.0",
            "_view_name": "StyleView",
            "bar_color": null,
            "description_width": ""
          }
        },
        "b25682160b2c4045b57de5c8f06758a4": {
          "model_module": "@jupyter-widgets/base",
          "model_name": "LayoutModel",
          "model_module_version": "1.2.0",
          "state": {
            "_model_module": "@jupyter-widgets/base",
            "_model_module_version": "1.2.0",
            "_model_name": "LayoutModel",
            "_view_count": null,
            "_view_module": "@jupyter-widgets/base",
            "_view_module_version": "1.2.0",
            "_view_name": "LayoutView",
            "align_content": null,
            "align_items": null,
            "align_self": null,
            "border": null,
            "bottom": null,
            "display": null,
            "flex": null,
            "flex_flow": null,
            "grid_area": null,
            "grid_auto_columns": null,
            "grid_auto_flow": null,
            "grid_auto_rows": null,
            "grid_column": null,
            "grid_gap": null,
            "grid_row": null,
            "grid_template_areas": null,
            "grid_template_columns": null,
            "grid_template_rows": null,
            "height": null,
            "justify_content": null,
            "justify_items": null,
            "left": null,
            "margin": null,
            "max_height": null,
            "max_width": null,
            "min_height": null,
            "min_width": null,
            "object_fit": null,
            "object_position": null,
            "order": null,
            "overflow": null,
            "overflow_x": null,
            "overflow_y": null,
            "padding": null,
            "right": null,
            "top": null,
            "visibility": null,
            "width": null
          }
        },
        "5857e2aabfcb4b738dde413af6d5d541": {
          "model_module": "@jupyter-widgets/controls",
          "model_name": "DescriptionStyleModel",
          "model_module_version": "1.5.0",
          "state": {
            "_model_module": "@jupyter-widgets/controls",
            "_model_module_version": "1.5.0",
            "_model_name": "DescriptionStyleModel",
            "_view_count": null,
            "_view_module": "@jupyter-widgets/base",
            "_view_module_version": "1.2.0",
            "_view_name": "StyleView",
            "description_width": ""
          }
        },
        "7d7839a9e3254a2fa2248dbcea5d6052": {
          "model_module": "@jupyter-widgets/controls",
          "model_name": "HBoxModel",
          "model_module_version": "1.5.0",
          "state": {
            "_dom_classes": [],
            "_model_module": "@jupyter-widgets/controls",
            "_model_module_version": "1.5.0",
            "_model_name": "HBoxModel",
            "_view_count": null,
            "_view_module": "@jupyter-widgets/controls",
            "_view_module_version": "1.5.0",
            "_view_name": "HBoxView",
            "box_style": "",
            "children": [
              "IPY_MODEL_9fce9db3ddcd495987c22300322f8c7d",
              "IPY_MODEL_34a11ea3672e4af58f250e19f3b8a3d0",
              "IPY_MODEL_63807fde45ce4212ad535b05526cfcbb"
            ],
            "layout": "IPY_MODEL_a2e0f047e8d34d3394d016ff4074973a"
          }
        },
        "9fce9db3ddcd495987c22300322f8c7d": {
          "model_module": "@jupyter-widgets/controls",
          "model_name": "HTMLModel",
          "model_module_version": "1.5.0",
          "state": {
            "_dom_classes": [],
            "_model_module": "@jupyter-widgets/controls",
            "_model_module_version": "1.5.0",
            "_model_name": "HTMLModel",
            "_view_count": null,
            "_view_module": "@jupyter-widgets/controls",
            "_view_module_version": "1.5.0",
            "_view_name": "HTMLView",
            "description": "",
            "description_tooltip": null,
            "layout": "IPY_MODEL_d2cb1f560c2e497b99eba965b298ee06",
            "placeholder": "​",
            "style": "IPY_MODEL_114ef7aeea534cef8b3f47787133870c",
            "value": "Downloading (…)solve/main/vocab.txt: 100%"
          }
        },
        "34a11ea3672e4af58f250e19f3b8a3d0": {
          "model_module": "@jupyter-widgets/controls",
          "model_name": "FloatProgressModel",
          "model_module_version": "1.5.0",
          "state": {
            "_dom_classes": [],
            "_model_module": "@jupyter-widgets/controls",
            "_model_module_version": "1.5.0",
            "_model_name": "FloatProgressModel",
            "_view_count": null,
            "_view_module": "@jupyter-widgets/controls",
            "_view_module_version": "1.5.0",
            "_view_name": "ProgressView",
            "bar_style": "success",
            "description": "",
            "description_tooltip": null,
            "layout": "IPY_MODEL_72861f320871405b9377a3964c4dcdf9",
            "max": 231508,
            "min": 0,
            "orientation": "horizontal",
            "style": "IPY_MODEL_2d8a27d23aa34c029ec6e7dcb22a14e9",
            "value": 231508
          }
        },
        "63807fde45ce4212ad535b05526cfcbb": {
          "model_module": "@jupyter-widgets/controls",
          "model_name": "HTMLModel",
          "model_module_version": "1.5.0",
          "state": {
            "_dom_classes": [],
            "_model_module": "@jupyter-widgets/controls",
            "_model_module_version": "1.5.0",
            "_model_name": "HTMLModel",
            "_view_count": null,
            "_view_module": "@jupyter-widgets/controls",
            "_view_module_version": "1.5.0",
            "_view_name": "HTMLView",
            "description": "",
            "description_tooltip": null,
            "layout": "IPY_MODEL_3c340a4fc6734e5bb9df7798ebaf8304",
            "placeholder": "​",
            "style": "IPY_MODEL_1f5d7074fd1e46278e42b6362bca98f7",
            "value": " 232k/232k [00:00&lt;00:00, 10.9MB/s]"
          }
        },
        "a2e0f047e8d34d3394d016ff4074973a": {
          "model_module": "@jupyter-widgets/base",
          "model_name": "LayoutModel",
          "model_module_version": "1.2.0",
          "state": {
            "_model_module": "@jupyter-widgets/base",
            "_model_module_version": "1.2.0",
            "_model_name": "LayoutModel",
            "_view_count": null,
            "_view_module": "@jupyter-widgets/base",
            "_view_module_version": "1.2.0",
            "_view_name": "LayoutView",
            "align_content": null,
            "align_items": null,
            "align_self": null,
            "border": null,
            "bottom": null,
            "display": null,
            "flex": null,
            "flex_flow": null,
            "grid_area": null,
            "grid_auto_columns": null,
            "grid_auto_flow": null,
            "grid_auto_rows": null,
            "grid_column": null,
            "grid_gap": null,
            "grid_row": null,
            "grid_template_areas": null,
            "grid_template_columns": null,
            "grid_template_rows": null,
            "height": null,
            "justify_content": null,
            "justify_items": null,
            "left": null,
            "margin": null,
            "max_height": null,
            "max_width": null,
            "min_height": null,
            "min_width": null,
            "object_fit": null,
            "object_position": null,
            "order": null,
            "overflow": null,
            "overflow_x": null,
            "overflow_y": null,
            "padding": null,
            "right": null,
            "top": null,
            "visibility": null,
            "width": null
          }
        },
        "d2cb1f560c2e497b99eba965b298ee06": {
          "model_module": "@jupyter-widgets/base",
          "model_name": "LayoutModel",
          "model_module_version": "1.2.0",
          "state": {
            "_model_module": "@jupyter-widgets/base",
            "_model_module_version": "1.2.0",
            "_model_name": "LayoutModel",
            "_view_count": null,
            "_view_module": "@jupyter-widgets/base",
            "_view_module_version": "1.2.0",
            "_view_name": "LayoutView",
            "align_content": null,
            "align_items": null,
            "align_self": null,
            "border": null,
            "bottom": null,
            "display": null,
            "flex": null,
            "flex_flow": null,
            "grid_area": null,
            "grid_auto_columns": null,
            "grid_auto_flow": null,
            "grid_auto_rows": null,
            "grid_column": null,
            "grid_gap": null,
            "grid_row": null,
            "grid_template_areas": null,
            "grid_template_columns": null,
            "grid_template_rows": null,
            "height": null,
            "justify_content": null,
            "justify_items": null,
            "left": null,
            "margin": null,
            "max_height": null,
            "max_width": null,
            "min_height": null,
            "min_width": null,
            "object_fit": null,
            "object_position": null,
            "order": null,
            "overflow": null,
            "overflow_x": null,
            "overflow_y": null,
            "padding": null,
            "right": null,
            "top": null,
            "visibility": null,
            "width": null
          }
        },
        "114ef7aeea534cef8b3f47787133870c": {
          "model_module": "@jupyter-widgets/controls",
          "model_name": "DescriptionStyleModel",
          "model_module_version": "1.5.0",
          "state": {
            "_model_module": "@jupyter-widgets/controls",
            "_model_module_version": "1.5.0",
            "_model_name": "DescriptionStyleModel",
            "_view_count": null,
            "_view_module": "@jupyter-widgets/base",
            "_view_module_version": "1.2.0",
            "_view_name": "StyleView",
            "description_width": ""
          }
        },
        "72861f320871405b9377a3964c4dcdf9": {
          "model_module": "@jupyter-widgets/base",
          "model_name": "LayoutModel",
          "model_module_version": "1.2.0",
          "state": {
            "_model_module": "@jupyter-widgets/base",
            "_model_module_version": "1.2.0",
            "_model_name": "LayoutModel",
            "_view_count": null,
            "_view_module": "@jupyter-widgets/base",
            "_view_module_version": "1.2.0",
            "_view_name": "LayoutView",
            "align_content": null,
            "align_items": null,
            "align_self": null,
            "border": null,
            "bottom": null,
            "display": null,
            "flex": null,
            "flex_flow": null,
            "grid_area": null,
            "grid_auto_columns": null,
            "grid_auto_flow": null,
            "grid_auto_rows": null,
            "grid_column": null,
            "grid_gap": null,
            "grid_row": null,
            "grid_template_areas": null,
            "grid_template_columns": null,
            "grid_template_rows": null,
            "height": null,
            "justify_content": null,
            "justify_items": null,
            "left": null,
            "margin": null,
            "max_height": null,
            "max_width": null,
            "min_height": null,
            "min_width": null,
            "object_fit": null,
            "object_position": null,
            "order": null,
            "overflow": null,
            "overflow_x": null,
            "overflow_y": null,
            "padding": null,
            "right": null,
            "top": null,
            "visibility": null,
            "width": null
          }
        },
        "2d8a27d23aa34c029ec6e7dcb22a14e9": {
          "model_module": "@jupyter-widgets/controls",
          "model_name": "ProgressStyleModel",
          "model_module_version": "1.5.0",
          "state": {
            "_model_module": "@jupyter-widgets/controls",
            "_model_module_version": "1.5.0",
            "_model_name": "ProgressStyleModel",
            "_view_count": null,
            "_view_module": "@jupyter-widgets/base",
            "_view_module_version": "1.2.0",
            "_view_name": "StyleView",
            "bar_color": null,
            "description_width": ""
          }
        },
        "3c340a4fc6734e5bb9df7798ebaf8304": {
          "model_module": "@jupyter-widgets/base",
          "model_name": "LayoutModel",
          "model_module_version": "1.2.0",
          "state": {
            "_model_module": "@jupyter-widgets/base",
            "_model_module_version": "1.2.0",
            "_model_name": "LayoutModel",
            "_view_count": null,
            "_view_module": "@jupyter-widgets/base",
            "_view_module_version": "1.2.0",
            "_view_name": "LayoutView",
            "align_content": null,
            "align_items": null,
            "align_self": null,
            "border": null,
            "bottom": null,
            "display": null,
            "flex": null,
            "flex_flow": null,
            "grid_area": null,
            "grid_auto_columns": null,
            "grid_auto_flow": null,
            "grid_auto_rows": null,
            "grid_column": null,
            "grid_gap": null,
            "grid_row": null,
            "grid_template_areas": null,
            "grid_template_columns": null,
            "grid_template_rows": null,
            "height": null,
            "justify_content": null,
            "justify_items": null,
            "left": null,
            "margin": null,
            "max_height": null,
            "max_width": null,
            "min_height": null,
            "min_width": null,
            "object_fit": null,
            "object_position": null,
            "order": null,
            "overflow": null,
            "overflow_x": null,
            "overflow_y": null,
            "padding": null,
            "right": null,
            "top": null,
            "visibility": null,
            "width": null
          }
        },
        "1f5d7074fd1e46278e42b6362bca98f7": {
          "model_module": "@jupyter-widgets/controls",
          "model_name": "DescriptionStyleModel",
          "model_module_version": "1.5.0",
          "state": {
            "_model_module": "@jupyter-widgets/controls",
            "_model_module_version": "1.5.0",
            "_model_name": "DescriptionStyleModel",
            "_view_count": null,
            "_view_module": "@jupyter-widgets/base",
            "_view_module_version": "1.2.0",
            "_view_name": "StyleView",
            "description_width": ""
          }
        },
        "107a91ab94714d9fa1aca0b911b8496e": {
          "model_module": "@jupyter-widgets/controls",
          "model_name": "HBoxModel",
          "model_module_version": "1.5.0",
          "state": {
            "_dom_classes": [],
            "_model_module": "@jupyter-widgets/controls",
            "_model_module_version": "1.5.0",
            "_model_name": "HBoxModel",
            "_view_count": null,
            "_view_module": "@jupyter-widgets/controls",
            "_view_module_version": "1.5.0",
            "_view_name": "HBoxView",
            "box_style": "",
            "children": [
              "IPY_MODEL_5974248ed96e4d4e889d760fa1cd0dc7",
              "IPY_MODEL_51626d5b36dd400ea0253958b6f28175",
              "IPY_MODEL_8c1b1bd6d3434468ab04565d9efef7b0"
            ],
            "layout": "IPY_MODEL_1063a8b31b1a494ca01cf903c3b4f5a0"
          }
        },
        "5974248ed96e4d4e889d760fa1cd0dc7": {
          "model_module": "@jupyter-widgets/controls",
          "model_name": "HTMLModel",
          "model_module_version": "1.5.0",
          "state": {
            "_dom_classes": [],
            "_model_module": "@jupyter-widgets/controls",
            "_model_module_version": "1.5.0",
            "_model_name": "HTMLModel",
            "_view_count": null,
            "_view_module": "@jupyter-widgets/controls",
            "_view_module_version": "1.5.0",
            "_view_name": "HTMLView",
            "description": "",
            "description_tooltip": null,
            "layout": "IPY_MODEL_9788a24b19c04d309acf2878aaba6fc2",
            "placeholder": "​",
            "style": "IPY_MODEL_6baf50d1ea2340d19a40f5df575473e0",
            "value": "Downloading (…)/main/tokenizer.json: 100%"
          }
        },
        "51626d5b36dd400ea0253958b6f28175": {
          "model_module": "@jupyter-widgets/controls",
          "model_name": "FloatProgressModel",
          "model_module_version": "1.5.0",
          "state": {
            "_dom_classes": [],
            "_model_module": "@jupyter-widgets/controls",
            "_model_module_version": "1.5.0",
            "_model_name": "FloatProgressModel",
            "_view_count": null,
            "_view_module": "@jupyter-widgets/controls",
            "_view_module_version": "1.5.0",
            "_view_name": "ProgressView",
            "bar_style": "success",
            "description": "",
            "description_tooltip": null,
            "layout": "IPY_MODEL_2b8ac000bf6f4a2f8057bd12c31d5f3f",
            "max": 466062,
            "min": 0,
            "orientation": "horizontal",
            "style": "IPY_MODEL_3221d06e16334a319a0537c32e5c1114",
            "value": 466062
          }
        },
        "8c1b1bd6d3434468ab04565d9efef7b0": {
          "model_module": "@jupyter-widgets/controls",
          "model_name": "HTMLModel",
          "model_module_version": "1.5.0",
          "state": {
            "_dom_classes": [],
            "_model_module": "@jupyter-widgets/controls",
            "_model_module_version": "1.5.0",
            "_model_name": "HTMLModel",
            "_view_count": null,
            "_view_module": "@jupyter-widgets/controls",
            "_view_module_version": "1.5.0",
            "_view_name": "HTMLView",
            "description": "",
            "description_tooltip": null,
            "layout": "IPY_MODEL_d9aa3b88d6784e8d8fac71bbe05373ef",
            "placeholder": "​",
            "style": "IPY_MODEL_647d109c2bdc42a49f1953226cd1e9f9",
            "value": " 466k/466k [00:00&lt;00:00, 1.61MB/s]"
          }
        },
        "1063a8b31b1a494ca01cf903c3b4f5a0": {
          "model_module": "@jupyter-widgets/base",
          "model_name": "LayoutModel",
          "model_module_version": "1.2.0",
          "state": {
            "_model_module": "@jupyter-widgets/base",
            "_model_module_version": "1.2.0",
            "_model_name": "LayoutModel",
            "_view_count": null,
            "_view_module": "@jupyter-widgets/base",
            "_view_module_version": "1.2.0",
            "_view_name": "LayoutView",
            "align_content": null,
            "align_items": null,
            "align_self": null,
            "border": null,
            "bottom": null,
            "display": null,
            "flex": null,
            "flex_flow": null,
            "grid_area": null,
            "grid_auto_columns": null,
            "grid_auto_flow": null,
            "grid_auto_rows": null,
            "grid_column": null,
            "grid_gap": null,
            "grid_row": null,
            "grid_template_areas": null,
            "grid_template_columns": null,
            "grid_template_rows": null,
            "height": null,
            "justify_content": null,
            "justify_items": null,
            "left": null,
            "margin": null,
            "max_height": null,
            "max_width": null,
            "min_height": null,
            "min_width": null,
            "object_fit": null,
            "object_position": null,
            "order": null,
            "overflow": null,
            "overflow_x": null,
            "overflow_y": null,
            "padding": null,
            "right": null,
            "top": null,
            "visibility": null,
            "width": null
          }
        },
        "9788a24b19c04d309acf2878aaba6fc2": {
          "model_module": "@jupyter-widgets/base",
          "model_name": "LayoutModel",
          "model_module_version": "1.2.0",
          "state": {
            "_model_module": "@jupyter-widgets/base",
            "_model_module_version": "1.2.0",
            "_model_name": "LayoutModel",
            "_view_count": null,
            "_view_module": "@jupyter-widgets/base",
            "_view_module_version": "1.2.0",
            "_view_name": "LayoutView",
            "align_content": null,
            "align_items": null,
            "align_self": null,
            "border": null,
            "bottom": null,
            "display": null,
            "flex": null,
            "flex_flow": null,
            "grid_area": null,
            "grid_auto_columns": null,
            "grid_auto_flow": null,
            "grid_auto_rows": null,
            "grid_column": null,
            "grid_gap": null,
            "grid_row": null,
            "grid_template_areas": null,
            "grid_template_columns": null,
            "grid_template_rows": null,
            "height": null,
            "justify_content": null,
            "justify_items": null,
            "left": null,
            "margin": null,
            "max_height": null,
            "max_width": null,
            "min_height": null,
            "min_width": null,
            "object_fit": null,
            "object_position": null,
            "order": null,
            "overflow": null,
            "overflow_x": null,
            "overflow_y": null,
            "padding": null,
            "right": null,
            "top": null,
            "visibility": null,
            "width": null
          }
        },
        "6baf50d1ea2340d19a40f5df575473e0": {
          "model_module": "@jupyter-widgets/controls",
          "model_name": "DescriptionStyleModel",
          "model_module_version": "1.5.0",
          "state": {
            "_model_module": "@jupyter-widgets/controls",
            "_model_module_version": "1.5.0",
            "_model_name": "DescriptionStyleModel",
            "_view_count": null,
            "_view_module": "@jupyter-widgets/base",
            "_view_module_version": "1.2.0",
            "_view_name": "StyleView",
            "description_width": ""
          }
        },
        "2b8ac000bf6f4a2f8057bd12c31d5f3f": {
          "model_module": "@jupyter-widgets/base",
          "model_name": "LayoutModel",
          "model_module_version": "1.2.0",
          "state": {
            "_model_module": "@jupyter-widgets/base",
            "_model_module_version": "1.2.0",
            "_model_name": "LayoutModel",
            "_view_count": null,
            "_view_module": "@jupyter-widgets/base",
            "_view_module_version": "1.2.0",
            "_view_name": "LayoutView",
            "align_content": null,
            "align_items": null,
            "align_self": null,
            "border": null,
            "bottom": null,
            "display": null,
            "flex": null,
            "flex_flow": null,
            "grid_area": null,
            "grid_auto_columns": null,
            "grid_auto_flow": null,
            "grid_auto_rows": null,
            "grid_column": null,
            "grid_gap": null,
            "grid_row": null,
            "grid_template_areas": null,
            "grid_template_columns": null,
            "grid_template_rows": null,
            "height": null,
            "justify_content": null,
            "justify_items": null,
            "left": null,
            "margin": null,
            "max_height": null,
            "max_width": null,
            "min_height": null,
            "min_width": null,
            "object_fit": null,
            "object_position": null,
            "order": null,
            "overflow": null,
            "overflow_x": null,
            "overflow_y": null,
            "padding": null,
            "right": null,
            "top": null,
            "visibility": null,
            "width": null
          }
        },
        "3221d06e16334a319a0537c32e5c1114": {
          "model_module": "@jupyter-widgets/controls",
          "model_name": "ProgressStyleModel",
          "model_module_version": "1.5.0",
          "state": {
            "_model_module": "@jupyter-widgets/controls",
            "_model_module_version": "1.5.0",
            "_model_name": "ProgressStyleModel",
            "_view_count": null,
            "_view_module": "@jupyter-widgets/base",
            "_view_module_version": "1.2.0",
            "_view_name": "StyleView",
            "bar_color": null,
            "description_width": ""
          }
        },
        "d9aa3b88d6784e8d8fac71bbe05373ef": {
          "model_module": "@jupyter-widgets/base",
          "model_name": "LayoutModel",
          "model_module_version": "1.2.0",
          "state": {
            "_model_module": "@jupyter-widgets/base",
            "_model_module_version": "1.2.0",
            "_model_name": "LayoutModel",
            "_view_count": null,
            "_view_module": "@jupyter-widgets/base",
            "_view_module_version": "1.2.0",
            "_view_name": "LayoutView",
            "align_content": null,
            "align_items": null,
            "align_self": null,
            "border": null,
            "bottom": null,
            "display": null,
            "flex": null,
            "flex_flow": null,
            "grid_area": null,
            "grid_auto_columns": null,
            "grid_auto_flow": null,
            "grid_auto_rows": null,
            "grid_column": null,
            "grid_gap": null,
            "grid_row": null,
            "grid_template_areas": null,
            "grid_template_columns": null,
            "grid_template_rows": null,
            "height": null,
            "justify_content": null,
            "justify_items": null,
            "left": null,
            "margin": null,
            "max_height": null,
            "max_width": null,
            "min_height": null,
            "min_width": null,
            "object_fit": null,
            "object_position": null,
            "order": null,
            "overflow": null,
            "overflow_x": null,
            "overflow_y": null,
            "padding": null,
            "right": null,
            "top": null,
            "visibility": null,
            "width": null
          }
        },
        "647d109c2bdc42a49f1953226cd1e9f9": {
          "model_module": "@jupyter-widgets/controls",
          "model_name": "DescriptionStyleModel",
          "model_module_version": "1.5.0",
          "state": {
            "_model_module": "@jupyter-widgets/controls",
            "_model_module_version": "1.5.0",
            "_model_name": "DescriptionStyleModel",
            "_view_count": null,
            "_view_module": "@jupyter-widgets/base",
            "_view_module_version": "1.2.0",
            "_view_name": "StyleView",
            "description_width": ""
          }
        }
      }
    }
  },
  "cells": [
    {
      "cell_type": "markdown",
      "metadata": {
        "id": "view-in-github",
        "colab_type": "text"
      },
      "source": [
        "<a href=\"https://colab.research.google.com/github/TOM-BOHN/MsDS-marketing-text-classification/blob/main/marketing_text_classification.ipynb\" target=\"_parent\"><img src=\"https://colab.research.google.com/assets/colab-badge.svg\" alt=\"Open In Colab\"/></a>"
      ]
    },
    {
      "cell_type": "markdown",
      "source": [
        "# Marketing Text Classification\n",
        "**Thomas Bohn**   --   **2023-09-13**\n",
        "\n",
        "A report focused on modeling news article categorization for marketing analytics. This notebook focuses on the application of natural language processing, supervised learning with [k-train](https://github.com/amaiya/ktrain) (a wrapper for [Tensorflow](https://www.tensorflow.org/api_docs/python/tf/all_symbols), [Keras](https://keras.io/getting_started/), and [Huggingface Transformers](https://github.com/huggingface/transformers)), and a evaluation of performance.\n",
        "\n",
        "--  [Main Report](https://github.com/TOM-BOHN/Customer-Success-Scorecards/blob/main/marketing_text_classification.ipynb)  --  [Github Repo](https://github.com/TOM-BOHN/MsDS-marketing-text-classification)  --  [Presentation Slides](https://docs.google.com/presentation/d/1BZGyeEuisYugheSnQGIpPwpbeDQ205HmnHk6fI6f2y8/edit?usp=sharing)  --  [Presentation Video](https://drive.google.com/file/d/119AgwtaeVw9ibV1rTfRauN-ADw_BREFH/view?usp=sharing) --"
      ],
      "metadata": {
        "id": "QUTbSbQOo8Sl"
      }
    },
    {
      "cell_type": "markdown",
      "source": [
        "# 1.&nbsp;Introduction"
      ],
      "metadata": {
        "id": "ycuyeFzqqS2a"
      }
    },
    {
      "cell_type": "markdown",
      "source": [
        "**Context**\n",
        "A media buying company has acquired a new customer [Theragun](https://www.therabody.com/us/en-us/4th-generation-devices/), a company developing wellness products backed by science and developed by medical experts. Theragun knows that consumers who value health and wellness are more likely to consider, and ultimately buy their product. They have requested their media buying company partner identify as many news articles around the web that mention health and wellness. Their goal is to feature advertisements on these pages to reach as many customers as possible.\n",
        "\n",
        "**Background**\n",
        "Text and text documents are one of the richest sources of data for businesses. They are websites, pdfs, news articles, etc. A strategy utilized by marketing firms is contextual advertising. It focused on using marketing analytics to find URLs that match the context required to target an advertisement to potential customers. The main challenge is to build an algorithm that successfully predicts the probability that a website is related to the desired context. The final trained model can be used to identify tags for untracked websites or to identify the type of language used in different websites.\n",
        "\n",
        "**Data Source**\n",
        "The dataset contains around 200k news headlines from the year 2012 to 2018 obtained from [HuffPost](https://www.huffpost.com/). It can be sourced [here](https://drive.google.com/file/d/1jnucfZWLPmxG4UzPtgd-dRe_Z9tPo60V/view?usp=sharing).\n",
        "\n",
        "**Categories**\n",
        "Each news headline has a corresponding category. The articles are labeled under one of ??? categories. A sample of the categories is as follows:\n",
        "- WELLNESS: 17827\n",
        "- HEALTHY LIVING: 6694\n",
        "- ...\n",
        "- POLITICS: 32739\n",
        "- TECH: 2082\n",
        "\n",
        "**Overview of Observations**\n",
        "The dataset is 200k records that will need to be broken into training data and test data. Each observation is the headline text, short description, and category of an article with an associated article id.\n",
        "\n",
        "**Objective**\n",
        "The objective is to build a deep learning algorithm that predicts the probability that a news story is about health and wellness. Final evaluation will use Sensativity (also known as \"Recall\") to maximize the number of targeted news articles. Sensativity is the percent of cases where the model prediction is correct, when the actual value is positive.\n",
        "\n",
        "**Report Overview**\n",
        "The project will cover 5 key phases:\n",
        "1. Exploratory Data Analysis (EDA)\n",
        "2. Data Cleaning\n",
        "3. Extracting Word Features with Natural Language Processing (NLP) Tools\n",
        "4. Building and Training an Unsupervised Non-Negative Matrix Factorization (NMF) Model\n",
        "5. Build and Compare a Random Forest Supervised Learning Model"
      ],
      "metadata": {
        "id": "QGt8-m95qWVg"
      }
    },
    {
      "cell_type": "markdown",
      "source": [
        "## Python Libraries\n",
        "\n",
        "The following python libraries are used in this notebook."
      ],
      "metadata": {
        "id": "jVJqIDUNqZJS"
      }
    },
    {
      "cell_type": "code",
      "source": [
        "# File Connection and File Manipulation\n",
        "import os\n",
        "import time\n",
        "import pickle\n",
        "import json\n",
        "import glob\n",
        "# Basic Data Science Toolkits\n",
        "import pandas as pd\n",
        "import numpy as np\n",
        "import math\n",
        "import time\n",
        "# Basic Data Vizualization\n",
        "import seaborn as sns\n",
        "import matplotlib.pyplot as plt\n",
        "# Import Data Model Evaluations\n",
        "from sklearn.model_selection import train_test_split\n",
        "from sklearn import metrics\n",
        "# NLP Tokenizer\n",
        "from keras.preprocessing.text import Tokenizer\n",
        "# Google's Tensorflow package\n",
        "# https://www.tensorflow.org/tutorials\n",
        "import tensorflow as tf\n",
        "print(tf.__version__)\n",
        "# API wrapper for Tensorflow called ktrain\n",
        "# https://github.com/amaiya/ktrain\n",
        "try:\n",
        "  import ktrain\n",
        "except:\n",
        "  !pip install ktrain\n",
        "  os.kill(os.getpid(), 9)\n",
        "from ktrain import text\n",
        "from ktrain.text import texts_from_df\n",
        "#NLP Text Cleanup\n",
        "import re\n",
        "import nltk\n",
        "import nltk.corpus\n",
        "from nltk.corpus import stopwords\n",
        "\n",
        "# NLP Tokenizer and Lemmatizer\n",
        "import nltk\n",
        "import nltk.corpus\n",
        "from nltk.corpus import wordnet\n",
        "from nltk.tokenize import word_tokenize\n",
        "from nltk.stem import WordNetLemmatizer\n",
        "from string import digits"
      ],
      "metadata": {
        "colab": {
          "base_uri": "https://localhost:8080/"
        },
        "id": "tpX5-IsiqW9c",
        "outputId": "775a68a4-6228-4d86-f0be-e9262251ee39"
      },
      "execution_count": 1,
      "outputs": [
        {
          "output_type": "stream",
          "name": "stdout",
          "text": [
            "2.13.0\n"
          ]
        }
      ]
    },
    {
      "cell_type": "markdown",
      "source": [
        "## Installing NLTK Data"
      ],
      "metadata": {
        "id": "oQyCixM8Vpqu"
      }
    },
    {
      "cell_type": "code",
      "source": [
        "#Install the necessary datasets/models for specific functions to work\n",
        "nltk.download('stopwords')\n",
        "nltk.download('wordnet')\n",
        "nltk.download('brown')\n",
        "nltk.download('punkt')"
      ],
      "metadata": {
        "colab": {
          "base_uri": "https://localhost:8080/"
        },
        "id": "uZGfXxZZVp57",
        "outputId": "88d43435-629c-403c-ae8a-a116f66fd16f"
      },
      "execution_count": 2,
      "outputs": [
        {
          "output_type": "stream",
          "name": "stderr",
          "text": [
            "[nltk_data] Downloading package stopwords to /root/nltk_data...\n",
            "[nltk_data]   Unzipping corpora/stopwords.zip.\n",
            "[nltk_data] Downloading package wordnet to /root/nltk_data...\n",
            "[nltk_data] Downloading package brown to /root/nltk_data...\n",
            "[nltk_data]   Unzipping corpora/brown.zip.\n",
            "[nltk_data] Downloading package punkt to /root/nltk_data...\n",
            "[nltk_data]   Unzipping tokenizers/punkt.zip.\n"
          ]
        },
        {
          "output_type": "execute_result",
          "data": {
            "text/plain": [
              "True"
            ]
          },
          "metadata": {},
          "execution_count": 2
        }
      ]
    },
    {
      "cell_type": "code",
      "source": [
        "# Test to confirm the download worked\n",
        "from nltk.corpus import brown\n",
        "brown.words()\n",
        "#dir(nltk)"
      ],
      "metadata": {
        "colab": {
          "base_uri": "https://localhost:8080/"
        },
        "id": "32ppP0N8V-eX",
        "outputId": "5015f3ec-5952-4853-8f94-c143acf95e33"
      },
      "execution_count": 3,
      "outputs": [
        {
          "output_type": "execute_result",
          "data": {
            "text/plain": [
              "['The', 'Fulton', 'County', 'Grand', 'Jury', 'said', ...]"
            ]
          },
          "metadata": {},
          "execution_count": 3
        }
      ]
    },
    {
      "cell_type": "markdown",
      "source": [
        "## Verify GPU Runtime"
      ],
      "metadata": {
        "id": "DTETrC4hyPRP"
      }
    },
    {
      "cell_type": "code",
      "source": [
        "gpu_info = !nvidia-smi\n",
        "gpu_info = '\\n'.join(gpu_info)\n",
        "if gpu_info.find('failed') >= 0:\n",
        "  print('Not connected to a GPU')\n",
        "else:\n",
        "  print(gpu_info)"
      ],
      "metadata": {
        "colab": {
          "base_uri": "https://localhost:8080/"
        },
        "id": "8U2wuc7UyQV6",
        "outputId": "b38b586b-3d3b-435a-e761-b12327590552"
      },
      "execution_count": 4,
      "outputs": [
        {
          "output_type": "stream",
          "name": "stdout",
          "text": [
            "Wed Sep 13 15:21:24 2023       \n",
            "+-----------------------------------------------------------------------------+\n",
            "| NVIDIA-SMI 525.105.17   Driver Version: 525.105.17   CUDA Version: 12.0     |\n",
            "|-------------------------------+----------------------+----------------------+\n",
            "| GPU  Name        Persistence-M| Bus-Id        Disp.A | Volatile Uncorr. ECC |\n",
            "| Fan  Temp  Perf  Pwr:Usage/Cap|         Memory-Usage | GPU-Util  Compute M. |\n",
            "|                               |                      |               MIG M. |\n",
            "|===============================+======================+======================|\n",
            "|   0  Tesla V100-SXM2...  Off  | 00000000:00:04.0 Off |                    0 |\n",
            "| N/A   37C    P0    24W / 300W |      0MiB / 16384MiB |      0%      Default |\n",
            "|                               |                      |                  N/A |\n",
            "+-------------------------------+----------------------+----------------------+\n",
            "                                                                               \n",
            "+-----------------------------------------------------------------------------+\n",
            "| Processes:                                                                  |\n",
            "|  GPU   GI   CI        PID   Type   Process name                  GPU Memory |\n",
            "|        ID   ID                                                   Usage      |\n",
            "|=============================================================================|\n",
            "|  No running processes found                                                 |\n",
            "+-----------------------------------------------------------------------------+\n"
          ]
        }
      ]
    },
    {
      "cell_type": "code",
      "source": [
        "from psutil import virtual_memory\n",
        "ram_gb = virtual_memory().total / 1e9\n",
        "print('Your runtime has {:.1f} gigabytes of available RAM\\n'.format(ram_gb))\n",
        "\n",
        "if ram_gb < 20:\n",
        "  print('Not using a high-RAM runtime')\n",
        "else:\n",
        "  print('You are using a high-RAM runtime!')"
      ],
      "metadata": {
        "id": "MsbW5c6V3Ak-",
        "colab": {
          "base_uri": "https://localhost:8080/"
        },
        "outputId": "6bdc4038-9825-4f39-88d8-423d0689bce1"
      },
      "execution_count": 5,
      "outputs": [
        {
          "output_type": "stream",
          "name": "stdout",
          "text": [
            "Your runtime has 54.8 gigabytes of available RAM\n",
            "\n",
            "You are using a high-RAM runtime!\n"
          ]
        }
      ]
    },
    {
      "cell_type": "markdown",
      "source": [
        "## Mount Google Drive"
      ],
      "metadata": {
        "id": "wVelwR_Hqu2q"
      }
    },
    {
      "cell_type": "code",
      "source": [
        "from google.colab import drive\n",
        "drive.mount('/content/drive')"
      ],
      "metadata": {
        "colab": {
          "base_uri": "https://localhost:8080/"
        },
        "id": "ulrlaLy_q1lQ",
        "outputId": "5c922b63-f0ba-4735-b4fd-4b6f280241d9"
      },
      "execution_count": 6,
      "outputs": [
        {
          "output_type": "stream",
          "name": "stdout",
          "text": [
            "Mounted at /content/drive\n"
          ]
        }
      ]
    },
    {
      "cell_type": "markdown",
      "source": [
        "## Setup Directories"
      ],
      "metadata": {
        "id": "AD_c3aj3yvBS"
      }
    },
    {
      "cell_type": "code",
      "source": [
        "ROOT_DIR = \"/content/drive/MyDrive/MSDS_marketing_text_analytics/master_files/1_text_classification\"\n",
        "DATA_DIR = \"%s/data\" % ROOT_DIR\n",
        "EVAL_DIR = \"%s/evaluation\" % ROOT_DIR\n",
        "MODEL_DIR = \"%s/models\" % ROOT_DIR\n",
        "\n",
        "#Create missing directories, if they don't exist\n",
        "if not os.path.exists(DATA_DIR):\n",
        "  # Create a new directory because it does not exist\n",
        "  os.makedirs(DATA_DIR)\n",
        "  print(\"The data directory is created!\")\n",
        "if not os.path.exists(EVAL_DIR):\n",
        "  # Create a new directory because it does not exist\n",
        "  os.makedirs(EVAL_DIR)\n",
        "  print(\"The evaluation directory is created!\")\n",
        "if not os.path.exists(MODEL_DIR):\n",
        "  # Create a new directory because it does not exist\n",
        "  os.makedirs(MODEL_DIR)\n",
        "  print(\"The model directory is created!\")"
      ],
      "metadata": {
        "id": "YuhOnwioyvYZ"
      },
      "execution_count": 7,
      "outputs": []
    },
    {
      "cell_type": "markdown",
      "source": [
        "# 2.&nbsp;Data Source"
      ],
      "metadata": {
        "id": "huqyc2AFq_bf"
      }
    },
    {
      "cell_type": "markdown",
      "source": [
        "## Copy Data From Source"
      ],
      "metadata": {
        "id": "SD50mhL43-Zo"
      }
    },
    {
      "cell_type": "code",
      "source": [
        "#!wget <URL> -P <COLAB PATH>\n",
        "source_url = 'https://docs.google.com/uc?export=download&id=1jnucfZWLPmxG4UzPtgd-dRe_Z9tPo60V'\n",
        "dest_url = \"%s/news_category_trainingdata.json\" % DATA_DIR\n",
        "!wget -O \"$file_name\" \"$source_url\" -O \"$dest_url\""
      ],
      "metadata": {
        "colab": {
          "base_uri": "https://localhost:8080/"
        },
        "id": "TR17BCZPzo8D",
        "outputId": "e0aaa2b4-7183-4dc8-c91b-7f4edfdb25c1"
      },
      "execution_count": 8,
      "outputs": [
        {
          "output_type": "stream",
          "name": "stdout",
          "text": [
            "No such file or directory\n"
          ]
        }
      ]
    },
    {
      "cell_type": "markdown",
      "source": [
        "## Load the Data"
      ],
      "metadata": {
        "id": "U1OtqK7b4J4K"
      }
    },
    {
      "cell_type": "code",
      "source": [
        "# Read the data into a datframe\n",
        "df_news = pd.read_json(dest_url)"
      ],
      "metadata": {
        "id": "hgF8f3vn4G9P"
      },
      "execution_count": 9,
      "outputs": []
    },
    {
      "cell_type": "code",
      "source": [
        "# Merge two text column for the model\n",
        "df_news['combined_text'] = df_news['headline'] + ' ' + df_news['short_description']\n",
        "# Create a flag of welness related articles\n",
        "cat_list_wellness = ['HEALTHY LIVING', 'WELLNESS']\n",
        "df_news['wellness'] = np.where((df_news['category'].isin(cat_list_wellness)), 1, 0)"
      ],
      "metadata": {
        "id": "dHYFE7a658n3"
      },
      "execution_count": 10,
      "outputs": []
    },
    {
      "cell_type": "code",
      "source": [
        "# Preview the new dataframe\n",
        "df_news.head()"
      ],
      "metadata": {
        "colab": {
          "base_uri": "https://localhost:8080/",
          "height": 206
        },
        "id": "aWuexr23UetE",
        "outputId": "db693397-ff5a-4bd8-c20d-7945b02b4d1d"
      },
      "execution_count": 11,
      "outputs": [
        {
          "output_type": "execute_result",
          "data": {
            "text/plain": [
              "        category                                           headline  \\\n",
              "0          CRIME  There Were 2 Mass Shootings In Texas Last Week...   \n",
              "1  ENTERTAINMENT  Will Smith Joins Diplo And Nicky Jam For The 2...   \n",
              "2  ENTERTAINMENT    Hugh Grant Marries For The First Time At Age 57   \n",
              "3  ENTERTAINMENT  Jim Carrey Blasts 'Castrato' Adam Schiff And D...   \n",
              "4  ENTERTAINMENT  Julianna Margulies Uses Donald Trump Poop Bags...   \n",
              "\n",
              "           authors                                               link  \\\n",
              "0  Melissa Jeltsen  https://www.huffingtonpost.com/entry/texas-ama...   \n",
              "1    Andy McDonald  https://www.huffingtonpost.com/entry/will-smit...   \n",
              "2       Ron Dicker  https://www.huffingtonpost.com/entry/hugh-gran...   \n",
              "3       Ron Dicker  https://www.huffingtonpost.com/entry/jim-carre...   \n",
              "4       Ron Dicker  https://www.huffingtonpost.com/entry/julianna-...   \n",
              "\n",
              "                                   short_description       date  \\\n",
              "0  She left her husband. He killed their children... 2018-05-26   \n",
              "1                           Of course it has a song. 2018-05-26   \n",
              "2  The actor and his longtime girlfriend Anna Ebe... 2018-05-26   \n",
              "3  The actor gives Dems an ass-kicking for not fi... 2018-05-26   \n",
              "4  The \"Dietland\" actress said using the bags is ... 2018-05-26   \n",
              "\n",
              "                                       combined_text  wellness  \n",
              "0  There Were 2 Mass Shootings In Texas Last Week...         0  \n",
              "1  Will Smith Joins Diplo And Nicky Jam For The 2...         0  \n",
              "2  Hugh Grant Marries For The First Time At Age 5...         0  \n",
              "3  Jim Carrey Blasts 'Castrato' Adam Schiff And D...         0  \n",
              "4  Julianna Margulies Uses Donald Trump Poop Bags...         0  "
            ],
            "text/html": [
              "\n",
              "  <div id=\"df-05b1e7b7-b625-4fd9-90fb-389759edf6e1\" class=\"colab-df-container\">\n",
              "    <div>\n",
              "<style scoped>\n",
              "    .dataframe tbody tr th:only-of-type {\n",
              "        vertical-align: middle;\n",
              "    }\n",
              "\n",
              "    .dataframe tbody tr th {\n",
              "        vertical-align: top;\n",
              "    }\n",
              "\n",
              "    .dataframe thead th {\n",
              "        text-align: right;\n",
              "    }\n",
              "</style>\n",
              "<table border=\"1\" class=\"dataframe\">\n",
              "  <thead>\n",
              "    <tr style=\"text-align: right;\">\n",
              "      <th></th>\n",
              "      <th>category</th>\n",
              "      <th>headline</th>\n",
              "      <th>authors</th>\n",
              "      <th>link</th>\n",
              "      <th>short_description</th>\n",
              "      <th>date</th>\n",
              "      <th>combined_text</th>\n",
              "      <th>wellness</th>\n",
              "    </tr>\n",
              "  </thead>\n",
              "  <tbody>\n",
              "    <tr>\n",
              "      <th>0</th>\n",
              "      <td>CRIME</td>\n",
              "      <td>There Were 2 Mass Shootings In Texas Last Week...</td>\n",
              "      <td>Melissa Jeltsen</td>\n",
              "      <td>https://www.huffingtonpost.com/entry/texas-ama...</td>\n",
              "      <td>She left her husband. He killed their children...</td>\n",
              "      <td>2018-05-26</td>\n",
              "      <td>There Were 2 Mass Shootings In Texas Last Week...</td>\n",
              "      <td>0</td>\n",
              "    </tr>\n",
              "    <tr>\n",
              "      <th>1</th>\n",
              "      <td>ENTERTAINMENT</td>\n",
              "      <td>Will Smith Joins Diplo And Nicky Jam For The 2...</td>\n",
              "      <td>Andy McDonald</td>\n",
              "      <td>https://www.huffingtonpost.com/entry/will-smit...</td>\n",
              "      <td>Of course it has a song.</td>\n",
              "      <td>2018-05-26</td>\n",
              "      <td>Will Smith Joins Diplo And Nicky Jam For The 2...</td>\n",
              "      <td>0</td>\n",
              "    </tr>\n",
              "    <tr>\n",
              "      <th>2</th>\n",
              "      <td>ENTERTAINMENT</td>\n",
              "      <td>Hugh Grant Marries For The First Time At Age 57</td>\n",
              "      <td>Ron Dicker</td>\n",
              "      <td>https://www.huffingtonpost.com/entry/hugh-gran...</td>\n",
              "      <td>The actor and his longtime girlfriend Anna Ebe...</td>\n",
              "      <td>2018-05-26</td>\n",
              "      <td>Hugh Grant Marries For The First Time At Age 5...</td>\n",
              "      <td>0</td>\n",
              "    </tr>\n",
              "    <tr>\n",
              "      <th>3</th>\n",
              "      <td>ENTERTAINMENT</td>\n",
              "      <td>Jim Carrey Blasts 'Castrato' Adam Schiff And D...</td>\n",
              "      <td>Ron Dicker</td>\n",
              "      <td>https://www.huffingtonpost.com/entry/jim-carre...</td>\n",
              "      <td>The actor gives Dems an ass-kicking for not fi...</td>\n",
              "      <td>2018-05-26</td>\n",
              "      <td>Jim Carrey Blasts 'Castrato' Adam Schiff And D...</td>\n",
              "      <td>0</td>\n",
              "    </tr>\n",
              "    <tr>\n",
              "      <th>4</th>\n",
              "      <td>ENTERTAINMENT</td>\n",
              "      <td>Julianna Margulies Uses Donald Trump Poop Bags...</td>\n",
              "      <td>Ron Dicker</td>\n",
              "      <td>https://www.huffingtonpost.com/entry/julianna-...</td>\n",
              "      <td>The \"Dietland\" actress said using the bags is ...</td>\n",
              "      <td>2018-05-26</td>\n",
              "      <td>Julianna Margulies Uses Donald Trump Poop Bags...</td>\n",
              "      <td>0</td>\n",
              "    </tr>\n",
              "  </tbody>\n",
              "</table>\n",
              "</div>\n",
              "    <div class=\"colab-df-buttons\">\n",
              "\n",
              "  <div class=\"colab-df-container\">\n",
              "    <button class=\"colab-df-convert\" onclick=\"convertToInteractive('df-05b1e7b7-b625-4fd9-90fb-389759edf6e1')\"\n",
              "            title=\"Convert this dataframe to an interactive table.\"\n",
              "            style=\"display:none;\">\n",
              "\n",
              "  <svg xmlns=\"http://www.w3.org/2000/svg\" height=\"24px\" viewBox=\"0 -960 960 960\">\n",
              "    <path d=\"M120-120v-720h720v720H120Zm60-500h600v-160H180v160Zm220 220h160v-160H400v160Zm0 220h160v-160H400v160ZM180-400h160v-160H180v160Zm440 0h160v-160H620v160ZM180-180h160v-160H180v160Zm440 0h160v-160H620v160Z\"/>\n",
              "  </svg>\n",
              "    </button>\n",
              "\n",
              "  <style>\n",
              "    .colab-df-container {\n",
              "      display:flex;\n",
              "      gap: 12px;\n",
              "    }\n",
              "\n",
              "    .colab-df-convert {\n",
              "      background-color: #E8F0FE;\n",
              "      border: none;\n",
              "      border-radius: 50%;\n",
              "      cursor: pointer;\n",
              "      display: none;\n",
              "      fill: #1967D2;\n",
              "      height: 32px;\n",
              "      padding: 0 0 0 0;\n",
              "      width: 32px;\n",
              "    }\n",
              "\n",
              "    .colab-df-convert:hover {\n",
              "      background-color: #E2EBFA;\n",
              "      box-shadow: 0px 1px 2px rgba(60, 64, 67, 0.3), 0px 1px 3px 1px rgba(60, 64, 67, 0.15);\n",
              "      fill: #174EA6;\n",
              "    }\n",
              "\n",
              "    .colab-df-buttons div {\n",
              "      margin-bottom: 4px;\n",
              "    }\n",
              "\n",
              "    [theme=dark] .colab-df-convert {\n",
              "      background-color: #3B4455;\n",
              "      fill: #D2E3FC;\n",
              "    }\n",
              "\n",
              "    [theme=dark] .colab-df-convert:hover {\n",
              "      background-color: #434B5C;\n",
              "      box-shadow: 0px 1px 3px 1px rgba(0, 0, 0, 0.15);\n",
              "      filter: drop-shadow(0px 1px 2px rgba(0, 0, 0, 0.3));\n",
              "      fill: #FFFFFF;\n",
              "    }\n",
              "  </style>\n",
              "\n",
              "    <script>\n",
              "      const buttonEl =\n",
              "        document.querySelector('#df-05b1e7b7-b625-4fd9-90fb-389759edf6e1 button.colab-df-convert');\n",
              "      buttonEl.style.display =\n",
              "        google.colab.kernel.accessAllowed ? 'block' : 'none';\n",
              "\n",
              "      async function convertToInteractive(key) {\n",
              "        const element = document.querySelector('#df-05b1e7b7-b625-4fd9-90fb-389759edf6e1');\n",
              "        const dataTable =\n",
              "          await google.colab.kernel.invokeFunction('convertToInteractive',\n",
              "                                                    [key], {});\n",
              "        if (!dataTable) return;\n",
              "\n",
              "        const docLinkHtml = 'Like what you see? Visit the ' +\n",
              "          '<a target=\"_blank\" href=https://colab.research.google.com/notebooks/data_table.ipynb>data table notebook</a>'\n",
              "          + ' to learn more about interactive tables.';\n",
              "        element.innerHTML = '';\n",
              "        dataTable['output_type'] = 'display_data';\n",
              "        await google.colab.output.renderOutput(dataTable, element);\n",
              "        const docLink = document.createElement('div');\n",
              "        docLink.innerHTML = docLinkHtml;\n",
              "        element.appendChild(docLink);\n",
              "      }\n",
              "    </script>\n",
              "  </div>\n",
              "\n",
              "\n",
              "<div id=\"df-12a6cc46-a9c6-4d4e-80c6-2fb101cb6590\">\n",
              "  <button class=\"colab-df-quickchart\" onclick=\"quickchart('df-12a6cc46-a9c6-4d4e-80c6-2fb101cb6590')\"\n",
              "            title=\"Suggest charts.\"\n",
              "            style=\"display:none;\">\n",
              "\n",
              "<svg xmlns=\"http://www.w3.org/2000/svg\" height=\"24px\"viewBox=\"0 0 24 24\"\n",
              "     width=\"24px\">\n",
              "    <g>\n",
              "        <path d=\"M19 3H5c-1.1 0-2 .9-2 2v14c0 1.1.9 2 2 2h14c1.1 0 2-.9 2-2V5c0-1.1-.9-2-2-2zM9 17H7v-7h2v7zm4 0h-2V7h2v10zm4 0h-2v-4h2v4z\"/>\n",
              "    </g>\n",
              "</svg>\n",
              "  </button>\n",
              "\n",
              "<style>\n",
              "  .colab-df-quickchart {\n",
              "      --bg-color: #E8F0FE;\n",
              "      --fill-color: #1967D2;\n",
              "      --hover-bg-color: #E2EBFA;\n",
              "      --hover-fill-color: #174EA6;\n",
              "      --disabled-fill-color: #AAA;\n",
              "      --disabled-bg-color: #DDD;\n",
              "  }\n",
              "\n",
              "  [theme=dark] .colab-df-quickchart {\n",
              "      --bg-color: #3B4455;\n",
              "      --fill-color: #D2E3FC;\n",
              "      --hover-bg-color: #434B5C;\n",
              "      --hover-fill-color: #FFFFFF;\n",
              "      --disabled-bg-color: #3B4455;\n",
              "      --disabled-fill-color: #666;\n",
              "  }\n",
              "\n",
              "  .colab-df-quickchart {\n",
              "    background-color: var(--bg-color);\n",
              "    border: none;\n",
              "    border-radius: 50%;\n",
              "    cursor: pointer;\n",
              "    display: none;\n",
              "    fill: var(--fill-color);\n",
              "    height: 32px;\n",
              "    padding: 0;\n",
              "    width: 32px;\n",
              "  }\n",
              "\n",
              "  .colab-df-quickchart:hover {\n",
              "    background-color: var(--hover-bg-color);\n",
              "    box-shadow: 0 1px 2px rgba(60, 64, 67, 0.3), 0 1px 3px 1px rgba(60, 64, 67, 0.15);\n",
              "    fill: var(--button-hover-fill-color);\n",
              "  }\n",
              "\n",
              "  .colab-df-quickchart-complete:disabled,\n",
              "  .colab-df-quickchart-complete:disabled:hover {\n",
              "    background-color: var(--disabled-bg-color);\n",
              "    fill: var(--disabled-fill-color);\n",
              "    box-shadow: none;\n",
              "  }\n",
              "\n",
              "  .colab-df-spinner {\n",
              "    border: 2px solid var(--fill-color);\n",
              "    border-color: transparent;\n",
              "    border-bottom-color: var(--fill-color);\n",
              "    animation:\n",
              "      spin 1s steps(1) infinite;\n",
              "  }\n",
              "\n",
              "  @keyframes spin {\n",
              "    0% {\n",
              "      border-color: transparent;\n",
              "      border-bottom-color: var(--fill-color);\n",
              "      border-left-color: var(--fill-color);\n",
              "    }\n",
              "    20% {\n",
              "      border-color: transparent;\n",
              "      border-left-color: var(--fill-color);\n",
              "      border-top-color: var(--fill-color);\n",
              "    }\n",
              "    30% {\n",
              "      border-color: transparent;\n",
              "      border-left-color: var(--fill-color);\n",
              "      border-top-color: var(--fill-color);\n",
              "      border-right-color: var(--fill-color);\n",
              "    }\n",
              "    40% {\n",
              "      border-color: transparent;\n",
              "      border-right-color: var(--fill-color);\n",
              "      border-top-color: var(--fill-color);\n",
              "    }\n",
              "    60% {\n",
              "      border-color: transparent;\n",
              "      border-right-color: var(--fill-color);\n",
              "    }\n",
              "    80% {\n",
              "      border-color: transparent;\n",
              "      border-right-color: var(--fill-color);\n",
              "      border-bottom-color: var(--fill-color);\n",
              "    }\n",
              "    90% {\n",
              "      border-color: transparent;\n",
              "      border-bottom-color: var(--fill-color);\n",
              "    }\n",
              "  }\n",
              "</style>\n",
              "\n",
              "  <script>\n",
              "    async function quickchart(key) {\n",
              "      const quickchartButtonEl =\n",
              "        document.querySelector('#' + key + ' button');\n",
              "      quickchartButtonEl.disabled = true;  // To prevent multiple clicks.\n",
              "      quickchartButtonEl.classList.add('colab-df-spinner');\n",
              "      try {\n",
              "        const charts = await google.colab.kernel.invokeFunction(\n",
              "            'suggestCharts', [key], {});\n",
              "      } catch (error) {\n",
              "        console.error('Error during call to suggestCharts:', error);\n",
              "      }\n",
              "      quickchartButtonEl.classList.remove('colab-df-spinner');\n",
              "      quickchartButtonEl.classList.add('colab-df-quickchart-complete');\n",
              "    }\n",
              "    (() => {\n",
              "      let quickchartButtonEl =\n",
              "        document.querySelector('#df-12a6cc46-a9c6-4d4e-80c6-2fb101cb6590 button');\n",
              "      quickchartButtonEl.style.display =\n",
              "        google.colab.kernel.accessAllowed ? 'block' : 'none';\n",
              "    })();\n",
              "  </script>\n",
              "</div>\n",
              "\n",
              "    </div>\n",
              "  </div>\n"
            ]
          },
          "metadata": {},
          "execution_count": 11
        }
      ]
    },
    {
      "cell_type": "markdown",
      "source": [
        "# 3.&nbsp;Exploratory Data Analysis (EDA)"
      ],
      "metadata": {
        "id": "mD-AI9LcrCXi"
      }
    },
    {
      "cell_type": "markdown",
      "source": [
        "## Review the Content of One Observation"
      ],
      "metadata": {
        "id": "Hlemp8SxXqCV"
      }
    },
    {
      "cell_type": "code",
      "source": [
        "# show the content of one Article in the data source\n",
        "idx = 0\n",
        "print('category:', df_news['category'][idx], '\\t wellness:', df_news['wellness'][idx],'\\n')\n",
        "print('headline:', df_news['headline'][idx], '\\n')\n",
        "print('short_description:', df_news['short_description'][idx], '\\n')\n",
        "print('combined_text:', df_news['combined_text'][idx], '\\n')"
      ],
      "metadata": {
        "colab": {
          "base_uri": "https://localhost:8080/"
        },
        "id": "ktQc_GyMXqLs",
        "outputId": "2e418c63-c860-4107-8899-3b6a34faf6d4"
      },
      "execution_count": 12,
      "outputs": [
        {
          "output_type": "stream",
          "name": "stdout",
          "text": [
            "category: CRIME \t wellness: 0 \n",
            "\n",
            "headline: There Were 2 Mass Shootings In Texas Last Week, But Only 1 On TV \n",
            "\n",
            "short_description: She left her husband. He killed their children. Just another day in America. \n",
            "\n",
            "combined_text: There Were 2 Mass Shootings In Texas Last Week, But Only 1 On TV She left her husband. He killed their children. Just another day in America. \n",
            "\n"
          ]
        }
      ]
    },
    {
      "cell_type": "markdown",
      "source": [
        "## Review the Distribution of Categories"
      ],
      "metadata": {
        "id": "UyDXvG08rJR2"
      }
    },
    {
      "cell_type": "code",
      "source": [
        "# Create a summary of the categories\n",
        "df_cat_count = pd.DataFrame(df_news['category'].value_counts()).reset_index()\n",
        "df_cat_count.reset_index()\n",
        "df_cat_count.columns = ['category', 'count']\n",
        "# Derive Stats vand Lists\n",
        "cat_list = list(df_cat_count['category'].unique())\n",
        "cat_list_wellness = ['HEALTHY LIVING', 'WELLNESS']\n",
        "cat_list_not_wellness = list(set(cat_list) - set(cat_list_wellness))\n",
        "total_categories = len(cat_list)\n",
        "total_wellness_cats = len(cat_list_wellness)\n",
        "total_not_wellness_cats = len(cat_list_not_wellness)\n",
        "# Print a Summary\n",
        "print('Total Categories:', total_categories)\n",
        "print('Wellness Categories:', total_wellness_cats, '\\n\\tList:', cat_list_wellness)\n",
        "print('Non-Wellness Categories:', total_not_wellness_cats, '\\n\\tList:', cat_list_not_wellness)"
      ],
      "metadata": {
        "colab": {
          "base_uri": "https://localhost:8080/"
        },
        "id": "CDQMNvSq7rFV",
        "outputId": "722e397a-5b4e-40f2-dbab-3cb186c56949"
      },
      "execution_count": 13,
      "outputs": [
        {
          "output_type": "stream",
          "name": "stdout",
          "text": [
            "Total Categories: 41\n",
            "Wellness Categories: 2 \n",
            "\tList: ['HEALTHY LIVING', 'WELLNESS']\n",
            "Non-Wellness Categories: 39 \n",
            "\tList: ['BUSINESS', 'GOOD NEWS', 'WORLD NEWS', 'TASTE', 'COMEDY', 'FIFTY', 'STYLE', 'ARTS', 'HOME & LIVING', 'MONEY', 'STYLE & BEAUTY', 'CULTURE & ARTS', 'ENTERTAINMENT', 'WOMEN', 'LATINO VOICES', 'TRAVEL', 'TECH', 'PARENTS', 'GREEN', 'MEDIA', 'SPORTS', 'PARENTING', 'WORLDPOST', 'BLACK VOICES', 'QUEER VOICES', 'SCIENCE', 'DIVORCE', 'IMPACT', 'CRIME', 'ENVIRONMENT', 'WEIRD NEWS', 'EDUCATION', 'FOOD & DRINK', 'THE WORLDPOST', 'ARTS & CULTURE', 'RELIGION', 'COLLEGE', 'WEDDINGS', 'POLITICS']\n"
          ]
        }
      ]
    },
    {
      "cell_type": "code",
      "source": [
        "# Create a summary bar chart of categories\n",
        "f = plt.figure(figsize=(6,4))\n",
        "cols = ['orange' if (y in ['WELLNESS', 'HEALTHY LIVING']) else 'grey' for y in df_cat_count['category']]\n",
        "sns.barplot(x = 'count',\n",
        "            y = 'category',\n",
        "            data = df_cat_count.head(20),\n",
        "            palette=cols\n",
        "            ).set(title='Top 20 Categories',)\n",
        "plt.show()"
      ],
      "metadata": {
        "colab": {
          "base_uri": "https://localhost:8080/",
          "height": 410
        },
        "id": "5BL2RM3DOk6h",
        "outputId": "082c1498-a802-497e-ff03-6ba9409369d3"
      },
      "execution_count": 14,
      "outputs": [
        {
          "output_type": "display_data",
          "data": {
            "text/plain": [
              "<Figure size 600x400 with 1 Axes>"
            ],
            "image/png": "[encoded data removed]"
          },
          "metadata": {}
        }
      ]
    },
    {
      "cell_type": "code",
      "source": [
        "# Preview the Split of Data\n",
        "df_news['wellness'].value_counts()"
      ],
      "metadata": {
        "colab": {
          "base_uri": "https://localhost:8080/"
        },
        "id": "P_dtg_ot7nAi",
        "outputId": "f07a75de-8603-44e3-af07-7b267caf0c3f"
      },
      "execution_count": 15,
      "outputs": [
        {
          "output_type": "execute_result",
          "data": {
            "text/plain": [
              "0    176332\n",
              "1     24521\n",
              "Name: wellness, dtype: int64"
            ]
          },
          "metadata": {},
          "execution_count": 15
        }
      ]
    },
    {
      "cell_type": "code",
      "source": [
        "# Create a summary of the categories\n",
        "df_wellness_count = pd.DataFrame(df_news['wellness'].value_counts()).reset_index()\n",
        "df_wellness_count.columns = ['category', 'count']\n",
        "dict_target_names = {0: 'NOT WELLNESS', 1: 'WELLNESS'}\n",
        "df_wellness_count['category'].replace(dict_target_names, inplace=True)\n",
        "# Create a summary bar chart of categories\n",
        "f = plt.figure(figsize=(6,1))\n",
        "sns.barplot(x = 'count',\n",
        "            y = 'category',\n",
        "            data = df_wellness_count,\n",
        "            color = 'steelblue'\n",
        "            ).set(title='Data Category Distribution',)\n",
        "plt.show()"
      ],
      "metadata": {
        "colab": {
          "base_uri": "https://localhost:8080/",
          "height": 179
        },
        "id": "pQZszWpWRaoH",
        "outputId": "5c42ac72-855b-49cf-fcbc-541a0fde2eb3"
      },
      "execution_count": 16,
      "outputs": [
        {
          "output_type": "display_data",
          "data": {
            "text/plain": [
              "<Figure size 600x100 with 1 Axes>"
            ],
            "image/png": "[encoded data removed]"
          },
          "metadata": {}
        }
      ]
    },
    {
      "cell_type": "markdown",
      "source": [
        "The categories are unevenly distributed across the categories. To ensure a proper mix of articles from each category, a stratified sample should be conducted to maintain the distribution, but scale down the volume of records. An equal number of wellness and non-wellness articles should be included in the sampled data."
      ],
      "metadata": {
        "id": "BxwSUjbxTjzb"
      }
    },
    {
      "cell_type": "markdown",
      "source": [
        "## Review of the Text"
      ],
      "metadata": {
        "id": "IOC_ylsLrPHc"
      }
    },
    {
      "cell_type": "code",
      "source": [
        "# add a length column to the dataframe\n",
        "df_news['text_length'] = df_news['combined_text'].apply(len)\n",
        "#create a figure\n",
        "fig, ax = plt.subplots(figsize = (6,3))\n",
        "# create a histogram of the length of text\n",
        "#chart = plt.hist(x = df_s['Text Length'])\n",
        "chart = sns.histplot(x = df_news['text_length'], kde=True)\n",
        "# Customising legend\n",
        "ax.set_title('Histogram of Text Length', fontsize=10)\n",
        "ax.set_xlabel('Text Length', fontsize=8)\n",
        "ax.set_ylabel('Record Count', fontsize=8)"
      ],
      "metadata": {
        "colab": {
          "base_uri": "https://localhost:8080/",
          "height": 343
        },
        "id": "Dw1OHbpyUC92",
        "outputId": "51715033-30e8-4eb4-a2ad-bb3c825ad572"
      },
      "execution_count": 17,
      "outputs": [
        {
          "output_type": "execute_result",
          "data": {
            "text/plain": [
              "Text(0, 0.5, 'Record Count')"
            ]
          },
          "metadata": {},
          "execution_count": 17
        },
        {
          "output_type": "display_data",
          "data": {
            "text/plain": [
              "<Figure size 600x300 with 1 Axes>"
            ],
            "image/png": "[encoded data removed]"
          },
          "metadata": {}
        }
      ]
    },
    {
      "cell_type": "code",
      "source": [
        "#create a figure\n",
        "fig, ax = plt.subplots(figsize = (6,3))\n",
        "# create a boxplot of the length of text\n",
        "chart = sns.boxplot(x = df_news['text_length'])\n",
        "ax.set_title('Boxplot of Text Length', fontsize=10)"
      ],
      "metadata": {
        "colab": {
          "base_uri": "https://localhost:8080/",
          "height": 347
        },
        "id": "0ESbFWeVU1Nj",
        "outputId": "2870d567-27eb-446b-881a-37c23e11d0a6"
      },
      "execution_count": 18,
      "outputs": [
        {
          "output_type": "execute_result",
          "data": {
            "text/plain": [
              "Text(0.5, 1.0, 'Boxplot of Text Length')"
            ]
          },
          "metadata": {},
          "execution_count": 18
        },
        {
          "output_type": "display_data",
          "data": {
            "text/plain": [
              "<Figure size 600x300 with 1 Axes>"
            ],
            "image/png": "[encoded data removed]"
          },
          "metadata": {}
        }
      ]
    },
    {
      "cell_type": "code",
      "source": [
        "# define a function to add the word count to a dataframe\n",
        "def add_word_count(df):\n",
        "    df['text_token'] = df.apply(lambda row: nltk.word_tokenize(row['combined_text']), axis=1)\n",
        "    df['word_count'] = df['text_token'].apply(len)\n",
        "    df.drop(columns = ['text_token'], inplace=True)\n",
        "    return df\n",
        "# add a length column to the dataframe for wordcount\n",
        "df_news = add_word_count(df = df_news)\n",
        "#create a figure\n",
        "fig, ax = plt.subplots(figsize = (6,3))\n",
        "# create a boxplot of the length of text\n",
        "chart = sns.boxplot(x = df_news['word_count'])\n",
        "ax.set_title('Boxplot of Word Count', fontsize=10)"
      ],
      "metadata": {
        "colab": {
          "base_uri": "https://localhost:8080/",
          "height": 347
        },
        "id": "PsjSXDGXVB8b",
        "outputId": "0f8fe69d-064c-4fd1-c4e3-5fb8fb573ced"
      },
      "execution_count": 19,
      "outputs": [
        {
          "output_type": "execute_result",
          "data": {
            "text/plain": [
              "Text(0.5, 1.0, 'Boxplot of Word Count')"
            ]
          },
          "metadata": {},
          "execution_count": 19
        },
        {
          "output_type": "display_data",
          "data": {
            "text/plain": [
              "<Figure size 600x300 with 1 Axes>"
            ],
            "image/png": "[encoded data removed]"
          },
          "metadata": {}
        }
      ]
    },
    {
      "cell_type": "markdown",
      "source": [
        "# 4.&nbsp;Data Cleansing"
      ],
      "metadata": {
        "id": "KfNumbjVrVAF"
      }
    },
    {
      "cell_type": "markdown",
      "source": [
        "## Check for Nulls and Remove"
      ],
      "metadata": {
        "id": "LIphJmxMkQdJ"
      }
    },
    {
      "cell_type": "code",
      "source": [
        "# Identify Columns with Nulls\n",
        "def identify_columns_with_null(df):\n",
        "  a = [np.nan, None, [], {}, 'NaN', 'Null','NULL','None','NA','?','-', '.','', ' ', '   ']\n",
        "  nc = {}\n",
        "\n",
        "  for c in df.columns:\n",
        "      string_null = np.array([x in a[2:] for x in df[c]]).sum()\n",
        "      std_null = df[c].isnull().sum()\n",
        "      ttl_null = std_null + string_null\n",
        "      if ttl_null > 0:\n",
        "          nc[c] = ttl_null\n",
        "\n",
        "  print('number of fields with nulls:', len(nc), '\\n')\n",
        "  print(pd.Series(nc))\n",
        "\n",
        "  return nc"
      ],
      "metadata": {
        "id": "mgBedteEz_OS"
      },
      "execution_count": 20,
      "outputs": []
    },
    {
      "cell_type": "code",
      "source": [
        "# Detect Columns with null values\n",
        "null_columns = identify_columns_with_null(df = df_news)"
      ],
      "metadata": {
        "colab": {
          "base_uri": "https://localhost:8080/"
        },
        "id": "orFwgLrOzZ2W",
        "outputId": "7edb0ead-51a6-4531-cc73-660371f6c32e"
      },
      "execution_count": 21,
      "outputs": [
        {
          "output_type": "stream",
          "name": "stdout",
          "text": [
            "number of fields with nulls: 4 \n",
            "\n",
            "headline                 6\n",
            "authors              36620\n",
            "short_description    19712\n",
            "combined_text            5\n",
            "dtype: int64\n"
          ]
        }
      ]
    },
    {
      "cell_type": "code",
      "source": [
        "df_news['combined_text'].replace('', np.nan, inplace=True)\n",
        "df_news['headline'].replace('', np.nan, inplace=True)\n",
        "df_news.dropna(subset=['combined_text'], inplace=True)\n",
        "df_news.dropna(subset=['headline'], inplace=True)\n",
        "null_columns = identify_columns_with_null(df = df_news)"
      ],
      "metadata": {
        "colab": {
          "base_uri": "https://localhost:8080/"
        },
        "id": "4IbTD6Mw0rOb",
        "outputId": "a9e84d47-3aa6-4ce2-d673-ec43d9d2ad25"
      },
      "execution_count": 22,
      "outputs": [
        {
          "output_type": "stream",
          "name": "stdout",
          "text": [
            "number of fields with nulls: 2 \n",
            "\n",
            "authors              36620\n",
            "short_description    19707\n",
            "dtype: int64\n"
          ]
        }
      ]
    },
    {
      "cell_type": "markdown",
      "source": [
        "## Clean Text for Modeling"
      ],
      "metadata": {
        "id": "TLXBgjaU58b2"
      }
    },
    {
      "cell_type": "code",
      "source": [
        "# Create a funtion to clean a dataframe with text\n",
        "def clean_text(df, text_col):\n",
        "    # removes punctuation\n",
        "    df['no_punct'] = df[text_col].apply(\n",
        "        lambda row: re.sub(r'[^\\w\\s]+', '', row))\n",
        "    # removes numbers\n",
        "    df['no_punct_num'] = df['no_punct'].apply(\n",
        "        lambda row: re.sub(r'[0-9]+', '', row))\n",
        "    # removes stop words, e.g. a, an, and, but, in, on, the...\n",
        "    stop_words = stopwords.words('english')\n",
        "    df['no_stopwords'] = df['no_punct_num'].apply(\n",
        "        lambda x: ' '.join([word for word in x.split() if word not in (stop_words)]))\n",
        "    # removes extra spaces\n",
        "    df['clean_text'] = df['no_stopwords'].apply(\n",
        "        lambda x: re.sub(' +', ' ', x))\n",
        "    # tidy the table\n",
        "    df.drop(columns = ['no_punct','no_punct_num','no_stopwords'], inplace=True)\n",
        "    return"
      ],
      "metadata": {
        "id": "-hWDHTtLY4_F"
      },
      "execution_count": 23,
      "outputs": []
    },
    {
      "cell_type": "code",
      "source": [
        "# Tokenize text functions\n",
        "wordnet_lemmatizer = WordNetLemmatizer()\n",
        "# Function to bulkify lemmatize large block of text one word at a time\n",
        "def lemmatizer(text):\n",
        "    lem = [wordnet_lemmatizer.lemmatize(word.lower()) for word in text]\n",
        "    return lem\n",
        "# Function to tokenize the entire article then apply the lemmatize to each article\n",
        "def tokenize_lemmatize(df, text_col):\n",
        "    df['tokenized_text'] = df.apply(lambda row: nltk.word_tokenize(row[text_col]), axis=1)\n",
        "    df['lemmatized_text'] = df['tokenized_text'].apply(lambda string: lemmatizer(string))\n",
        "    return"
      ],
      "metadata": {
        "id": "FIRb3T6gZ7pm"
      },
      "execution_count": 24,
      "outputs": []
    },
    {
      "cell_type": "code",
      "source": [
        "# will not use this function as it does not work with LLMs\n",
        "def deep_clean(df, text_col, preview_idx = 0):\n",
        "  idx = preview_idx\n",
        "  # Change the text to lowercase\n",
        "  df[text_col] = df[text_col].str.lower()\n",
        "  # Using 'clean_text' function to clean 'Text' column\n",
        "  clean_text(df = df, text_col = text_col)\n",
        "  # Preview the changes for the before and after text\n",
        "  print(df[text_col][idx])\n",
        "  print('\\n## change to ##\\n')\n",
        "  print(df['clean_text'][idx])\n",
        "  print('\\n--------------------\\n')\n",
        "  # Tidy the table\n",
        "  df[text_col] = df['clean_text']\n",
        "  df.drop(columns = ['clean_text'], inplace=True)\n",
        "  # Using text cleaning function to clean the text column\n",
        "  tokenize_lemmatize(df = df, text_col = text_col)\n",
        "  # Print a before an after of the tokenization and lematization\n",
        "  print(df[text_col][idx])\n",
        "  print('\\n## change to ##\\n')\n",
        "  print(df['lemmatized_text'][idx])\n",
        "  print('\\n--------------------\\n')\n",
        "  # Tidy the table\n",
        "  df[text_col] = df.apply(lambda row: ' '.join(row['lemmatized_text']), axis=1)\n",
        "  df.drop(columns = ['tokenized_text', 'lemmatized_text'], inplace=True)\n",
        "  # Print a final preview of the text\n",
        "  print('## final text ##\\n')\n",
        "  print(df[text_col][idx])\n",
        "\n",
        "#deep_clean(df = df_news, text_col = 'combined_text', preview_idx = 0)"
      ],
      "metadata": {
        "id": "O9wnuXLTY5CZ"
      },
      "execution_count": 25,
      "outputs": []
    },
    {
      "cell_type": "markdown",
      "source": [
        "## Sample and Balance the Data"
      ],
      "metadata": {
        "id": "vpr20C006RSl"
      }
    },
    {
      "cell_type": "code",
      "source": [
        "# Set a sample amount\n",
        "sample_amount = 20000\n",
        "# Sample healthy living\n",
        "healthy = df_news[df_news['wellness'] == 1].sample(n = sample_amount)\n",
        "# Sample non-healthy living\n",
        "not_healthy = df_news[df_news['wellness'] == 0]\n",
        "not_healthy_rows = len(not_healthy)\n",
        "not_healthy_sample_frac = sample_amount / not_healthy_rows\n",
        "not_healthy = not_healthy.groupby('category').apply(\n",
        "    lambda x: x.sample(frac = not_healthy_sample_frac))\n",
        "not_healthy = not_healthy.droplevel(0)\n",
        "# Create a Sampled Dataset\n",
        "df_news_sample = pd.concat([healthy, not_healthy])\n",
        "# Preview the Split of Data\n",
        "print(df_news_sample['wellness'].value_counts(), '\\n')\n",
        "# Confirm all categories are represented\n",
        "sample_cat_list = list(df_news_sample['category'].unique())\n",
        "total_sample_cats = len(sample_cat_list)\n",
        "print('Sample Categories:', total_sample_cats, '\\n\\tList:', sample_cat_list)"
      ],
      "metadata": {
        "colab": {
          "base_uri": "https://localhost:8080/"
        },
        "id": "CnTf-Xt46Ray",
        "outputId": "903ee02b-6ec8-4c31-e8a0-a3119b969b1e"
      },
      "execution_count": 26,
      "outputs": [
        {
          "output_type": "stream",
          "name": "stdout",
          "text": [
            "1    20000\n",
            "0    20000\n",
            "Name: wellness, dtype: int64 \n",
            "\n",
            "Sample Categories: 41 \n",
            "\tList: ['HEALTHY LIVING', 'WELLNESS', 'ARTS', 'ARTS & CULTURE', 'BLACK VOICES', 'BUSINESS', 'COLLEGE', 'COMEDY', 'CRIME', 'CULTURE & ARTS', 'DIVORCE', 'EDUCATION', 'ENTERTAINMENT', 'ENVIRONMENT', 'FIFTY', 'FOOD & DRINK', 'GOOD NEWS', 'GREEN', 'HOME & LIVING', 'IMPACT', 'LATINO VOICES', 'MEDIA', 'MONEY', 'PARENTING', 'PARENTS', 'POLITICS', 'QUEER VOICES', 'RELIGION', 'SCIENCE', 'SPORTS', 'STYLE', 'STYLE & BEAUTY', 'TASTE', 'TECH', 'THE WORLDPOST', 'TRAVEL', 'WEDDINGS', 'WEIRD NEWS', 'WOMEN', 'WORLD NEWS', 'WORLDPOST']\n"
          ]
        }
      ]
    },
    {
      "cell_type": "code",
      "source": [
        "# Create a summary of the categories\n",
        "df_sample_cat_count = pd.DataFrame(df_news_sample['category'].value_counts()).reset_index()\n",
        "df_sample_cat_count.reset_index()\n",
        "df_sample_cat_count.columns = ['category', 'count']"
      ],
      "metadata": {
        "id": "9d5j3_6QDLFN"
      },
      "execution_count": 27,
      "outputs": []
    },
    {
      "cell_type": "code",
      "source": [
        "# Create a summary bar chart of categories\n",
        "cols = ['orange' if (y in ['WELLNESS', 'HEALTHY LIVING']) else 'grey' for y in df_sample_cat_count['category']]\n",
        "f = plt.figure(figsize=(6,4))\n",
        "sns.barplot(x = 'count',\n",
        "            y = 'category',\n",
        "            data = df_sample_cat_count.head(20),\n",
        "            palette=cols\n",
        "            ).set(title='Top 20 Categories')\n",
        "plt.show()"
      ],
      "metadata": {
        "colab": {
          "base_uri": "https://localhost:8080/",
          "height": 410
        },
        "id": "DgLhMDJudQHO",
        "outputId": "c0596f1b-0d00-4fb9-e12a-169e65894bc8"
      },
      "execution_count": 28,
      "outputs": [
        {
          "output_type": "display_data",
          "data": {
            "text/plain": [
              "<Figure size 600x400 with 1 Axes>"
            ],
            "image/png": "[encoded data removed]"
          },
          "metadata": {}
        }
      ]
    },
    {
      "cell_type": "code",
      "source": [
        "# Preview the Split of Data\n",
        "df_news_sample['wellness'].value_counts()"
      ],
      "metadata": {
        "colab": {
          "base_uri": "https://localhost:8080/"
        },
        "id": "3QP10W3RdfK7",
        "outputId": "b2b8c357-c45f-445b-952a-07d1d3dc242a"
      },
      "execution_count": 29,
      "outputs": [
        {
          "output_type": "execute_result",
          "data": {
            "text/plain": [
              "1    20000\n",
              "0    20000\n",
              "Name: wellness, dtype: int64"
            ]
          },
          "metadata": {},
          "execution_count": 29
        }
      ]
    },
    {
      "cell_type": "code",
      "source": [
        "# Create a summary of the categories\n",
        "df_samp_wellness_count = pd.DataFrame(df_news_sample['wellness'].value_counts()).reset_index()\n",
        "df_samp_wellness_count.columns = ['category', 'count']\n",
        "dict_target_names = {0: 'NOT WELLNESS', 1: 'WELLNESS'}\n",
        "df_samp_wellness_count['category'].replace(dict_target_names, inplace=True)\n",
        "# Create a summary bar chart of categories\n",
        "f = plt.figure(figsize=(6,1))\n",
        "sns.barplot(x = 'count',\n",
        "            y = 'category',\n",
        "            data = df_samp_wellness_count,\n",
        "            color = 'steelblue'\n",
        "            ).set(title='Data Category Distribution',)\n",
        "plt.show()"
      ],
      "metadata": {
        "colab": {
          "base_uri": "https://localhost:8080/",
          "height": 179
        },
        "id": "qFdCgBegdfwo",
        "outputId": "4b710266-9e87-43a1-8399-4e261c93573c"
      },
      "execution_count": 30,
      "outputs": [
        {
          "output_type": "display_data",
          "data": {
            "text/plain": [
              "<Figure size 600x100 with 1 Axes>"
            ],
            "image/png": "[encoded data removed]"
          },
          "metadata": {}
        }
      ]
    },
    {
      "cell_type": "code",
      "source": [
        "df_news_sample.head(3)"
      ],
      "metadata": {
        "colab": {
          "base_uri": "https://localhost:8080/",
          "height": 196
        },
        "id": "YGXDHDqZgTyu",
        "outputId": "23cefbc4-5dc8-4a25-9e00-d0237639128f"
      },
      "execution_count": 31,
      "outputs": [
        {
          "output_type": "execute_result",
          "data": {
            "text/plain": [
              "              category                                  headline  \\\n",
              "99534   HEALTHY LIVING           40 Valentine's Day Love Lessons   \n",
              "145999        WELLNESS                      Silencing the Critic   \n",
              "126345        WELLNESS  8 Reminders That The Best Is Yet To Come   \n",
              "\n",
              "                                                  authors  \\\n",
              "99534   Annie Fox, ContributorParenting expert and aut...   \n",
              "145999      Sue Shanahan, Contributor\\nAuthor/illustrator   \n",
              "126345                                                      \n",
              "\n",
              "                                                     link  \\\n",
              "99534   https://www.huffingtonpost.com/entry/40-valent...   \n",
              "145999  https://www.huffingtonpost.com/entry/critics_u...   \n",
              "126345  https://www.huffingtonpost.com/entry/looking-f...   \n",
              "\n",
              "                                        short_description       date  \\\n",
              "99534   In honor of Valentine's Day, I want to share s... 2015-02-05   \n",
              "145999  Being considerate to others is encouraged. But... 2013-09-05   \n",
              "126345  The stress and strain of constantly being conn... 2014-04-03   \n",
              "\n",
              "                                            combined_text  wellness  \\\n",
              "99534   40 Valentine's Day Love Lessons In honor of Va...         1   \n",
              "145999  Silencing the Critic Being considerate to othe...         1   \n",
              "126345  8 Reminders That The Best Is Yet To Come The s...         1   \n",
              "\n",
              "        text_length  word_count  \n",
              "99534           230          52  \n",
              "145999          182          30  \n",
              "126345          163          31  "
            ],
            "text/html": [
              "\n",
              "  <div id=\"df-f057158a-4c51-4319-a8ed-a3d4d71a46f5\" class=\"colab-df-container\">\n",
              "    <div>\n",
              "<style scoped>\n",
              "    .dataframe tbody tr th:only-of-type {\n",
              "        vertical-align: middle;\n",
              "    }\n",
              "\n",
              "    .dataframe tbody tr th {\n",
              "        vertical-align: top;\n",
              "    }\n",
              "\n",
              "    .dataframe thead th {\n",
              "        text-align: right;\n",
              "    }\n",
              "</style>\n",
              "<table border=\"1\" class=\"dataframe\">\n",
              "  <thead>\n",
              "    <tr style=\"text-align: right;\">\n",
              "      <th></th>\n",
              "      <th>category</th>\n",
              "      <th>headline</th>\n",
              "      <th>authors</th>\n",
              "      <th>link</th>\n",
              "      <th>short_description</th>\n",
              "      <th>date</th>\n",
              "      <th>combined_text</th>\n",
              "      <th>wellness</th>\n",
              "      <th>text_length</th>\n",
              "      <th>word_count</th>\n",
              "    </tr>\n",
              "  </thead>\n",
              "  <tbody>\n",
              "    <tr>\n",
              "      <th>99534</th>\n",
              "      <td>HEALTHY LIVING</td>\n",
              "      <td>40 Valentine's Day Love Lessons</td>\n",
              "      <td>Annie Fox, ContributorParenting expert and aut...</td>\n",
              "      <td>https://www.huffingtonpost.com/entry/40-valent...</td>\n",
              "      <td>In honor of Valentine's Day, I want to share s...</td>\n",
              "      <td>2015-02-05</td>\n",
              "      <td>40 Valentine's Day Love Lessons In honor of Va...</td>\n",
              "      <td>1</td>\n",
              "      <td>230</td>\n",
              "      <td>52</td>\n",
              "    </tr>\n",
              "    <tr>\n",
              "      <th>145999</th>\n",
              "      <td>WELLNESS</td>\n",
              "      <td>Silencing the Critic</td>\n",
              "      <td>Sue Shanahan, Contributor\\nAuthor/illustrator</td>\n",
              "      <td>https://www.huffingtonpost.com/entry/critics_u...</td>\n",
              "      <td>Being considerate to others is encouraged. But...</td>\n",
              "      <td>2013-09-05</td>\n",
              "      <td>Silencing the Critic Being considerate to othe...</td>\n",
              "      <td>1</td>\n",
              "      <td>182</td>\n",
              "      <td>30</td>\n",
              "    </tr>\n",
              "    <tr>\n",
              "      <th>126345</th>\n",
              "      <td>WELLNESS</td>\n",
              "      <td>8 Reminders That The Best Is Yet To Come</td>\n",
              "      <td></td>\n",
              "      <td>https://www.huffingtonpost.com/entry/looking-f...</td>\n",
              "      <td>The stress and strain of constantly being conn...</td>\n",
              "      <td>2014-04-03</td>\n",
              "      <td>8 Reminders That The Best Is Yet To Come The s...</td>\n",
              "      <td>1</td>\n",
              "      <td>163</td>\n",
              "      <td>31</td>\n",
              "    </tr>\n",
              "  </tbody>\n",
              "</table>\n",
              "</div>\n",
              "    <div class=\"colab-df-buttons\">\n",
              "\n",
              "  <div class=\"colab-df-container\">\n",
              "    <button class=\"colab-df-convert\" onclick=\"convertToInteractive('df-f057158a-4c51-4319-a8ed-a3d4d71a46f5')\"\n",
              "            title=\"Convert this dataframe to an interactive table.\"\n",
              "            style=\"display:none;\">\n",
              "\n",
              "  <svg xmlns=\"http://www.w3.org/2000/svg\" height=\"24px\" viewBox=\"0 -960 960 960\">\n",
              "    <path d=\"M120-120v-720h720v720H120Zm60-500h600v-160H180v160Zm220 220h160v-160H400v160Zm0 220h160v-160H400v160ZM180-400h160v-160H180v160Zm440 0h160v-160H620v160ZM180-180h160v-160H180v160Zm440 0h160v-160H620v160Z\"/>\n",
              "  </svg>\n",
              "    </button>\n",
              "\n",
              "  <style>\n",
              "    .colab-df-container {\n",
              "      display:flex;\n",
              "      gap: 12px;\n",
              "    }\n",
              "\n",
              "    .colab-df-convert {\n",
              "      background-color: #E8F0FE;\n",
              "      border: none;\n",
              "      border-radius: 50%;\n",
              "      cursor: pointer;\n",
              "      display: none;\n",
              "      fill: #1967D2;\n",
              "      height: 32px;\n",
              "      padding: 0 0 0 0;\n",
              "      width: 32px;\n",
              "    }\n",
              "\n",
              "    .colab-df-convert:hover {\n",
              "      background-color: #E2EBFA;\n",
              "      box-shadow: 0px 1px 2px rgba(60, 64, 67, 0.3), 0px 1px 3px 1px rgba(60, 64, 67, 0.15);\n",
              "      fill: #174EA6;\n",
              "    }\n",
              "\n",
              "    .colab-df-buttons div {\n",
              "      margin-bottom: 4px;\n",
              "    }\n",
              "\n",
              "    [theme=dark] .colab-df-convert {\n",
              "      background-color: #3B4455;\n",
              "      fill: #D2E3FC;\n",
              "    }\n",
              "\n",
              "    [theme=dark] .colab-df-convert:hover {\n",
              "      background-color: #434B5C;\n",
              "      box-shadow: 0px 1px 3px 1px rgba(0, 0, 0, 0.15);\n",
              "      filter: drop-shadow(0px 1px 2px rgba(0, 0, 0, 0.3));\n",
              "      fill: #FFFFFF;\n",
              "    }\n",
              "  </style>\n",
              "\n",
              "    <script>\n",
              "      const buttonEl =\n",
              "        document.querySelector('#df-f057158a-4c51-4319-a8ed-a3d4d71a46f5 button.colab-df-convert');\n",
              "      buttonEl.style.display =\n",
              "        google.colab.kernel.accessAllowed ? 'block' : 'none';\n",
              "\n",
              "      async function convertToInteractive(key) {\n",
              "        const element = document.querySelector('#df-f057158a-4c51-4319-a8ed-a3d4d71a46f5');\n",
              "        const dataTable =\n",
              "          await google.colab.kernel.invokeFunction('convertToInteractive',\n",
              "                                                    [key], {});\n",
              "        if (!dataTable) return;\n",
              "\n",
              "        const docLinkHtml = 'Like what you see? Visit the ' +\n",
              "          '<a target=\"_blank\" href=https://colab.research.google.com/notebooks/data_table.ipynb>data table notebook</a>'\n",
              "          + ' to learn more about interactive tables.';\n",
              "        element.innerHTML = '';\n",
              "        dataTable['output_type'] = 'display_data';\n",
              "        await google.colab.output.renderOutput(dataTable, element);\n",
              "        const docLink = document.createElement('div');\n",
              "        docLink.innerHTML = docLinkHtml;\n",
              "        element.appendChild(docLink);\n",
              "      }\n",
              "    </script>\n",
              "  </div>\n",
              "\n",
              "\n",
              "<div id=\"df-6467bce3-25cc-4e06-b4a8-393e70290caa\">\n",
              "  <button class=\"colab-df-quickchart\" onclick=\"quickchart('df-6467bce3-25cc-4e06-b4a8-393e70290caa')\"\n",
              "            title=\"Suggest charts.\"\n",
              "            style=\"display:none;\">\n",
              "\n",
              "<svg xmlns=\"http://www.w3.org/2000/svg\" height=\"24px\"viewBox=\"0 0 24 24\"\n",
              "     width=\"24px\">\n",
              "    <g>\n",
              "        <path d=\"M19 3H5c-1.1 0-2 .9-2 2v14c0 1.1.9 2 2 2h14c1.1 0 2-.9 2-2V5c0-1.1-.9-2-2-2zM9 17H7v-7h2v7zm4 0h-2V7h2v10zm4 0h-2v-4h2v4z\"/>\n",
              "    </g>\n",
              "</svg>\n",
              "  </button>\n",
              "\n",
              "<style>\n",
              "  .colab-df-quickchart {\n",
              "      --bg-color: #E8F0FE;\n",
              "      --fill-color: #1967D2;\n",
              "      --hover-bg-color: #E2EBFA;\n",
              "      --hover-fill-color: #174EA6;\n",
              "      --disabled-fill-color: #AAA;\n",
              "      --disabled-bg-color: #DDD;\n",
              "  }\n",
              "\n",
              "  [theme=dark] .colab-df-quickchart {\n",
              "      --bg-color: #3B4455;\n",
              "      --fill-color: #D2E3FC;\n",
              "      --hover-bg-color: #434B5C;\n",
              "      --hover-fill-color: #FFFFFF;\n",
              "      --disabled-bg-color: #3B4455;\n",
              "      --disabled-fill-color: #666;\n",
              "  }\n",
              "\n",
              "  .colab-df-quickchart {\n",
              "    background-color: var(--bg-color);\n",
              "    border: none;\n",
              "    border-radius: 50%;\n",
              "    cursor: pointer;\n",
              "    display: none;\n",
              "    fill: var(--fill-color);\n",
              "    height: 32px;\n",
              "    padding: 0;\n",
              "    width: 32px;\n",
              "  }\n",
              "\n",
              "  .colab-df-quickchart:hover {\n",
              "    background-color: var(--hover-bg-color);\n",
              "    box-shadow: 0 1px 2px rgba(60, 64, 67, 0.3), 0 1px 3px 1px rgba(60, 64, 67, 0.15);\n",
              "    fill: var(--button-hover-fill-color);\n",
              "  }\n",
              "\n",
              "  .colab-df-quickchart-complete:disabled,\n",
              "  .colab-df-quickchart-complete:disabled:hover {\n",
              "    background-color: var(--disabled-bg-color);\n",
              "    fill: var(--disabled-fill-color);\n",
              "    box-shadow: none;\n",
              "  }\n",
              "\n",
              "  .colab-df-spinner {\n",
              "    border: 2px solid var(--fill-color);\n",
              "    border-color: transparent;\n",
              "    border-bottom-color: var(--fill-color);\n",
              "    animation:\n",
              "      spin 1s steps(1) infinite;\n",
              "  }\n",
              "\n",
              "  @keyframes spin {\n",
              "    0% {\n",
              "      border-color: transparent;\n",
              "      border-bottom-color: var(--fill-color);\n",
              "      border-left-color: var(--fill-color);\n",
              "    }\n",
              "    20% {\n",
              "      border-color: transparent;\n",
              "      border-left-color: var(--fill-color);\n",
              "      border-top-color: var(--fill-color);\n",
              "    }\n",
              "    30% {\n",
              "      border-color: transparent;\n",
              "      border-left-color: var(--fill-color);\n",
              "      border-top-color: var(--fill-color);\n",
              "      border-right-color: var(--fill-color);\n",
              "    }\n",
              "    40% {\n",
              "      border-color: transparent;\n",
              "      border-right-color: var(--fill-color);\n",
              "      border-top-color: var(--fill-color);\n",
              "    }\n",
              "    60% {\n",
              "      border-color: transparent;\n",
              "      border-right-color: var(--fill-color);\n",
              "    }\n",
              "    80% {\n",
              "      border-color: transparent;\n",
              "      border-right-color: var(--fill-color);\n",
              "      border-bottom-color: var(--fill-color);\n",
              "    }\n",
              "    90% {\n",
              "      border-color: transparent;\n",
              "      border-bottom-color: var(--fill-color);\n",
              "    }\n",
              "  }\n",
              "</style>\n",
              "\n",
              "  <script>\n",
              "    async function quickchart(key) {\n",
              "      const quickchartButtonEl =\n",
              "        document.querySelector('#' + key + ' button');\n",
              "      quickchartButtonEl.disabled = true;  // To prevent multiple clicks.\n",
              "      quickchartButtonEl.classList.add('colab-df-spinner');\n",
              "      try {\n",
              "        const charts = await google.colab.kernel.invokeFunction(\n",
              "            'suggestCharts', [key], {});\n",
              "      } catch (error) {\n",
              "        console.error('Error during call to suggestCharts:', error);\n",
              "      }\n",
              "      quickchartButtonEl.classList.remove('colab-df-spinner');\n",
              "      quickchartButtonEl.classList.add('colab-df-quickchart-complete');\n",
              "    }\n",
              "    (() => {\n",
              "      let quickchartButtonEl =\n",
              "        document.querySelector('#df-6467bce3-25cc-4e06-b4a8-393e70290caa button');\n",
              "      quickchartButtonEl.style.display =\n",
              "        google.colab.kernel.accessAllowed ? 'block' : 'none';\n",
              "    })();\n",
              "  </script>\n",
              "</div>\n",
              "\n",
              "    </div>\n",
              "  </div>\n"
            ]
          },
          "metadata": {},
          "execution_count": 31
        }
      ]
    },
    {
      "cell_type": "markdown",
      "source": [
        "# 5.&nbsp;Model: Parameter Tuning"
      ],
      "metadata": {
        "id": "alfM5TzJr2H4"
      }
    },
    {
      "cell_type": "markdown",
      "source": [
        "## Create Preprocessed Data with Transformer"
      ],
      "metadata": {
        "id": "VG1B91s-jKcl"
      }
    },
    {
      "cell_type": "code",
      "source": [
        "target_names = ['NOT WELLNESS','WELLNESS']"
      ],
      "metadata": {
        "id": "ewMU4Wj5G9HY"
      },
      "execution_count": 32,
      "outputs": []
    },
    {
      "cell_type": "code",
      "source": [
        "# create a transformer to use in the model\n",
        "tf.keras.backend.clear_session()\n",
        "t = text.Transformer('distilbert-base-uncased',\n",
        "                     maxlen = 512,\n",
        "                     class_names = target_names)\n",
        "# other models you might try 'roberta-base', 'bert-base-uncased', 'distilroberta-base'\n",
        "# we're going to use 'distilbert-base-uncased' for our model here\n",
        "# ktrain lets us try some of the pretrained models available on huggingface\n",
        "# you can browse all the models here: https://huggingface.co/transformers/pretrained_models.html\n",
        "# some work, some dont, try at your own risk."
      ],
      "metadata": {
        "id": "sbpxa8EhHD3f",
        "colab": {
          "base_uri": "https://localhost:8080/",
          "height": 81,
          "referenced_widgets": [
            "5bd104b40f5c4e16911a77219c99ccf6",
            "412e7e874624459fb3289976a0042e46",
            "80acb4aa0ddc4ec69581c2b4ddaf6d54",
            "943aba475f5241bc8df1a18212294e10",
            "1926b7786b164e8e936821954ebacb71",
            "3909702d46bc423b8904624615c4aa4d",
            "eb0b53bfaa234cefaef31d7a6affed75",
            "8351eee2df0b4b6083855b65ed8cfb79",
            "a9ca89050b4a46bba71b9081a50f1c3d",
            "32a99c4d53b4494580490db9a3d25b05",
            "61367f073cc24fb5b7d6e53d31eafa69",
            "6114a8b94c27442391702887f56a95c8",
            "ccfed9ae96fe4621a055a38c5f7a0e9f",
            "73fa25ff1392403597ee744742e34621",
            "4a3a7376451849c8a6e47cce8f887f86",
            "caa8ecb36dd347ec8f06f18b51776c50",
            "f5d0dfba11aa4bfa9ec93cac75a2f478",
            "c5ef40b2238d4be78abc6e41626c0799",
            "4111e7d024ac48228d4ff36d0659e708",
            "6ff9e766d23640b3b0848055de16443e",
            "017d514efd4749fe80f0c8ff500bbddd",
            "399d2e9c0be74584b0c60504dfdf9e4a"
          ]
        },
        "outputId": "9563e4b6-fb75-47fd-b334-c256f2c82439"
      },
      "execution_count": 33,
      "outputs": [
        {
          "output_type": "display_data",
          "data": {
            "text/plain": [
              "Downloading (…)lve/main/config.json:   0%|          | 0.00/483 [00:00<?, ?B/s]"
            ],
            "application/vnd.jupyter.widget-view+json": {
              "version_major": 2,
              "version_minor": 0,
              "model_id": "5bd104b40f5c4e16911a77219c99ccf6"
            }
          },
          "metadata": {}
        },
        {
          "output_type": "display_data",
          "data": {
            "text/plain": [
              "Downloading model.safetensors:   0%|          | 0.00/268M [00:00<?, ?B/s]"
            ],
            "application/vnd.jupyter.widget-view+json": {
              "version_major": 2,
              "version_minor": 0,
              "model_id": "6114a8b94c27442391702887f56a95c8"
            }
          },
          "metadata": {}
        }
      ]
    },
    {
      "cell_type": "code",
      "source": [
        "# use the distilbert-base-uncased transformer model\n",
        "# See all the models here: https://huggingface.co/transformers/pretrained_models.html\n",
        "train, val, preprocess = texts_from_df(df_news_sample, 'combined_text',\n",
        "                                       label_columns = ['wellness'],\n",
        "                                       val_df = None,\n",
        "                                       max_features = 20000,\n",
        "                                       maxlen = 512,\n",
        "                                       val_pct = 0.1,\n",
        "                                       ngram_range = 1,\n",
        "                                       preprocess_mode = 'distilbert',\n",
        "                                       verbose = 1)"
      ],
      "metadata": {
        "colab": {
          "base_uri": "https://localhost:8080/",
          "height": 582,
          "referenced_widgets": [
            "0376a570153c4db299810e8514820981",
            "fae1ed916a1e476f977f798e3cb09410",
            "c1a42d1d084f4513bd4af0fc911e5d8a",
            "0970bd21211a426b8a99fc9021636bcd",
            "53f9d72c0b61486493f0d9dcad1fd9fb",
            "ff298e4daa674d5eb67c2f8a7803bf81",
            "621b00e2412a48ac97e301eead8ebef7",
            "9dcc88a20c57405bb50b426cce298bac",
            "627b37f6406d4e6ba4de1e539220ffa5",
            "b25682160b2c4045b57de5c8f06758a4",
            "5857e2aabfcb4b738dde413af6d5d541",
            "7d7839a9e3254a2fa2248dbcea5d6052",
            "9fce9db3ddcd495987c22300322f8c7d",
            "34a11ea3672e4af58f250e19f3b8a3d0",
            "63807fde45ce4212ad535b05526cfcbb",
            "a2e0f047e8d34d3394d016ff4074973a",
            "d2cb1f560c2e497b99eba965b298ee06",
            "114ef7aeea534cef8b3f47787133870c",
            "72861f320871405b9377a3964c4dcdf9",
            "2d8a27d23aa34c029ec6e7dcb22a14e9",
            "3c340a4fc6734e5bb9df7798ebaf8304",
            "1f5d7074fd1e46278e42b6362bca98f7",
            "107a91ab94714d9fa1aca0b911b8496e",
            "5974248ed96e4d4e889d760fa1cd0dc7",
            "51626d5b36dd400ea0253958b6f28175",
            "8c1b1bd6d3434468ab04565d9efef7b0",
            "1063a8b31b1a494ca01cf903c3b4f5a0",
            "9788a24b19c04d309acf2878aaba6fc2",
            "6baf50d1ea2340d19a40f5df575473e0",
            "2b8ac000bf6f4a2f8057bd12c31d5f3f",
            "3221d06e16334a319a0537c32e5c1114",
            "d9aa3b88d6784e8d8fac71bbe05373ef",
            "647d109c2bdc42a49f1953226cd1e9f9"
          ]
        },
        "id": "8FBHre-5HD8l",
        "outputId": "13fae500-0921-4ca0-c6be-17f9f68b5ee7"
      },
      "execution_count": 34,
      "outputs": [
        {
          "output_type": "stream",
          "name": "stdout",
          "text": [
            "['not_wellness', 'wellness']\n",
            "        not_wellness  wellness\n",
            "41903            1.0       0.0\n",
            "194459           0.0       1.0\n",
            "182078           0.0       1.0\n",
            "128497           0.0       1.0\n",
            "136422           1.0       0.0\n",
            "['not_wellness', 'wellness']\n",
            "        not_wellness  wellness\n",
            "39739            1.0       0.0\n",
            "133095           0.0       1.0\n",
            "118784           1.0       0.0\n",
            "128769           0.0       1.0\n",
            "139299           1.0       0.0\n",
            "preprocessing train...\n",
            "language: en\n",
            "train sequence lengths:\n",
            "\tmean : 32\n",
            "\t95percentile : 58\n",
            "\t99percentile : 68\n"
          ]
        },
        {
          "output_type": "display_data",
          "data": {
            "text/plain": [
              "Downloading (…)okenizer_config.json:   0%|          | 0.00/28.0 [00:00<?, ?B/s]"
            ],
            "application/vnd.jupyter.widget-view+json": {
              "version_major": 2,
              "version_minor": 0,
              "model_id": "0376a570153c4db299810e8514820981"
            }
          },
          "metadata": {}
        },
        {
          "output_type": "display_data",
          "data": {
            "text/plain": [
              "Downloading (…)solve/main/vocab.txt:   0%|          | 0.00/232k [00:00<?, ?B/s]"
            ],
            "application/vnd.jupyter.widget-view+json": {
              "version_major": 2,
              "version_minor": 0,
              "model_id": "7d7839a9e3254a2fa2248dbcea5d6052"
            }
          },
          "metadata": {}
        },
        {
          "output_type": "display_data",
          "data": {
            "text/plain": [
              "Downloading (…)/main/tokenizer.json:   0%|          | 0.00/466k [00:00<?, ?B/s]"
            ],
            "application/vnd.jupyter.widget-view+json": {
              "version_major": 2,
              "version_minor": 0,
              "model_id": "107a91ab94714d9fa1aca0b911b8496e"
            }
          },
          "metadata": {}
        },
        {
          "output_type": "display_data",
          "data": {
            "text/plain": [
              "<IPython.core.display.HTML object>"
            ],
            "text/html": [
              "\n",
              "<style>\n",
              "    /* Turns off some styling */\n",
              "    progress {\n",
              "        /* gets rid of default border in Firefox and Opera. */\n",
              "        border: none;\n",
              "        /* Needs to be in here for Safari polyfill so background images work as expected. */\n",
              "        background-size: auto;\n",
              "    }\n",
              "    progress:not([value]), progress:not([value])::-webkit-progress-bar {\n",
              "        background: repeating-linear-gradient(45deg, #7e7e7e, #7e7e7e 10px, #5c5c5c 10px, #5c5c5c 20px);\n",
              "    }\n",
              "    .progress-bar-interrupted, .progress-bar-interrupted::-webkit-progress-bar {\n",
              "        background: #F44336;\n",
              "    }\n",
              "</style>\n"
            ]
          },
          "metadata": {}
        },
        {
          "output_type": "display_data",
          "data": {
            "text/plain": [
              "<IPython.core.display.HTML object>"
            ],
            "text/html": []
          },
          "metadata": {}
        },
        {
          "output_type": "stream",
          "name": "stdout",
          "text": [
            "Is Multi-Label? False\n",
            "preprocessing test...\n",
            "language: en\n",
            "test sequence lengths:\n",
            "\tmean : 32\n",
            "\t95percentile : 58\n",
            "\t99percentile : 69\n"
          ]
        },
        {
          "output_type": "display_data",
          "data": {
            "text/plain": [
              "<IPython.core.display.HTML object>"
            ],
            "text/html": [
              "\n",
              "<style>\n",
              "    /* Turns off some styling */\n",
              "    progress {\n",
              "        /* gets rid of default border in Firefox and Opera. */\n",
              "        border: none;\n",
              "        /* Needs to be in here for Safari polyfill so background images work as expected. */\n",
              "        background-size: auto;\n",
              "    }\n",
              "    progress:not([value]), progress:not([value])::-webkit-progress-bar {\n",
              "        background: repeating-linear-gradient(45deg, #7e7e7e, #7e7e7e 10px, #5c5c5c 10px, #5c5c5c 20px);\n",
              "    }\n",
              "    .progress-bar-interrupted, .progress-bar-interrupted::-webkit-progress-bar {\n",
              "        background: #F44336;\n",
              "    }\n",
              "</style>\n"
            ]
          },
          "metadata": {}
        },
        {
          "output_type": "display_data",
          "data": {
            "text/plain": [
              "<IPython.core.display.HTML object>"
            ],
            "text/html": []
          },
          "metadata": {}
        }
      ]
    },
    {
      "cell_type": "markdown",
      "source": [
        "## Hyperparameter Tuning : Learning Rate"
      ],
      "metadata": {
        "id": "4B2g1dwVjQSd"
      }
    },
    {
      "cell_type": "code",
      "source": [
        "# create a classifier model\n",
        "model = preprocess.get_classifier()\n",
        "# Returns a Learner instance that can be used to tune and train Keras models.\n",
        "learner = ktrain.get_learner(model,\n",
        "                             train_data = train,\n",
        "                             val_data = val,\n",
        "                             batch_size = 16)"
      ],
      "metadata": {
        "id": "pbp7HTkXHEER"
      },
      "execution_count": 35,
      "outputs": []
    },
    {
      "cell_type": "code",
      "source": [
        "# Simulate training for different learning rates\n",
        "# Plots loss as learning rate is increased\n",
        "learner.lr_find(max_epochs = 6)"
      ],
      "metadata": {
        "colab": {
          "base_uri": "https://localhost:8080/"
        },
        "id": "oFVxCqmWIGv6",
        "outputId": "a535b917-ad1d-47ba-ed4f-d76b54521650"
      },
      "execution_count": 36,
      "outputs": [
        {
          "output_type": "stream",
          "name": "stdout",
          "text": [
            "simulating training for different learning rates... this may take a few moments...\n",
            "Epoch 1/5\n",
            "2250/2250 [==============================] - 674s 292ms/step - loss: 0.5057 - accuracy: 0.7304\n",
            "Epoch 2/5\n",
            "2250/2250 [==============================] - 662s 292ms/step - loss: 0.2454 - accuracy: 0.9053\n",
            "Epoch 3/5\n",
            "2250/2250 [==============================] - 661s 291ms/step - loss: 0.6008 - accuracy: 0.5916\n",
            "Epoch 4/5\n",
            "2250/2250 [==============================] - 22s 7ms/step - loss: 1.5893 - accuracy: 0.5162\n",
            "\n",
            "\n",
            "done.\n",
            "Please invoke the Learner.lr_plot() method to visually inspect the loss plot to help identify the maximal learning rate associated with falling loss.\n"
          ]
        }
      ]
    },
    {
      "cell_type": "code",
      "source": [
        "# Plots the loss vs. learning rate to help identify\n",
        "# The maximal learning rate associated with a falling loss.\n",
        "learner.lr_plot(suggest = True)"
      ],
      "metadata": {
        "colab": {
          "base_uri": "https://localhost:8080/",
          "height": 523
        },
        "id": "5mC_dMQhILN0",
        "outputId": "5481d89b-f1c7-4ad7-ba33-f0aea34c3fb5"
      },
      "execution_count": 37,
      "outputs": [
        {
          "output_type": "stream",
          "name": "stdout",
          "text": [
            "Three possible suggestions for LR from plot:\n",
            "\tLongest valley (red): 4.38E-06\n",
            "\tMin numerical gradient (purple): 3.86E-06\n",
            "\tMin loss divided by 10 (omitted from plot): 2.56E-06\n"
          ]
        },
        {
          "output_type": "display_data",
          "data": {
            "text/plain": [
              "<Figure size 640x480 with 1 Axes>"
            ],
            "image/png": "[encoded data removed]"
          },
          "metadata": {}
        }
      ]
    },
    {
      "cell_type": "code",
      "source": [
        "# Return numerical estimates of lr using two different methods:\n",
        "lr_est = learner.lr_estimate()\n",
        "print('learning rate (estimate):', lr_est)"
      ],
      "metadata": {
        "id": "VT5eAKFbiTGu",
        "colab": {
          "base_uri": "https://localhost:8080/"
        },
        "outputId": "67aab6c0-c52a-49d9-bf1e-86b43bba764b"
      },
      "execution_count": 38,
      "outputs": [
        {
          "output_type": "stream",
          "name": "stdout",
          "text": [
            "learning rate (estimate): (3.8591356e-06, 2.5617348001105713e-06, 4.3848686e-06)\n"
          ]
        }
      ]
    },
    {
      "cell_type": "markdown",
      "source": [
        "based on the learning rate plot, a learning rate of 10^-4 should be used for the final model."
      ],
      "metadata": {
        "id": "aIblRaC8hGDt"
      }
    },
    {
      "cell_type": "markdown",
      "source": [
        "# 6.&nbsp;Final Model with Ktrain"
      ],
      "metadata": {
        "id": "iw2hDBbErcsZ"
      }
    },
    {
      "cell_type": "markdown",
      "source": [
        "## Training the Final Model"
      ],
      "metadata": {
        "id": "GN6oIIQyjbsf"
      }
    },
    {
      "cell_type": "code",
      "source": [
        "# Automatically train model with the selected learning rate\n",
        "history = learner.autofit(\n",
        "    lr = 3e-5,\n",
        "    #3e-5 -- value from smaller runs\n",
        "    #1e-5 -- value from large run and chart above\n",
        "    #1e-4 -- value from labs,\n",
        "    checkpoint_folder = 'checkpoint',\n",
        "    epochs = 12,\n",
        "    early_stopping = True)"
      ],
      "metadata": {
        "colab": {
          "base_uri": "https://localhost:8080/"
        },
        "id": "CHEqQFXJrtBW",
        "outputId": "0e699ed9-2792-409d-e79b-d2a5717fb5cf"
      },
      "execution_count": 39,
      "outputs": [
        {
          "output_type": "stream",
          "name": "stdout",
          "text": [
            "\n",
            "\n",
            "begin training using triangular learning rate policy with max lr of 3e-05...\n",
            "Epoch 1/12\n",
            "2250/2250 [==============================] - 685s 298ms/step - loss: 0.2446 - accuracy: 0.9037 - val_loss: 0.1873 - val_accuracy: 0.9290\n",
            "Epoch 2/12\n",
            "2250/2250 [==============================] - ETA: 0s - loss: 0.1460 - accuracy: 0.9456Restoring model weights from the end of the best epoch: 1.\n",
            "2250/2250 [==============================] - 669s 297ms/step - loss: 0.1460 - accuracy: 0.9456 - val_loss: 0.1891 - val_accuracy: 0.9300\n",
            "Epoch 2: early stopping\n",
            "Weights from best epoch have been loaded into model.\n"
          ]
        }
      ]
    },
    {
      "cell_type": "code",
      "source": [
        "# Save the learner\n",
        "learner.save_model(\"%s/distilbertmodel_learner\" % DATA_DIR)"
      ],
      "metadata": {
        "id": "UCanlMTpIQ3A"
      },
      "execution_count": 40,
      "outputs": []
    },
    {
      "cell_type": "code",
      "source": [
        "# Returns a Predictor instance that can be used to make predictions on unlabeled examples\n",
        "predictor = ktrain.get_predictor(learner.model, preproc = preprocess)"
      ],
      "metadata": {
        "id": "6NnAPempIRTA"
      },
      "execution_count": 41,
      "outputs": []
    },
    {
      "cell_type": "code",
      "source": [
        "# Save the predictor model\n",
        "predictor.save(\"%s/distilbertmodel_predictor\" % DATA_DIR)"
      ],
      "metadata": {
        "id": "SL5BhCjbOWSb"
      },
      "execution_count": 42,
      "outputs": []
    },
    {
      "cell_type": "markdown",
      "source": [
        "## Validate the Model"
      ],
      "metadata": {
        "id": "53fM1Jk4jl8t"
      }
    },
    {
      "cell_type": "code",
      "source": [
        "# Returns confusion matrix and optionally prints a classification report.\n",
        "validation = learner.validate(val_data = val,\n",
        "                              print_report = True,\n",
        "                              class_names = target_names)"
      ],
      "metadata": {
        "colab": {
          "base_uri": "https://localhost:8080/"
        },
        "id": "SKaC1HwWISpZ",
        "outputId": "3a7d327d-4990-424a-fe31-bc56ac3130a1"
      },
      "execution_count": 43,
      "outputs": [
        {
          "output_type": "stream",
          "name": "stdout",
          "text": [
            "125/125 [==============================] - 12s 83ms/step\n",
            "              precision    recall  f1-score   support\n",
            "\n",
            "NOT WELLNESS       0.95      0.91      0.93      2023\n",
            "    WELLNESS       0.91      0.95      0.93      1977\n",
            "\n",
            "    accuracy                           0.93      4000\n",
            "   macro avg       0.93      0.93      0.93      4000\n",
            "weighted avg       0.93      0.93      0.93      4000\n",
            "\n"
          ]
        }
      ]
    },
    {
      "cell_type": "markdown",
      "source": [
        "# 7.&nbsp; Model Evaluation"
      ],
      "metadata": {
        "id": "upsAF0vzrrPG"
      }
    },
    {
      "cell_type": "markdown",
      "source": [
        "## Model Metrics"
      ],
      "metadata": {
        "id": "HL4imzPUejCi"
      }
    },
    {
      "cell_type": "code",
      "source": [
        "# Show the data stored in the validation\n",
        "validation"
      ],
      "metadata": {
        "colab": {
          "base_uri": "https://localhost:8080/"
        },
        "id": "JICuLw01ejLX",
        "outputId": "1949f192-328d-4779-df7c-7615a1827603"
      },
      "execution_count": 44,
      "outputs": [
        {
          "output_type": "execute_result",
          "data": {
            "text/plain": [
              "array([[1846,  177],\n",
              "       [ 107, 1870]])"
            ]
          },
          "metadata": {},
          "execution_count": 44
        }
      ]
    },
    {
      "cell_type": "code",
      "source": [
        "# Save confusion matrix and slice into four pieces\n",
        "TP = validation[1, 1]\n",
        "TN = validation[0, 0]\n",
        "FP = validation[0, 1]\n",
        "FN = validation[1, 0]"
      ],
      "metadata": {
        "id": "T8YUfdYivhjC"
      },
      "execution_count": 45,
      "outputs": []
    },
    {
      "cell_type": "code",
      "source": [
        "# Calculate metrics from confusion matrix\n",
        "c_accuracy            = (TP + TN) / (TP + TN + FP + FN)\n",
        "c_error               = (FP + FN) / (TP + TN + FP + FN)\n",
        "c_sensitivity         = TP / (TP + FN)\n",
        "c_specificity         = TN / (TN + FP)\n",
        "c_false_positive_rate = FP / (TN + FP)\n",
        "c_precision           = TP / (TP + FP)\n",
        "c_f1                  = (c_sensitivity + c_precision) / 2"
      ],
      "metadata": {
        "id": "7NrpLmT7vhmI"
      },
      "execution_count": 46,
      "outputs": []
    },
    {
      "cell_type": "code",
      "source": [
        "# Print a summary of additional metrics\n",
        "print('Accuracy:\\t\\t', round(c_accuracy,4)*100, '%')\n",
        "print('Classification Error:\\t', round(c_error,4)*100, '%')\n",
        "print('Sensitivity / Recall:\\t', round(c_sensitivity,4)*100, '%')\n",
        "print('Specificity:\\t\\t', round(c_specificity,4)*100, '%')\n",
        "print('False Positive Rate:\\t', round(c_false_positive_rate,4)*100, '%')\n",
        "print('Precision:\\t\\t', round(c_precision,4)*100, '%')\n",
        "print('F1 Score:\\t\\t', round(c_f1,4)*100, '%')"
      ],
      "metadata": {
        "colab": {
          "base_uri": "https://localhost:8080/"
        },
        "id": "9jf2LzluvhpF",
        "outputId": "2ddd5a84-66b7-4ba1-e979-65bd8a7a3087"
      },
      "execution_count": 47,
      "outputs": [
        {
          "output_type": "stream",
          "name": "stdout",
          "text": [
            "Accuracy:\t\t 92.9 %\n",
            "Classification Error:\t 7.1 %\n",
            "Sensitivity / Recall:\t 94.59 %\n",
            "Specificity:\t\t 91.25 %\n",
            "False Positive Rate:\t 8.75 %\n",
            "Precision:\t\t 91.35 %\n",
            "F1 Score:\t\t 92.97 %\n"
          ]
        }
      ]
    },
    {
      "cell_type": "markdown",
      "source": [
        "## Test on Articles Outside Dataset"
      ],
      "metadata": {
        "id": "HolDMbMxIrJD"
      }
    },
    {
      "cell_type": "code",
      "source": [
        "# Load predictor from save (if needed for analysis)\n",
        "#predictor = ktrain.load_predictor(\"%s/distilbertmodel_predictor\")\n",
        "#model = ktrain.get_predictor(predictor.model, predictor.preproc)"
      ],
      "metadata": {
        "id": "_uuqjdOfRWQk"
      },
      "execution_count": 48,
      "outputs": []
    },
    {
      "cell_type": "code",
      "source": [
        "# Sample articles to test sourced on 2023-09-12\n",
        "test_docs = [\n",
        "'Is swimming in cold water good for you? Cold water exposure has arousing and stimulating effects, and it appears to increase many substances that we know are involved in regulating mood.',\n",
        "'For jet lag, a hearty breakfast in the new time zone may help Eating an early meal in the new time zone and avoiding a meal late the night before could mean two fewer days of jet lag, a mathematical model showed.',\n",
        "\n",
        "'Overdoses soared even as prescription opioid shipments plunged The number of prescription opioid pain pills shipped in the United States plummeted nearly 45 percent from 2011 to 2019, federal data shows, even as fatal overdoses hit record levels as users turned to heroin and then fentanyl.',\n",
        "'Thousands missing and feared dead after floods submerge eastern Libya The International Federation of Red Cross and Red Crescent Societies said its independent sources reported up to 10,000 people missing.',\n",
        "'The U.S. commitment to Ukraine has worried me deeply. Then a friend went. Jim and I agree on pretty much everything — just not Ukraine.'\n",
        "             ]"
      ],
      "metadata": {
        "id": "OuU9jhqQPiUG"
      },
      "execution_count": 50,
      "outputs": []
    },
    {
      "cell_type": "code",
      "source": [
        "# create a prediciton for human sourced articles (no real category assigned)\n",
        "for i, text in enumerate(test_docs):\n",
        "  probs = predictor.predict(text, return_proba=True)\n",
        "  print(\"---------------------------\")\n",
        "  print('The probability this is wellness is %s' % round(probs[1],4))\n",
        "  print(text)"
      ],
      "metadata": {
        "colab": {
          "base_uri": "https://localhost:8080/"
        },
        "id": "KF2wm3FzIyyK",
        "outputId": "4050606e-02c1-4855-bbd7-9cc53c7085c0"
      },
      "execution_count": 51,
      "outputs": [
        {
          "output_type": "stream",
          "name": "stdout",
          "text": [
            "---------------------------\n",
            "The probability this is wellness is 0.9868\n",
            "Is swimming in cold water good for you? Cold water exposure has arousing and stimulating effects, and it appears to increase many substances that we know are involved in regulating mood.\n",
            "---------------------------\n",
            "The probability this is wellness is 0.9811\n",
            "For jet lag, a hearty breakfast in the new time zone may help Eating an early meal in the new time zone and avoiding a meal late the night before could mean two fewer days of jet lag, a mathematical model showed.\n",
            "---------------------------\n",
            "The probability this is wellness is 0.9872\n",
            "Overdoses soared even as prescription opioid shipments plunged The number of prescription opioid pain pills shipped in the United States plummeted nearly 45 percent from 2011 to 2019, federal data shows, even as fatal overdoses hit record levels as users turned to heroin and then fentanyl.\n",
            "---------------------------\n",
            "The probability this is wellness is 0.0072\n",
            "Thousands missing and feared dead after floods submerge eastern Libya The International Federation of Red Cross and Red Crescent Societies said its independent sources reported up to 10,000 people missing.\n",
            "---------------------------\n",
            "The probability this is wellness is 0.0082\n",
            "The U.S. commitment to Ukraine has worried me deeply. Then a friend went. Jim and I agree on pretty much everything — just not Ukraine.\n"
          ]
        }
      ]
    },
    {
      "cell_type": "markdown",
      "source": [
        "## Predict All Articles in Dataset"
      ],
      "metadata": {
        "id": "svBkNI90DFwn"
      }
    },
    {
      "cell_type": "code",
      "source": [
        "# create a prediciton for all articles in corpus\n",
        "val_probs = predictor.predict(list(df_news['combined_text']), return_proba=True)"
      ],
      "metadata": {
        "id": "vhfdfFFIDF6q"
      },
      "execution_count": 57,
      "outputs": []
    },
    {
      "cell_type": "code",
      "source": [
        "# add predictions to dataframe\n",
        "df_news['pred_proba'] = val_probs[:,1]\n",
        "df_news['pred'] = np.where(df_news['pred_proba']>0.5, 1, 0)\n",
        "df_news['pred_acc'] = (df_news['pred'] == df_news['wellness'])\n",
        "df_news.head(2)"
      ],
      "metadata": {
        "colab": {
          "base_uri": "https://localhost:8080/",
          "height": 147
        },
        "id": "AO5TeCt5aMrL",
        "outputId": "bd05be2f-4438-40bf-d32d-aaedeeb1eec4"
      },
      "execution_count": 68,
      "outputs": [
        {
          "output_type": "execute_result",
          "data": {
            "text/plain": [
              "        category                                           headline  \\\n",
              "0          CRIME  There Were 2 Mass Shootings In Texas Last Week...   \n",
              "1  ENTERTAINMENT  Will Smith Joins Diplo And Nicky Jam For The 2...   \n",
              "\n",
              "           authors                                               link  \\\n",
              "0  Melissa Jeltsen  https://www.huffingtonpost.com/entry/texas-ama...   \n",
              "1    Andy McDonald  https://www.huffingtonpost.com/entry/will-smit...   \n",
              "\n",
              "                                   short_description       date  \\\n",
              "0  She left her husband. He killed their children... 2018-05-26   \n",
              "1                           Of course it has a song. 2018-05-26   \n",
              "\n",
              "                                       combined_text  wellness  text_length  \\\n",
              "0  There Were 2 Mass Shootings In Texas Last Week...         0          141   \n",
              "1  Will Smith Joins Diplo And Nicky Jam For The 2...         0          100   \n",
              "\n",
              "   word_count  pred_proba  pred  pred_acc  \n",
              "0          31    0.013054     0      True  \n",
              "1          22    0.004670     0      True  "
            ],
            "text/html": [
              "\n",
              "  <div id=\"df-a0079689-259e-46ce-b12f-e9c1c51ac2ba\" class=\"colab-df-container\">\n",
              "    <div>\n",
              "<style scoped>\n",
              "    .dataframe tbody tr th:only-of-type {\n",
              "        vertical-align: middle;\n",
              "    }\n",
              "\n",
              "    .dataframe tbody tr th {\n",
              "        vertical-align: top;\n",
              "    }\n",
              "\n",
              "    .dataframe thead th {\n",
              "        text-align: right;\n",
              "    }\n",
              "</style>\n",
              "<table border=\"1\" class=\"dataframe\">\n",
              "  <thead>\n",
              "    <tr style=\"text-align: right;\">\n",
              "      <th></th>\n",
              "      <th>category</th>\n",
              "      <th>headline</th>\n",
              "      <th>authors</th>\n",
              "      <th>link</th>\n",
              "      <th>short_description</th>\n",
              "      <th>date</th>\n",
              "      <th>combined_text</th>\n",
              "      <th>wellness</th>\n",
              "      <th>text_length</th>\n",
              "      <th>word_count</th>\n",
              "      <th>pred_proba</th>\n",
              "      <th>pred</th>\n",
              "      <th>pred_acc</th>\n",
              "    </tr>\n",
              "  </thead>\n",
              "  <tbody>\n",
              "    <tr>\n",
              "      <th>0</th>\n",
              "      <td>CRIME</td>\n",
              "      <td>There Were 2 Mass Shootings In Texas Last Week...</td>\n",
              "      <td>Melissa Jeltsen</td>\n",
              "      <td>https://www.huffingtonpost.com/entry/texas-ama...</td>\n",
              "      <td>She left her husband. He killed their children...</td>\n",
              "      <td>2018-05-26</td>\n",
              "      <td>There Were 2 Mass Shootings In Texas Last Week...</td>\n",
              "      <td>0</td>\n",
              "      <td>141</td>\n",
              "      <td>31</td>\n",
              "      <td>0.013054</td>\n",
              "      <td>0</td>\n",
              "      <td>True</td>\n",
              "    </tr>\n",
              "    <tr>\n",
              "      <th>1</th>\n",
              "      <td>ENTERTAINMENT</td>\n",
              "      <td>Will Smith Joins Diplo And Nicky Jam For The 2...</td>\n",
              "      <td>Andy McDonald</td>\n",
              "      <td>https://www.huffingtonpost.com/entry/will-smit...</td>\n",
              "      <td>Of course it has a song.</td>\n",
              "      <td>2018-05-26</td>\n",
              "      <td>Will Smith Joins Diplo And Nicky Jam For The 2...</td>\n",
              "      <td>0</td>\n",
              "      <td>100</td>\n",
              "      <td>22</td>\n",
              "      <td>0.004670</td>\n",
              "      <td>0</td>\n",
              "      <td>True</td>\n",
              "    </tr>\n",
              "  </tbody>\n",
              "</table>\n",
              "</div>\n",
              "    <div class=\"colab-df-buttons\">\n",
              "\n",
              "  <div class=\"colab-df-container\">\n",
              "    <button class=\"colab-df-convert\" onclick=\"convertToInteractive('df-a0079689-259e-46ce-b12f-e9c1c51ac2ba')\"\n",
              "            title=\"Convert this dataframe to an interactive table.\"\n",
              "            style=\"display:none;\">\n",
              "\n",
              "  <svg xmlns=\"http://www.w3.org/2000/svg\" height=\"24px\" viewBox=\"0 -960 960 960\">\n",
              "    <path d=\"M120-120v-720h720v720H120Zm60-500h600v-160H180v160Zm220 220h160v-160H400v160Zm0 220h160v-160H400v160ZM180-400h160v-160H180v160Zm440 0h160v-160H620v160ZM180-180h160v-160H180v160Zm440 0h160v-160H620v160Z\"/>\n",
              "  </svg>\n",
              "    </button>\n",
              "\n",
              "  <style>\n",
              "    .colab-df-container {\n",
              "      display:flex;\n",
              "      gap: 12px;\n",
              "    }\n",
              "\n",
              "    .colab-df-convert {\n",
              "      background-color: #E8F0FE;\n",
              "      border: none;\n",
              "      border-radius: 50%;\n",
              "      cursor: pointer;\n",
              "      display: none;\n",
              "      fill: #1967D2;\n",
              "      height: 32px;\n",
              "      padding: 0 0 0 0;\n",
              "      width: 32px;\n",
              "    }\n",
              "\n",
              "    .colab-df-convert:hover {\n",
              "      background-color: #E2EBFA;\n",
              "      box-shadow: 0px 1px 2px rgba(60, 64, 67, 0.3), 0px 1px 3px 1px rgba(60, 64, 67, 0.15);\n",
              "      fill: #174EA6;\n",
              "    }\n",
              "\n",
              "    .colab-df-buttons div {\n",
              "      margin-bottom: 4px;\n",
              "    }\n",
              "\n",
              "    [theme=dark] .colab-df-convert {\n",
              "      background-color: #3B4455;\n",
              "      fill: #D2E3FC;\n",
              "    }\n",
              "\n",
              "    [theme=dark] .colab-df-convert:hover {\n",
              "      background-color: #434B5C;\n",
              "      box-shadow: 0px 1px 3px 1px rgba(0, 0, 0, 0.15);\n",
              "      filter: drop-shadow(0px 1px 2px rgba(0, 0, 0, 0.3));\n",
              "      fill: #FFFFFF;\n",
              "    }\n",
              "  </style>\n",
              "\n",
              "    <script>\n",
              "      const buttonEl =\n",
              "        document.querySelector('#df-a0079689-259e-46ce-b12f-e9c1c51ac2ba button.colab-df-convert');\n",
              "      buttonEl.style.display =\n",
              "        google.colab.kernel.accessAllowed ? 'block' : 'none';\n",
              "\n",
              "      async function convertToInteractive(key) {\n",
              "        const element = document.querySelector('#df-a0079689-259e-46ce-b12f-e9c1c51ac2ba');\n",
              "        const dataTable =\n",
              "          await google.colab.kernel.invokeFunction('convertToInteractive',\n",
              "                                                    [key], {});\n",
              "        if (!dataTable) return;\n",
              "\n",
              "        const docLinkHtml = 'Like what you see? Visit the ' +\n",
              "          '<a target=\"_blank\" href=https://colab.research.google.com/notebooks/data_table.ipynb>data table notebook</a>'\n",
              "          + ' to learn more about interactive tables.';\n",
              "        element.innerHTML = '';\n",
              "        dataTable['output_type'] = 'display_data';\n",
              "        await google.colab.output.renderOutput(dataTable, element);\n",
              "        const docLink = document.createElement('div');\n",
              "        docLink.innerHTML = docLinkHtml;\n",
              "        element.appendChild(docLink);\n",
              "      }\n",
              "    </script>\n",
              "  </div>\n",
              "\n",
              "\n",
              "<div id=\"df-7d721e7d-09e0-4884-9ae7-77f7bb8233dc\">\n",
              "  <button class=\"colab-df-quickchart\" onclick=\"quickchart('df-7d721e7d-09e0-4884-9ae7-77f7bb8233dc')\"\n",
              "            title=\"Suggest charts.\"\n",
              "            style=\"display:none;\">\n",
              "\n",
              "<svg xmlns=\"http://www.w3.org/2000/svg\" height=\"24px\"viewBox=\"0 0 24 24\"\n",
              "     width=\"24px\">\n",
              "    <g>\n",
              "        <path d=\"M19 3H5c-1.1 0-2 .9-2 2v14c0 1.1.9 2 2 2h14c1.1 0 2-.9 2-2V5c0-1.1-.9-2-2-2zM9 17H7v-7h2v7zm4 0h-2V7h2v10zm4 0h-2v-4h2v4z\"/>\n",
              "    </g>\n",
              "</svg>\n",
              "  </button>\n",
              "\n",
              "<style>\n",
              "  .colab-df-quickchart {\n",
              "      --bg-color: #E8F0FE;\n",
              "      --fill-color: #1967D2;\n",
              "      --hover-bg-color: #E2EBFA;\n",
              "      --hover-fill-color: #174EA6;\n",
              "      --disabled-fill-color: #AAA;\n",
              "      --disabled-bg-color: #DDD;\n",
              "  }\n",
              "\n",
              "  [theme=dark] .colab-df-quickchart {\n",
              "      --bg-color: #3B4455;\n",
              "      --fill-color: #D2E3FC;\n",
              "      --hover-bg-color: #434B5C;\n",
              "      --hover-fill-color: #FFFFFF;\n",
              "      --disabled-bg-color: #3B4455;\n",
              "      --disabled-fill-color: #666;\n",
              "  }\n",
              "\n",
              "  .colab-df-quickchart {\n",
              "    background-color: var(--bg-color);\n",
              "    border: none;\n",
              "    border-radius: 50%;\n",
              "    cursor: pointer;\n",
              "    display: none;\n",
              "    fill: var(--fill-color);\n",
              "    height: 32px;\n",
              "    padding: 0;\n",
              "    width: 32px;\n",
              "  }\n",
              "\n",
              "  .colab-df-quickchart:hover {\n",
              "    background-color: var(--hover-bg-color);\n",
              "    box-shadow: 0 1px 2px rgba(60, 64, 67, 0.3), 0 1px 3px 1px rgba(60, 64, 67, 0.15);\n",
              "    fill: var(--button-hover-fill-color);\n",
              "  }\n",
              "\n",
              "  .colab-df-quickchart-complete:disabled,\n",
              "  .colab-df-quickchart-complete:disabled:hover {\n",
              "    background-color: var(--disabled-bg-color);\n",
              "    fill: var(--disabled-fill-color);\n",
              "    box-shadow: none;\n",
              "  }\n",
              "\n",
              "  .colab-df-spinner {\n",
              "    border: 2px solid var(--fill-color);\n",
              "    border-color: transparent;\n",
              "    border-bottom-color: var(--fill-color);\n",
              "    animation:\n",
              "      spin 1s steps(1) infinite;\n",
              "  }\n",
              "\n",
              "  @keyframes spin {\n",
              "    0% {\n",
              "      border-color: transparent;\n",
              "      border-bottom-color: var(--fill-color);\n",
              "      border-left-color: var(--fill-color);\n",
              "    }\n",
              "    20% {\n",
              "      border-color: transparent;\n",
              "      border-left-color: var(--fill-color);\n",
              "      border-top-color: var(--fill-color);\n",
              "    }\n",
              "    30% {\n",
              "      border-color: transparent;\n",
              "      border-left-color: var(--fill-color);\n",
              "      border-top-color: var(--fill-color);\n",
              "      border-right-color: var(--fill-color);\n",
              "    }\n",
              "    40% {\n",
              "      border-color: transparent;\n",
              "      border-right-color: var(--fill-color);\n",
              "      border-top-color: var(--fill-color);\n",
              "    }\n",
              "    60% {\n",
              "      border-color: transparent;\n",
              "      border-right-color: var(--fill-color);\n",
              "    }\n",
              "    80% {\n",
              "      border-color: transparent;\n",
              "      border-right-color: var(--fill-color);\n",
              "      border-bottom-color: var(--fill-color);\n",
              "    }\n",
              "    90% {\n",
              "      border-color: transparent;\n",
              "      border-bottom-color: var(--fill-color);\n",
              "    }\n",
              "  }\n",
              "</style>\n",
              "\n",
              "  <script>\n",
              "    async function quickchart(key) {\n",
              "      const quickchartButtonEl =\n",
              "        document.querySelector('#' + key + ' button');\n",
              "      quickchartButtonEl.disabled = true;  // To prevent multiple clicks.\n",
              "      quickchartButtonEl.classList.add('colab-df-spinner');\n",
              "      try {\n",
              "        const charts = await google.colab.kernel.invokeFunction(\n",
              "            'suggestCharts', [key], {});\n",
              "      } catch (error) {\n",
              "        console.error('Error during call to suggestCharts:', error);\n",
              "      }\n",
              "      quickchartButtonEl.classList.remove('colab-df-spinner');\n",
              "      quickchartButtonEl.classList.add('colab-df-quickchart-complete');\n",
              "    }\n",
              "    (() => {\n",
              "      let quickchartButtonEl =\n",
              "        document.querySelector('#df-7d721e7d-09e0-4884-9ae7-77f7bb8233dc button');\n",
              "      quickchartButtonEl.style.display =\n",
              "        google.colab.kernel.accessAllowed ? 'block' : 'none';\n",
              "    })();\n",
              "  </script>\n",
              "</div>\n",
              "\n",
              "    </div>\n",
              "  </div>\n"
            ]
          },
          "metadata": {},
          "execution_count": 68
        }
      ]
    },
    {
      "cell_type": "code",
      "source": [
        "# summarize record level flagging of accuracy in source data\n",
        "pd.DataFrame(df_news['pred_acc'].value_counts())"
      ],
      "metadata": {
        "colab": {
          "base_uri": "https://localhost:8080/",
          "height": 112
        },
        "id": "lWeL_i4NeHQc",
        "outputId": "1ae4bca0-96e8-4268-c573-31f5ab0b96a9"
      },
      "execution_count": 71,
      "outputs": [
        {
          "output_type": "execute_result",
          "data": {
            "text/plain": [
              "       pred_acc\n",
              "True     184547\n",
              "False     16300"
            ],
            "text/html": [
              "\n",
              "  <div id=\"df-4f8ad375-e46a-4f3a-884f-acefa2c5559d\" class=\"colab-df-container\">\n",
              "    <div>\n",
              "<style scoped>\n",
              "    .dataframe tbody tr th:only-of-type {\n",
              "        vertical-align: middle;\n",
              "    }\n",
              "\n",
              "    .dataframe tbody tr th {\n",
              "        vertical-align: top;\n",
              "    }\n",
              "\n",
              "    .dataframe thead th {\n",
              "        text-align: right;\n",
              "    }\n",
              "</style>\n",
              "<table border=\"1\" class=\"dataframe\">\n",
              "  <thead>\n",
              "    <tr style=\"text-align: right;\">\n",
              "      <th></th>\n",
              "      <th>pred_acc</th>\n",
              "    </tr>\n",
              "  </thead>\n",
              "  <tbody>\n",
              "    <tr>\n",
              "      <th>True</th>\n",
              "      <td>184547</td>\n",
              "    </tr>\n",
              "    <tr>\n",
              "      <th>False</th>\n",
              "      <td>16300</td>\n",
              "    </tr>\n",
              "  </tbody>\n",
              "</table>\n",
              "</div>\n",
              "    <div class=\"colab-df-buttons\">\n",
              "\n",
              "  <div class=\"colab-df-container\">\n",
              "    <button class=\"colab-df-convert\" onclick=\"convertToInteractive('df-4f8ad375-e46a-4f3a-884f-acefa2c5559d')\"\n",
              "            title=\"Convert this dataframe to an interactive table.\"\n",
              "            style=\"display:none;\">\n",
              "\n",
              "  <svg xmlns=\"http://www.w3.org/2000/svg\" height=\"24px\" viewBox=\"0 -960 960 960\">\n",
              "    <path d=\"M120-120v-720h720v720H120Zm60-500h600v-160H180v160Zm220 220h160v-160H400v160Zm0 220h160v-160H400v160ZM180-400h160v-160H180v160Zm440 0h160v-160H620v160ZM180-180h160v-160H180v160Zm440 0h160v-160H620v160Z\"/>\n",
              "  </svg>\n",
              "    </button>\n",
              "\n",
              "  <style>\n",
              "    .colab-df-container {\n",
              "      display:flex;\n",
              "      gap: 12px;\n",
              "    }\n",
              "\n",
              "    .colab-df-convert {\n",
              "      background-color: #E8F0FE;\n",
              "      border: none;\n",
              "      border-radius: 50%;\n",
              "      cursor: pointer;\n",
              "      display: none;\n",
              "      fill: #1967D2;\n",
              "      height: 32px;\n",
              "      padding: 0 0 0 0;\n",
              "      width: 32px;\n",
              "    }\n",
              "\n",
              "    .colab-df-convert:hover {\n",
              "      background-color: #E2EBFA;\n",
              "      box-shadow: 0px 1px 2px rgba(60, 64, 67, 0.3), 0px 1px 3px 1px rgba(60, 64, 67, 0.15);\n",
              "      fill: #174EA6;\n",
              "    }\n",
              "\n",
              "    .colab-df-buttons div {\n",
              "      margin-bottom: 4px;\n",
              "    }\n",
              "\n",
              "    [theme=dark] .colab-df-convert {\n",
              "      background-color: #3B4455;\n",
              "      fill: #D2E3FC;\n",
              "    }\n",
              "\n",
              "    [theme=dark] .colab-df-convert:hover {\n",
              "      background-color: #434B5C;\n",
              "      box-shadow: 0px 1px 3px 1px rgba(0, 0, 0, 0.15);\n",
              "      filter: drop-shadow(0px 1px 2px rgba(0, 0, 0, 0.3));\n",
              "      fill: #FFFFFF;\n",
              "    }\n",
              "  </style>\n",
              "\n",
              "    <script>\n",
              "      const buttonEl =\n",
              "        document.querySelector('#df-4f8ad375-e46a-4f3a-884f-acefa2c5559d button.colab-df-convert');\n",
              "      buttonEl.style.display =\n",
              "        google.colab.kernel.accessAllowed ? 'block' : 'none';\n",
              "\n",
              "      async function convertToInteractive(key) {\n",
              "        const element = document.querySelector('#df-4f8ad375-e46a-4f3a-884f-acefa2c5559d');\n",
              "        const dataTable =\n",
              "          await google.colab.kernel.invokeFunction('convertToInteractive',\n",
              "                                                    [key], {});\n",
              "        if (!dataTable) return;\n",
              "\n",
              "        const docLinkHtml = 'Like what you see? Visit the ' +\n",
              "          '<a target=\"_blank\" href=https://colab.research.google.com/notebooks/data_table.ipynb>data table notebook</a>'\n",
              "          + ' to learn more about interactive tables.';\n",
              "        element.innerHTML = '';\n",
              "        dataTable['output_type'] = 'display_data';\n",
              "        await google.colab.output.renderOutput(dataTable, element);\n",
              "        const docLink = document.createElement('div');\n",
              "        docLink.innerHTML = docLinkHtml;\n",
              "        element.appendChild(docLink);\n",
              "      }\n",
              "    </script>\n",
              "  </div>\n",
              "\n",
              "\n",
              "<div id=\"df-1f0df9ec-a849-4364-9491-162f87df6fc9\">\n",
              "  <button class=\"colab-df-quickchart\" onclick=\"quickchart('df-1f0df9ec-a849-4364-9491-162f87df6fc9')\"\n",
              "            title=\"Suggest charts.\"\n",
              "            style=\"display:none;\">\n",
              "\n",
              "<svg xmlns=\"http://www.w3.org/2000/svg\" height=\"24px\"viewBox=\"0 0 24 24\"\n",
              "     width=\"24px\">\n",
              "    <g>\n",
              "        <path d=\"M19 3H5c-1.1 0-2 .9-2 2v14c0 1.1.9 2 2 2h14c1.1 0 2-.9 2-2V5c0-1.1-.9-2-2-2zM9 17H7v-7h2v7zm4 0h-2V7h2v10zm4 0h-2v-4h2v4z\"/>\n",
              "    </g>\n",
              "</svg>\n",
              "  </button>\n",
              "\n",
              "<style>\n",
              "  .colab-df-quickchart {\n",
              "      --bg-color: #E8F0FE;\n",
              "      --fill-color: #1967D2;\n",
              "      --hover-bg-color: #E2EBFA;\n",
              "      --hover-fill-color: #174EA6;\n",
              "      --disabled-fill-color: #AAA;\n",
              "      --disabled-bg-color: #DDD;\n",
              "  }\n",
              "\n",
              "  [theme=dark] .colab-df-quickchart {\n",
              "      --bg-color: #3B4455;\n",
              "      --fill-color: #D2E3FC;\n",
              "      --hover-bg-color: #434B5C;\n",
              "      --hover-fill-color: #FFFFFF;\n",
              "      --disabled-bg-color: #3B4455;\n",
              "      --disabled-fill-color: #666;\n",
              "  }\n",
              "\n",
              "  .colab-df-quickchart {\n",
              "    background-color: var(--bg-color);\n",
              "    border: none;\n",
              "    border-radius: 50%;\n",
              "    cursor: pointer;\n",
              "    display: none;\n",
              "    fill: var(--fill-color);\n",
              "    height: 32px;\n",
              "    padding: 0;\n",
              "    width: 32px;\n",
              "  }\n",
              "\n",
              "  .colab-df-quickchart:hover {\n",
              "    background-color: var(--hover-bg-color);\n",
              "    box-shadow: 0 1px 2px rgba(60, 64, 67, 0.3), 0 1px 3px 1px rgba(60, 64, 67, 0.15);\n",
              "    fill: var(--button-hover-fill-color);\n",
              "  }\n",
              "\n",
              "  .colab-df-quickchart-complete:disabled,\n",
              "  .colab-df-quickchart-complete:disabled:hover {\n",
              "    background-color: var(--disabled-bg-color);\n",
              "    fill: var(--disabled-fill-color);\n",
              "    box-shadow: none;\n",
              "  }\n",
              "\n",
              "  .colab-df-spinner {\n",
              "    border: 2px solid var(--fill-color);\n",
              "    border-color: transparent;\n",
              "    border-bottom-color: var(--fill-color);\n",
              "    animation:\n",
              "      spin 1s steps(1) infinite;\n",
              "  }\n",
              "\n",
              "  @keyframes spin {\n",
              "    0% {\n",
              "      border-color: transparent;\n",
              "      border-bottom-color: var(--fill-color);\n",
              "      border-left-color: var(--fill-color);\n",
              "    }\n",
              "    20% {\n",
              "      border-color: transparent;\n",
              "      border-left-color: var(--fill-color);\n",
              "      border-top-color: var(--fill-color);\n",
              "    }\n",
              "    30% {\n",
              "      border-color: transparent;\n",
              "      border-left-color: var(--fill-color);\n",
              "      border-top-color: var(--fill-color);\n",
              "      border-right-color: var(--fill-color);\n",
              "    }\n",
              "    40% {\n",
              "      border-color: transparent;\n",
              "      border-right-color: var(--fill-color);\n",
              "      border-top-color: var(--fill-color);\n",
              "    }\n",
              "    60% {\n",
              "      border-color: transparent;\n",
              "      border-right-color: var(--fill-color);\n",
              "    }\n",
              "    80% {\n",
              "      border-color: transparent;\n",
              "      border-right-color: var(--fill-color);\n",
              "      border-bottom-color: var(--fill-color);\n",
              "    }\n",
              "    90% {\n",
              "      border-color: transparent;\n",
              "      border-bottom-color: var(--fill-color);\n",
              "    }\n",
              "  }\n",
              "</style>\n",
              "\n",
              "  <script>\n",
              "    async function quickchart(key) {\n",
              "      const quickchartButtonEl =\n",
              "        document.querySelector('#' + key + ' button');\n",
              "      quickchartButtonEl.disabled = true;  // To prevent multiple clicks.\n",
              "      quickchartButtonEl.classList.add('colab-df-spinner');\n",
              "      try {\n",
              "        const charts = await google.colab.kernel.invokeFunction(\n",
              "            'suggestCharts', [key], {});\n",
              "      } catch (error) {\n",
              "        console.error('Error during call to suggestCharts:', error);\n",
              "      }\n",
              "      quickchartButtonEl.classList.remove('colab-df-spinner');\n",
              "      quickchartButtonEl.classList.add('colab-df-quickchart-complete');\n",
              "    }\n",
              "    (() => {\n",
              "      let quickchartButtonEl =\n",
              "        document.querySelector('#df-1f0df9ec-a849-4364-9491-162f87df6fc9 button');\n",
              "      quickchartButtonEl.style.display =\n",
              "        google.colab.kernel.accessAllowed ? 'block' : 'none';\n",
              "    })();\n",
              "  </script>\n",
              "</div>\n",
              "\n",
              "    </div>\n",
              "  </div>\n"
            ]
          },
          "metadata": {},
          "execution_count": 71
        }
      ]
    },
    {
      "cell_type": "code",
      "source": [
        "# Create a summary of the accuracy\n",
        "df_pred_count = pd.DataFrame(df_news['pred_acc'].value_counts()).reset_index()\n",
        "df_pred_count.columns = ['category', 'count']\n",
        "dict_target_names = {False: 'Not Accurate', True: 'Accurate'}\n",
        "df_pred_count['category'].replace(dict_target_names, inplace=True)\n",
        "# Create a summary bar chart of categories\n",
        "f = plt.figure(figsize=(6,1))\n",
        "sns.barplot(x = 'count',\n",
        "            y = 'category',\n",
        "            data = df_pred_count,\n",
        "            color = 'steelblue'\n",
        "            ).set(title='Data Accuracy for All Data',)\n",
        "plt.show()"
      ],
      "metadata": {
        "colab": {
          "base_uri": "https://localhost:8080/",
          "height": 179
        },
        "id": "o9ImMrMSeVp3",
        "outputId": "01d91ec3-3364-4287-abaa-448d8465ecfa"
      },
      "execution_count": 77,
      "outputs": [
        {
          "output_type": "display_data",
          "data": {
            "text/plain": [
              "<Figure size 600x100 with 1 Axes>"
            ],
            "image/png": "[encoded data removed]"
          },
          "metadata": {}
        }
      ]
    },
    {
      "cell_type": "code",
      "source": [
        "# Dump the evaluation dataframe to a file\n",
        "pickle.dump(df_news, open('%s/all_pred.p' % (EVAL_DIR), 'wb'))"
      ],
      "metadata": {
        "id": "9cwHWKn-acLm"
      },
      "execution_count": 75,
      "outputs": []
    },
    {
      "cell_type": "code",
      "source": [
        "# Load the evaluation dataframe (if needed)\n",
        "#df_news = pickle.load(open('%s/all_pred.p' % (EVAL_DIR))"
      ],
      "metadata": {
        "id": "HD4CFCb8bEH3"
      },
      "execution_count": null,
      "outputs": []
    },
    {
      "cell_type": "code",
      "source": [
        "# Create a summary bar chart of predictions\n",
        "f = plt.figure(figsize=(6,4))\n",
        "sns.histplot(x = 'pred_proba',\n",
        "            data = df_news,\n",
        "            color = 'steelblue',\n",
        "            hue = \"pred_acc\"\n",
        "            ).set(title='Distribution of Predictions')\n",
        "plt.show()"
      ],
      "metadata": {
        "colab": {
          "base_uri": "https://localhost:8080/",
          "height": 410
        },
        "id": "F8kw7ud-EeWg",
        "outputId": "ebd7c82c-1b43-458e-be23-7f7079698d09"
      },
      "execution_count": 76,
      "outputs": [
        {
          "output_type": "display_data",
          "data": {
            "text/plain": [
              "<Figure size 600x400 with 1 Axes>"
            ],
            "image/png": "[encoded data removed]"
          },
          "metadata": {}
        }
      ]
    },
    {
      "cell_type": "code",
      "source": [
        "# Create a dataframe to focus only on wellness articles (subset)\n",
        "df_news_target = df_news[df_news['wellness'] == 1]"
      ],
      "metadata": {
        "id": "7yOXMlbDfMXk"
      },
      "execution_count": 78,
      "outputs": []
    },
    {
      "cell_type": "code",
      "source": [
        "# Create a summary of the wellness predictions\n",
        "df_pred_count = pd.DataFrame(df_news_target['pred_acc'].value_counts()).reset_index()\n",
        "df_pred_count.columns = ['category', 'count']\n",
        "dict_target_names = {False: 'Not Accurate', True: 'Accurate'}\n",
        "df_pred_count['category'].replace(dict_target_names, inplace=True)\n",
        "# Create a summary bar chart of categories\n",
        "f = plt.figure(figsize=(6,1))\n",
        "sns.barplot(x = 'count',\n",
        "            y = 'category',\n",
        "            data = df_pred_count,\n",
        "            color = 'steelblue'\n",
        "            ).set(title='Data Accuracy for True Positives',)\n",
        "plt.show()"
      ],
      "metadata": {
        "colab": {
          "base_uri": "https://localhost:8080/",
          "height": 179
        },
        "id": "0zbv4itTf4sd",
        "outputId": "b3ddc4a5-4454-4129-e66b-3306a0514f89"
      },
      "execution_count": 81,
      "outputs": [
        {
          "output_type": "display_data",
          "data": {
            "text/plain": [
              "<Figure size 600x100 with 1 Axes>"
            ],
            "image/png": "[encoded data removed]"
          },
          "metadata": {}
        }
      ]
    },
    {
      "cell_type": "code",
      "source": [
        "# Create a summary bar chart of true predictions\n",
        "f = plt.figure(figsize=(6,4))\n",
        "sns.histplot(x = 'pred_proba',\n",
        "            data = df_news_target,\n",
        "            color = 'steelblue',\n",
        "            hue = \"pred_acc\"\n",
        "            ).set(title='Distribution of Predictions for True Positives')\n",
        "plt.show()"
      ],
      "metadata": {
        "colab": {
          "base_uri": "https://localhost:8080/",
          "height": 410
        },
        "id": "gAsXmz1MfMed",
        "outputId": "f1a9b80d-acc3-4807-f2f4-02751b7feb92"
      },
      "execution_count": 82,
      "outputs": [
        {
          "output_type": "display_data",
          "data": {
            "text/plain": [
              "<Figure size 600x400 with 1 Axes>"
            ],
            "image/png": "[encoded data removed]"
          },
          "metadata": {}
        }
      ]
    },
    {
      "cell_type": "markdown",
      "source": [
        "# 8.&nbsp; Results"
      ],
      "metadata": {
        "id": "trZ9K5h2r9Ya"
      }
    },
    {
      "cell_type": "markdown",
      "source": [
        "The newly built model was able to meet and exceed expectations for the sensitivity (recall) of the model. It achieved a sensitivity 4% higher than the baseline (93% vs. 89%). Again, sensitivity is the true positive rate, or how often the prediction is correct, for actual positive values. By increasing this metric, the company can capture more websites aligned to their target customer base.\n",
        "\n",
        "\n",
        "In addition, the metrics, including F1 Score, are all above 90% and exceeded the expected baseline metrics. This is a positive indicator that the model will satisfy the customers needs and drive improved customer success for their marketing campaign."
      ],
      "metadata": {
        "id": "RnZ-SUDzxkIv"
      }
    },
    {
      "cell_type": "code",
      "source": [
        "# Define numbers for results grid\n",
        "Metric    = ['Recall', 'F1 Score', 'Specificity', 'Precision', 'Accuracy']\n",
        "Baseline  = [.89, .87, None, .85, .86]\n",
        "#New_Model = [.93, .92,  .92, .92, .92]\n",
        "New_Model = [round(c_sensitivity,2), round(c_f1,2),  round(c_specificity,2), round(c_precision,2), round(c_accuracy,2)]\n",
        "# Buildresults dataframe\n",
        "dict_res = {'Metric': Metric, 'Baseline': Baseline, 'New Model': New_Model}\n",
        "def_res = pd.DataFrame(dict_res)\n",
        "def_res['% Improvement'] = def_res['New Model'] - def_res['Baseline']\n",
        "# Display results\n",
        "print('Final Model Results and Metrics', '\\n')\n",
        "def_res"
      ],
      "metadata": {
        "colab": {
          "base_uri": "https://localhost:8080/",
          "height": 241
        },
        "id": "MoZH3t7U_Qf7",
        "outputId": "cfdc7c84-2db5-4632-9302-5cda2894b131"
      },
      "execution_count": 85,
      "outputs": [
        {
          "output_type": "stream",
          "name": "stdout",
          "text": [
            "Final Model Results and Metrics \n",
            "\n"
          ]
        },
        {
          "output_type": "execute_result",
          "data": {
            "text/plain": [
              "        Metric  Baseline  New Model  % Improvement\n",
              "0       Recall      0.89       0.95           0.06\n",
              "1     F1 Score      0.87       0.93           0.06\n",
              "2  Specificity       NaN       0.91            NaN\n",
              "3    Precision      0.85       0.91           0.06\n",
              "4     Accuracy      0.86       0.93           0.07"
            ],
            "text/html": [
              "\n",
              "  <div id=\"df-1405d40c-d7fc-4e09-ab9a-294edcde6a08\" class=\"colab-df-container\">\n",
              "    <div>\n",
              "<style scoped>\n",
              "    .dataframe tbody tr th:only-of-type {\n",
              "        vertical-align: middle;\n",
              "    }\n",
              "\n",
              "    .dataframe tbody tr th {\n",
              "        vertical-align: top;\n",
              "    }\n",
              "\n",
              "    .dataframe thead th {\n",
              "        text-align: right;\n",
              "    }\n",
              "</style>\n",
              "<table border=\"1\" class=\"dataframe\">\n",
              "  <thead>\n",
              "    <tr style=\"text-align: right;\">\n",
              "      <th></th>\n",
              "      <th>Metric</th>\n",
              "      <th>Baseline</th>\n",
              "      <th>New Model</th>\n",
              "      <th>% Improvement</th>\n",
              "    </tr>\n",
              "  </thead>\n",
              "  <tbody>\n",
              "    <tr>\n",
              "      <th>0</th>\n",
              "      <td>Recall</td>\n",
              "      <td>0.89</td>\n",
              "      <td>0.95</td>\n",
              "      <td>0.06</td>\n",
              "    </tr>\n",
              "    <tr>\n",
              "      <th>1</th>\n",
              "      <td>F1 Score</td>\n",
              "      <td>0.87</td>\n",
              "      <td>0.93</td>\n",
              "      <td>0.06</td>\n",
              "    </tr>\n",
              "    <tr>\n",
              "      <th>2</th>\n",
              "      <td>Specificity</td>\n",
              "      <td>NaN</td>\n",
              "      <td>0.91</td>\n",
              "      <td>NaN</td>\n",
              "    </tr>\n",
              "    <tr>\n",
              "      <th>3</th>\n",
              "      <td>Precision</td>\n",
              "      <td>0.85</td>\n",
              "      <td>0.91</td>\n",
              "      <td>0.06</td>\n",
              "    </tr>\n",
              "    <tr>\n",
              "      <th>4</th>\n",
              "      <td>Accuracy</td>\n",
              "      <td>0.86</td>\n",
              "      <td>0.93</td>\n",
              "      <td>0.07</td>\n",
              "    </tr>\n",
              "  </tbody>\n",
              "</table>\n",
              "</div>\n",
              "    <div class=\"colab-df-buttons\">\n",
              "\n",
              "  <div class=\"colab-df-container\">\n",
              "    <button class=\"colab-df-convert\" onclick=\"convertToInteractive('df-1405d40c-d7fc-4e09-ab9a-294edcde6a08')\"\n",
              "            title=\"Convert this dataframe to an interactive table.\"\n",
              "            style=\"display:none;\">\n",
              "\n",
              "  <svg xmlns=\"http://www.w3.org/2000/svg\" height=\"24px\" viewBox=\"0 -960 960 960\">\n",
              "    <path d=\"M120-120v-720h720v720H120Zm60-500h600v-160H180v160Zm220 220h160v-160H400v160Zm0 220h160v-160H400v160ZM180-400h160v-160H180v160Zm440 0h160v-160H620v160ZM180-180h160v-160H180v160Zm440 0h160v-160H620v160Z\"/>\n",
              "  </svg>\n",
              "    </button>\n",
              "\n",
              "  <style>\n",
              "    .colab-df-container {\n",
              "      display:flex;\n",
              "      gap: 12px;\n",
              "    }\n",
              "\n",
              "    .colab-df-convert {\n",
              "      background-color: #E8F0FE;\n",
              "      border: none;\n",
              "      border-radius: 50%;\n",
              "      cursor: pointer;\n",
              "      display: none;\n",
              "      fill: #1967D2;\n",
              "      height: 32px;\n",
              "      padding: 0 0 0 0;\n",
              "      width: 32px;\n",
              "    }\n",
              "\n",
              "    .colab-df-convert:hover {\n",
              "      background-color: #E2EBFA;\n",
              "      box-shadow: 0px 1px 2px rgba(60, 64, 67, 0.3), 0px 1px 3px 1px rgba(60, 64, 67, 0.15);\n",
              "      fill: #174EA6;\n",
              "    }\n",
              "\n",
              "    .colab-df-buttons div {\n",
              "      margin-bottom: 4px;\n",
              "    }\n",
              "\n",
              "    [theme=dark] .colab-df-convert {\n",
              "      background-color: #3B4455;\n",
              "      fill: #D2E3FC;\n",
              "    }\n",
              "\n",
              "    [theme=dark] .colab-df-convert:hover {\n",
              "      background-color: #434B5C;\n",
              "      box-shadow: 0px 1px 3px 1px rgba(0, 0, 0, 0.15);\n",
              "      filter: drop-shadow(0px 1px 2px rgba(0, 0, 0, 0.3));\n",
              "      fill: #FFFFFF;\n",
              "    }\n",
              "  </style>\n",
              "\n",
              "    <script>\n",
              "      const buttonEl =\n",
              "        document.querySelector('#df-1405d40c-d7fc-4e09-ab9a-294edcde6a08 button.colab-df-convert');\n",
              "      buttonEl.style.display =\n",
              "        google.colab.kernel.accessAllowed ? 'block' : 'none';\n",
              "\n",
              "      async function convertToInteractive(key) {\n",
              "        const element = document.querySelector('#df-1405d40c-d7fc-4e09-ab9a-294edcde6a08');\n",
              "        const dataTable =\n",
              "          await google.colab.kernel.invokeFunction('convertToInteractive',\n",
              "                                                    [key], {});\n",
              "        if (!dataTable) return;\n",
              "\n",
              "        const docLinkHtml = 'Like what you see? Visit the ' +\n",
              "          '<a target=\"_blank\" href=https://colab.research.google.com/notebooks/data_table.ipynb>data table notebook</a>'\n",
              "          + ' to learn more about interactive tables.';\n",
              "        element.innerHTML = '';\n",
              "        dataTable['output_type'] = 'display_data';\n",
              "        await google.colab.output.renderOutput(dataTable, element);\n",
              "        const docLink = document.createElement('div');\n",
              "        docLink.innerHTML = docLinkHtml;\n",
              "        element.appendChild(docLink);\n",
              "      }\n",
              "    </script>\n",
              "  </div>\n",
              "\n",
              "\n",
              "<div id=\"df-6aface3b-b0a9-444a-aa0b-13b327b244b7\">\n",
              "  <button class=\"colab-df-quickchart\" onclick=\"quickchart('df-6aface3b-b0a9-444a-aa0b-13b327b244b7')\"\n",
              "            title=\"Suggest charts.\"\n",
              "            style=\"display:none;\">\n",
              "\n",
              "<svg xmlns=\"http://www.w3.org/2000/svg\" height=\"24px\"viewBox=\"0 0 24 24\"\n",
              "     width=\"24px\">\n",
              "    <g>\n",
              "        <path d=\"M19 3H5c-1.1 0-2 .9-2 2v14c0 1.1.9 2 2 2h14c1.1 0 2-.9 2-2V5c0-1.1-.9-2-2-2zM9 17H7v-7h2v7zm4 0h-2V7h2v10zm4 0h-2v-4h2v4z\"/>\n",
              "    </g>\n",
              "</svg>\n",
              "  </button>\n",
              "\n",
              "<style>\n",
              "  .colab-df-quickchart {\n",
              "      --bg-color: #E8F0FE;\n",
              "      --fill-color: #1967D2;\n",
              "      --hover-bg-color: #E2EBFA;\n",
              "      --hover-fill-color: #174EA6;\n",
              "      --disabled-fill-color: #AAA;\n",
              "      --disabled-bg-color: #DDD;\n",
              "  }\n",
              "\n",
              "  [theme=dark] .colab-df-quickchart {\n",
              "      --bg-color: #3B4455;\n",
              "      --fill-color: #D2E3FC;\n",
              "      --hover-bg-color: #434B5C;\n",
              "      --hover-fill-color: #FFFFFF;\n",
              "      --disabled-bg-color: #3B4455;\n",
              "      --disabled-fill-color: #666;\n",
              "  }\n",
              "\n",
              "  .colab-df-quickchart {\n",
              "    background-color: var(--bg-color);\n",
              "    border: none;\n",
              "    border-radius: 50%;\n",
              "    cursor: pointer;\n",
              "    display: none;\n",
              "    fill: var(--fill-color);\n",
              "    height: 32px;\n",
              "    padding: 0;\n",
              "    width: 32px;\n",
              "  }\n",
              "\n",
              "  .colab-df-quickchart:hover {\n",
              "    background-color: var(--hover-bg-color);\n",
              "    box-shadow: 0 1px 2px rgba(60, 64, 67, 0.3), 0 1px 3px 1px rgba(60, 64, 67, 0.15);\n",
              "    fill: var(--button-hover-fill-color);\n",
              "  }\n",
              "\n",
              "  .colab-df-quickchart-complete:disabled,\n",
              "  .colab-df-quickchart-complete:disabled:hover {\n",
              "    background-color: var(--disabled-bg-color);\n",
              "    fill: var(--disabled-fill-color);\n",
              "    box-shadow: none;\n",
              "  }\n",
              "\n",
              "  .colab-df-spinner {\n",
              "    border: 2px solid var(--fill-color);\n",
              "    border-color: transparent;\n",
              "    border-bottom-color: var(--fill-color);\n",
              "    animation:\n",
              "      spin 1s steps(1) infinite;\n",
              "  }\n",
              "\n",
              "  @keyframes spin {\n",
              "    0% {\n",
              "      border-color: transparent;\n",
              "      border-bottom-color: var(--fill-color);\n",
              "      border-left-color: var(--fill-color);\n",
              "    }\n",
              "    20% {\n",
              "      border-color: transparent;\n",
              "      border-left-color: var(--fill-color);\n",
              "      border-top-color: var(--fill-color);\n",
              "    }\n",
              "    30% {\n",
              "      border-color: transparent;\n",
              "      border-left-color: var(--fill-color);\n",
              "      border-top-color: var(--fill-color);\n",
              "      border-right-color: var(--fill-color);\n",
              "    }\n",
              "    40% {\n",
              "      border-color: transparent;\n",
              "      border-right-color: var(--fill-color);\n",
              "      border-top-color: var(--fill-color);\n",
              "    }\n",
              "    60% {\n",
              "      border-color: transparent;\n",
              "      border-right-color: var(--fill-color);\n",
              "    }\n",
              "    80% {\n",
              "      border-color: transparent;\n",
              "      border-right-color: var(--fill-color);\n",
              "      border-bottom-color: var(--fill-color);\n",
              "    }\n",
              "    90% {\n",
              "      border-color: transparent;\n",
              "      border-bottom-color: var(--fill-color);\n",
              "    }\n",
              "  }\n",
              "</style>\n",
              "\n",
              "  <script>\n",
              "    async function quickchart(key) {\n",
              "      const quickchartButtonEl =\n",
              "        document.querySelector('#' + key + ' button');\n",
              "      quickchartButtonEl.disabled = true;  // To prevent multiple clicks.\n",
              "      quickchartButtonEl.classList.add('colab-df-spinner');\n",
              "      try {\n",
              "        const charts = await google.colab.kernel.invokeFunction(\n",
              "            'suggestCharts', [key], {});\n",
              "      } catch (error) {\n",
              "        console.error('Error during call to suggestCharts:', error);\n",
              "      }\n",
              "      quickchartButtonEl.classList.remove('colab-df-spinner');\n",
              "      quickchartButtonEl.classList.add('colab-df-quickchart-complete');\n",
              "    }\n",
              "    (() => {\n",
              "      let quickchartButtonEl =\n",
              "        document.querySelector('#df-6aface3b-b0a9-444a-aa0b-13b327b244b7 button');\n",
              "      quickchartButtonEl.style.display =\n",
              "        google.colab.kernel.accessAllowed ? 'block' : 'none';\n",
              "    })();\n",
              "  </script>\n",
              "</div>\n",
              "\n",
              "  <div id=\"id_24db2a38-e396-4ebf-9122-3b9c69821678\">\n",
              "    <style>\n",
              "      .colab-df-generate {\n",
              "        background-color: #E8F0FE;\n",
              "        border: none;\n",
              "        border-radius: 50%;\n",
              "        cursor: pointer;\n",
              "        display: none;\n",
              "        fill: #1967D2;\n",
              "        height: 32px;\n",
              "        padding: 0 0 0 0;\n",
              "        width: 32px;\n",
              "      }\n",
              "\n",
              "      .colab-df-generate:hover {\n",
              "        background-color: #E2EBFA;\n",
              "        box-shadow: 0px 1px 2px rgba(60, 64, 67, 0.3), 0px 1px 3px 1px rgba(60, 64, 67, 0.15);\n",
              "        fill: #174EA6;\n",
              "      }\n",
              "\n",
              "      [theme=dark] .colab-df-generate {\n",
              "        background-color: #3B4455;\n",
              "        fill: #D2E3FC;\n",
              "      }\n",
              "\n",
              "      [theme=dark] .colab-df-generate:hover {\n",
              "        background-color: #434B5C;\n",
              "        box-shadow: 0px 1px 3px 1px rgba(0, 0, 0, 0.15);\n",
              "        filter: drop-shadow(0px 1px 2px rgba(0, 0, 0, 0.3));\n",
              "        fill: #FFFFFF;\n",
              "      }\n",
              "    </style>\n",
              "    <button class=\"colab-df-generate\" onclick=\"generateWithVariable('def_res')\"\n",
              "            title=\"Generate code using this dataframe.\"\n",
              "            style=\"display:none;\">\n",
              "\n",
              "  <svg xmlns=\"http://www.w3.org/2000/svg\" height=\"24px\"viewBox=\"0 0 24 24\"\n",
              "       width=\"24px\">\n",
              "    <path d=\"M7,19H8.4L18.45,9,17,7.55,7,17.6ZM5,21V16.75L18.45,3.32a2,2,0,0,1,2.83,0l1.4,1.43a1.91,1.91,0,0,1,.58,1.4,1.91,1.91,0,0,1-.58,1.4L9.25,21ZM18.45,9,17,7.55Zm-12,3A5.31,5.31,0,0,0,4.9,8.1,5.31,5.31,0,0,0,1,6.5,5.31,5.31,0,0,0,4.9,4.9,5.31,5.31,0,0,0,6.5,1,5.31,5.31,0,0,0,8.1,4.9,5.31,5.31,0,0,0,12,6.5,5.46,5.46,0,0,0,6.5,12Z\"/>\n",
              "  </svg>\n",
              "    </button>\n",
              "    <script>\n",
              "      (() => {\n",
              "      const buttonEl =\n",
              "        document.querySelector('#id_24db2a38-e396-4ebf-9122-3b9c69821678 button.colab-df-generate');\n",
              "      buttonEl.style.display =\n",
              "        google.colab.kernel.accessAllowed ? 'block' : 'none';\n",
              "\n",
              "      buttonEl.onclick = () => {\n",
              "        google.colab.notebook.generateWithVariable('def_res');\n",
              "      }\n",
              "      })();\n",
              "    </script>\n",
              "  </div>\n",
              "\n",
              "    </div>\n",
              "  </div>\n"
            ]
          },
          "metadata": {},
          "execution_count": 85
        }
      ]
    },
    {
      "cell_type": "markdown",
      "source": [
        "# 9.&nbsp; References"
      ],
      "metadata": {
        "id": "Uj2PuKwtr_XS"
      }
    },
    {
      "cell_type": "markdown",
      "source": [
        "\n",
        "*   [1] Module ktrain.text, https://amaiya.github.io/ktrain/text/index.html#ktrain.text.texts_from_df\n",
        "*   [2] Package ktrain, https://amaiya.github.io/ktrain/index.html\n",
        "*   [3] Module ktrain.predictor, https://amaiya.github.io/ktrain/predictor.html#ktrain.predictor.Predictor"
      ],
      "metadata": {
        "id": "hygYI9rdxlTw"
      }
    },
    {
      "cell_type": "code",
      "source": [],
      "metadata": {
        "id": "2CICM66DiiwE"
      },
      "execution_count": null,
      "outputs": []
    }
  ]
}